{
 "cells": [
  {
   "cell_type": "markdown",
   "id": "f843cc9c0eec1443",
   "metadata": {},
   "source": [
    "# Arcgis Pro -- Export 3D Objects\n",
    "\n",
    "|             Tool             |                                                    Description                                                     |\n",
    "|:----------------------------:|:------------------------------------------------------------------------------------------------------------------:|\n",
    "| Add 3D Formats To Multipatch | Converts a multipatch to a 3D object feature layer by linking the feature class with one or more 3D model formats. |\n",
    "|      Export 3D Objects       |                          Exports 3D object features to one or more 3D model file formats.                          |\n",
    "\n"
   ]
  },
  {
   "cell_type": "code",
   "execution_count": 2,
   "id": "initial_id",
   "metadata": {
    "ExecuteTime": {
     "end_time": "2025-04-14T20:44:57.513328Z",
     "start_time": "2025-04-14T20:44:54.869402Z"
    },
    "collapsed": true
   },
   "outputs": [],
   "source": [
    "import arcpy\n",
    "import os"
   ]
  },
  {
   "cell_type": "markdown",
   "id": "6195d9d49f24a6e4",
   "metadata": {},
   "source": [
    "### Add 3D Formats To Multipatch (Data Management)\n",
    "#### 1. Summary\n",
    "Converts a multipatch to a 3D object feature layer by linking the feature class with one or more 3D model formats."
   ]
  },
  {
   "cell_type": "code",
   "execution_count": 3,
   "id": "cfc86c3f960e9364",
   "metadata": {
    "ExecuteTime": {
     "end_time": "2025-04-14T20:45:01.242125Z",
     "start_time": "2025-04-14T20:45:01.147707Z"
    }
   },
   "outputs": [],
   "source": [
    "arcpy.env.workspace = r'C:\\Users\\12617\\Desktop\\BuildingWorld\\Edmonton\\3dBuildings.gdb'"
   ]
  },
  {
   "cell_type": "code",
   "execution_count": 4,
   "id": "96210c8994fa3cbb",
   "metadata": {
    "ExecuteTime": {
     "end_time": "2025-04-14T20:45:02.088793Z",
     "start_time": "2025-04-14T20:45:01.870172Z"
    }
   },
   "outputs": [
    {
     "name": "stdout",
     "output_type": "stream",
     "text": [
      "['Building_MP_Merge']\n"
     ]
    }
   ],
   "source": [
    "print(arcpy.ListFeatureClasses())\n",
    "# desc = arcpy.Describe('ShapeFile')\n",
    "# print(desc.shapeType) "
   ]
  },
  {
   "cell_type": "code",
   "execution_count": 5,
   "id": "73de0049f55434cf",
   "metadata": {
    "ExecuteTime": {
     "end_time": "2025-04-14T20:46:42.995333Z",
     "start_time": "2025-04-14T20:46:08.740859Z"
    }
   },
   "outputs": [
    {
     "data": {
      "text/html": [
       "<div class='gpresult'><h2 class='msg-title'>Messages</h2><div id='messages'>Start Time: April 14, 2025 3:22:45 PM<br>Succeeded at April 15, 2025 12:06:05 AM (Elapsed Time: 8 hours 43 minutes 20 seconds)<br></div><div id = 'default' /></div></div>"
      ],
      "text/plain": [
       "<Result 'C:\\\\Users\\\\12617\\\\Desktop\\\\BuildingWorld\\\\Edmonton\\\\3dBuildings.gdb\\\\Building_MP_Merge'>"
      ]
     },
     "execution_count": 5,
     "metadata": {},
     "output_type": "execute_result"
    }
   ],
   "source": [
    "arcpy.management.Add3DFormats('Building_MP_Merge', 'MULTIPATCH_WITH_MATERIALS', \n",
    "                              ['FMT3D_OBJ'])"
   ]
  },
  {
   "cell_type": "code",
   "execution_count": null,
   "id": "75dd15caf799e808",
   "metadata": {},
   "outputs": [
    {
     "ename": "TypeError",
     "evalue": "Describe() missing 1 required positional argument: 'value'",
     "output_type": "error",
     "traceback": [
      "\u001b[1;31m---------------------------------------------------------------------------\u001b[0m",
      "\u001b[1;31mTypeError\u001b[0m                                 Traceback (most recent call last)",
      "Cell \u001b[1;32mIn[7], line 1\u001b[0m\n\u001b[1;32m----> 1\u001b[0m desc \u001b[38;5;241m=\u001b[39m arcpy\u001b[38;5;241m.\u001b[39mDescribe()\n\u001b[0;32m      2\u001b[0m \u001b[38;5;28mprint\u001b[39m(desc\u001b[38;5;241m.\u001b[39mshapeType)\n\u001b[0;32m      4\u001b[0m \u001b[38;5;66;03m# 仍然持有引用，建议用完就清理\u001b[39;00m\n",
      "\u001b[1;31mTypeError\u001b[0m: Describe() missing 1 required positional argument: 'value'"
     ]
    }
   ],
   "source": []
  },
  {
   "cell_type": "code",
   "execution_count": null,
   "id": "637a872e",
   "metadata": {},
   "outputs": [],
   "source": []
  },
  {
   "cell_type": "code",
   "execution_count": null,
   "id": "d92ba0dd",
   "metadata": {},
   "outputs": [],
   "source": []
  }
 ],
 "metadata": {
  "kernelspec": {
   "display_name": "Python 3",
   "language": "python",
   "name": "python3"
  },
  "language_info": {
   "codemirror_mode": {
    "name": "ipython",
    "version": 3
   },
   "file_extension": ".py",
   "mimetype": "text/x-python",
   "name": "python",
   "nbconvert_exporter": "python",
   "pygments_lexer": "ipython3",
   "version": "3.11.10"
  }
 },
 "nbformat": 4,
 "nbformat_minor": 5
}
