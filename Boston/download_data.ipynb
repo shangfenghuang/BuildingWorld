{
 "cells": [
  {
   "metadata": {},
   "cell_type": "markdown",
   "source": [
    "# Boston City model\n",
    "https://www.bostonplans.org/3d-data-maps/3d-smart-model/3d-data-download\n",
    "\n",
    "Download data using python code"
   ],
   "id": "9fab674ef2c43704"
  },
  {
   "cell_type": "code",
   "id": "initial_id",
   "metadata": {
    "collapsed": true
   },
   "source": [
    "import requests\n",
    "import string\n",
    "from urllib.parse import urlparse\n",
    "import os\n",
    "import zipfile\n",
    "import shutil"
   ],
   "outputs": [],
   "execution_count": null
  },
  {
   "metadata": {},
   "cell_type": "code",
   "source": [
    "letters = list(string.ascii_uppercase[:15])\n",
    "numbers = range(1, 14)"
   ],
   "id": "f691ca7884d8979f",
   "outputs": [],
   "execution_count": null
  },
  {
   "metadata": {},
   "cell_type": "code",
   "source": [
    "output_folder = r'G:\\BuildingWorld\\NorthA\\Boston\\data'\n",
    "for letter in letters:\n",
    "    for number in numbers:\n",
    "        url = f\"https://maps.bostonplans.org/3d/Bos3d_BldgModels_20250128_OBJ/BOS_{letter}_{number}_BldgModels_OBJ.zip\"\n",
    "        response = requests.head(url, allow_redirects=True, timeout=10)\n",
    "        if response.status_code == 200:\n",
    "            filename = os.path.basename(urlparse(url).path)\n",
    "            response = requests.get(url)\n",
    "\n",
    "            with open(os.path.join(output_folder, filename), 'wb') as f:\n",
    "                f.write(response.content)\n",
    "            print(filename)\n",
    "        else:\n",
    "            continue"
   ],
   "id": "4ff639e916a3fdc7",
   "outputs": [],
   "execution_count": null
  },
  {
   "metadata": {},
   "cell_type": "code",
   "source": [
    "\n",
    "# 获取当前目录\n",
    "current_dir = r'G:\\BuildingWorld\\NorthA\\Boston\\data'\n",
    "\n",
    "# 遍历所有 .zip 文件\n",
    "for filename in os.listdir(current_dir):\n",
    "    if filename.endswith(\".zip\"):\n",
    "        zip_path = os.path.join(current_dir, filename)\n",
    "        folder_name = filename[:-4]  # 去掉 .zip 后缀\n",
    "        output_dir = os.path.join(current_dir, folder_name)\n",
    "\n",
    "        # 创建目标文件夹（如果不存在）\n",
    "        os.makedirs(output_dir, exist_ok=True)\n",
    "\n",
    "        # 解压文件\n",
    "        with zipfile.ZipFile(zip_path, 'r') as zip_ref:\n",
    "            zip_ref.extractall(output_dir)\n",
    "\n",
    "        print(f\"已解压 {filename} 到 {folder_name}/\")\n",
    "\n"
   ],
   "id": "5060a069be7207a3",
   "outputs": [],
   "execution_count": null
  },
  {
   "metadata": {},
   "cell_type": "code",
   "source": [
    "current_dir = r'G:\\BuildingWorld\\NorthA\\Boston\\data'\n",
    "\n",
    "for file in os.listdir(current_dir):\n",
    "    obj_folder = os.path.join(current_dir, file)\n",
    "    if os.path.isdir(obj_folder):\n",
    "        obj = os.path.join(obj_folder, 'objz')\n",
    "\n",
    "        for filename in os.listdir(obj):\n",
    "            if filename.endswith(\".zip\"):\n",
    "                zip_path = os.path.join(obj, filename)\n",
    "                folder_name = filename[:-4]  # 去掉 .zip 后缀\n",
    "                output_dir = os.path.join(obj, folder_name)\n",
    "\n",
    "                # 创建目标文件夹（如果不存在）\n",
    "                os.makedirs(output_dir, exist_ok=True)\n",
    "\n",
    "                # 解压文件\n",
    "                with zipfile.ZipFile(zip_path, 'r') as zip_ref:\n",
    "                    zip_ref.extractall(output_dir)\n",
    "\n",
    "                print(f\"已解压 {filename} 到 {obj}/\")\n",
    "\n"
   ],
   "id": "5fa594fd17541c60",
   "outputs": [],
   "execution_count": null
  },
  {
   "metadata": {},
   "cell_type": "markdown",
   "source": "### 2. move all the data into one folder",
   "id": "8ab1ebeb69f4cdd2"
  },
  {
   "metadata": {
    "jupyter": {
     "is_executing": true
    }
   },
   "cell_type": "code",
   "source": [
    "Boston_data_folder = r'G:\\BuildingWorld\\NorthA\\Boston\\data'\n",
    "\n",
    "obj_folder = r'G:\\BuildingWorld\\NorthA\\Boston\\obj'\n",
    "\n",
    "for file in os.listdir(Boston_data_folder):\n",
    "    Boston_data_obj_folder = os.path.join(Boston_data_folder, file)\n",
    "    if os.path.isdir(Boston_data_obj_folder):\n",
    "        obj = os.path.join(Boston_data_obj_folder, 'objz')\n",
    "        for filename in os.listdir(obj):\n",
    "            if not filename.endswith(\".zip\"):\n",
    "                obj_file = os.path.join(obj, filename, filename[:-4]+'.obj')\n",
    "                output_file = os.path.join(obj_folder, filename[:-4]+'.obj')\n",
    "                try:\n",
    "                    shutil.copy(obj_file, output_file)\n",
    "                except Exception as e:\n",
    "                    print(obj_file)\n",
    "        # print(file)"
   ],
   "id": "301b2dfcfba8e119",
   "outputs": [],
   "execution_count": null
  },
  {
   "metadata": {},
   "cell_type": "code",
   "source": "",
   "id": "8c5c99ef24ebd60b",
   "outputs": [],
   "execution_count": null
  }
 ],
 "metadata": {
  "kernelspec": {
   "display_name": "Python 3",
   "language": "python",
   "name": "python3"
  },
  "language_info": {
   "codemirror_mode": {
    "name": "ipython",
    "version": 2
   },
   "file_extension": ".py",
   "mimetype": "text/x-python",
   "name": "python",
   "nbconvert_exporter": "python",
   "pygments_lexer": "ipython2",
   "version": "2.7.6"
  }
 },
 "nbformat": 4,
 "nbformat_minor": 5
}
