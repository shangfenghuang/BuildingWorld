{
 "cells": [
  {
   "metadata": {},
   "cell_type": "markdown",
   "source": [
    "# Boston City model\n",
    "https://www.bostonplans.org/3d-data-maps/3d-smart-model/3d-data-download\n",
    "\n",
    "Download data using python code"
   ],
   "id": "9fab674ef2c43704"
  },
  {
   "cell_type": "code",
   "id": "initial_id",
   "metadata": {
    "collapsed": true,
    "ExecuteTime": {
     "end_time": "2025-05-13T06:11:06.627509Z",
     "start_time": "2025-05-13T06:11:06.551938Z"
    }
   },
   "source": [
    "import requests\n",
    "import string\n",
    "from urllib.parse import urlparse\n",
    "import os"
   ],
   "outputs": [],
   "execution_count": 1
  },
  {
   "metadata": {
    "ExecuteTime": {
     "end_time": "2025-05-13T06:11:07.334842Z",
     "start_time": "2025-05-13T06:11:07.324333Z"
    }
   },
   "cell_type": "code",
   "source": [
    "letters = list(string.ascii_uppercase[:15])\n",
    "numbers = range(1, 14)"
   ],
   "id": "f691ca7884d8979f",
   "outputs": [],
   "execution_count": 2
  },
  {
   "metadata": {
    "ExecuteTime": {
     "end_time": "2025-05-13T06:22:57.300400Z",
     "start_time": "2025-05-13T06:11:08.481065Z"
    }
   },
   "cell_type": "code",
   "source": [
    "output_folder = r'G:\\BuildingWorld\\Boston\\data'\n",
    "for letter in letters:\n",
    "    for number in numbers:\n",
    "        url = f\"https://maps.bostonplans.org/3d/Bos3d_BldgModels_20250128_OBJ/BOS_{letter}_{number}_BldgModels_OBJ.zip\"\n",
    "        response = requests.head(url, allow_redirects=True, timeout=10)\n",
    "        if response.status_code == 200:\n",
    "            filename = os.path.basename(urlparse(url).path)\n",
    "            response = requests.get(url)\n",
    "\n",
    "            with open(os.path.join(output_folder, filename), 'wb') as f:\n",
    "                f.write(response.content)\n",
    "            print(filename)\n",
    "        else:\n",
    "            continue"
   ],
   "id": "4ff639e916a3fdc7",
   "outputs": [
    {
     "name": "stdout",
     "output_type": "stream",
     "text": [
      "BOS_A_10_BldgModels_OBJ.zip\n",
      "BOS_B_4_BldgModels_OBJ.zip\n",
      "BOS_B_5_BldgModels_OBJ.zip\n",
      "BOS_B_6_BldgModels_OBJ.zip\n",
      "BOS_B_8_BldgModels_OBJ.zip\n",
      "BOS_B_9_BldgModels_OBJ.zip\n",
      "BOS_B_10_BldgModels_OBJ.zip\n",
      "BOS_B_11_BldgModels_OBJ.zip\n",
      "BOS_C_4_BldgModels_OBJ.zip\n",
      "BOS_C_5_BldgModels_OBJ.zip\n",
      "BOS_C_6_BldgModels_OBJ.zip\n",
      "BOS_C_8_BldgModels_OBJ.zip\n",
      "BOS_C_9_BldgModels_OBJ.zip\n",
      "BOS_C_10_BldgModels_OBJ.zip\n",
      "BOS_C_11_BldgModels_OBJ.zip\n",
      "BOS_D_3_BldgModels_OBJ.zip\n",
      "BOS_D_4_BldgModels_OBJ.zip\n",
      "BOS_D_5_BldgModels_OBJ.zip\n",
      "BOS_D_6_BldgModels_OBJ.zip\n",
      "BOS_D_7_BldgModels_OBJ.zip\n",
      "BOS_D_8_BldgModels_OBJ.zip\n",
      "BOS_D_9_BldgModels_OBJ.zip\n",
      "BOS_D_10_BldgModels_OBJ.zip\n",
      "BOS_D_11_BldgModels_OBJ.zip\n",
      "BOS_D_12_BldgModels_OBJ.zip\n",
      "BOS_D_13_BldgModels_OBJ.zip\n",
      "BOS_E_3_BldgModels_OBJ.zip\n",
      "BOS_E_4_BldgModels_OBJ.zip\n",
      "BOS_E_5_BldgModels_OBJ.zip\n",
      "BOS_E_6_BldgModels_OBJ.zip\n",
      "BOS_E_7_BldgModels_OBJ.zip\n",
      "BOS_E_8_BldgModels_OBJ.zip\n",
      "BOS_E_9_BldgModels_OBJ.zip\n",
      "BOS_E_10_BldgModels_OBJ.zip\n",
      "BOS_E_11_BldgModels_OBJ.zip\n",
      "BOS_E_12_BldgModels_OBJ.zip\n",
      "BOS_E_13_BldgModels_OBJ.zip\n",
      "BOS_F_4_BldgModels_OBJ.zip\n",
      "BOS_F_5_BldgModels_OBJ.zip\n",
      "BOS_F_6_BldgModels_OBJ.zip\n",
      "BOS_F_7_BldgModels_OBJ.zip\n",
      "BOS_F_8_BldgModels_OBJ.zip\n",
      "BOS_F_9_BldgModels_OBJ.zip\n",
      "BOS_F_10_BldgModels_OBJ.zip\n",
      "BOS_F_11_BldgModels_OBJ.zip\n",
      "BOS_F_12_BldgModels_OBJ.zip\n",
      "BOS_G_2_BldgModels_OBJ.zip\n",
      "BOS_G_4_BldgModels_OBJ.zip\n",
      "BOS_G_5_BldgModels_OBJ.zip\n",
      "BOS_G_6_BldgModels_OBJ.zip\n",
      "BOS_G_7_BldgModels_OBJ.zip\n",
      "BOS_G_8_BldgModels_OBJ.zip\n",
      "BOS_G_9_BldgModels_OBJ.zip\n",
      "BOS_G_10_BldgModels_OBJ.zip\n",
      "BOS_G_11_BldgModels_OBJ.zip\n",
      "BOS_H_2_BldgModels_OBJ.zip\n",
      "BOS_H_3_BldgModels_OBJ.zip\n",
      "BOS_H_4_BldgModels_OBJ.zip\n",
      "BOS_H_5_BldgModels_OBJ.zip\n",
      "BOS_H_6_BldgModels_OBJ.zip\n",
      "BOS_H_7_BldgModels_OBJ.zip\n",
      "BOS_H_8_BldgModels_OBJ.zip\n",
      "BOS_H_9_BldgModels_OBJ.zip\n",
      "BOS_H_10_BldgModels_OBJ.zip\n",
      "BOS_H_11_BldgModels_OBJ.zip\n",
      "BOS_I_2_BldgModels_OBJ.zip\n",
      "BOS_I_3_BldgModels_OBJ.zip\n",
      "BOS_I_4_BldgModels_OBJ.zip\n",
      "BOS_I_5_BldgModels_OBJ.zip\n",
      "BOS_I_6_BldgModels_OBJ.zip\n",
      "BOS_I_7_BldgModels_OBJ.zip\n",
      "BOS_I_8_BldgModels_OBJ.zip\n",
      "BOS_I_9_BldgModels_OBJ.zip\n",
      "BOS_I_10_BldgModels_OBJ.zip\n",
      "BOS_J_2_BldgModels_OBJ.zip\n",
      "BOS_J_3_BldgModels_OBJ.zip\n",
      "BOS_J_4_BldgModels_OBJ.zip\n",
      "BOS_J_5_BldgModels_OBJ.zip\n",
      "BOS_J_6_BldgModels_OBJ.zip\n",
      "BOS_J_7_BldgModels_OBJ.zip\n",
      "BOS_J_9_BldgModels_OBJ.zip\n",
      "BOS_K_1_BldgModels_OBJ.zip\n",
      "BOS_K_2_BldgModels_OBJ.zip\n",
      "BOS_K_3_BldgModels_OBJ.zip\n",
      "BOS_K_4_BldgModels_OBJ.zip\n",
      "BOS_K_5_BldgModels_OBJ.zip\n",
      "BOS_K_6_BldgModels_OBJ.zip\n",
      "BOS_K_7_BldgModels_OBJ.zip\n",
      "BOS_L_1_BldgModels_OBJ.zip\n",
      "BOS_L_2_BldgModels_OBJ.zip\n",
      "BOS_L_4_BldgModels_OBJ.zip\n",
      "BOS_L_6_BldgModels_OBJ.zip\n",
      "BOS_L_7_BldgModels_OBJ.zip\n",
      "BOS_M_4_BldgModels_OBJ.zip\n",
      "BOS_M_6_BldgModels_OBJ.zip\n",
      "BOS_M_7_BldgModels_OBJ.zip\n",
      "BOS_N_4_BldgModels_OBJ.zip\n",
      "BOS_N_5_BldgModels_OBJ.zip\n",
      "BOS_N_6_BldgModels_OBJ.zip\n",
      "BOS_N_7_BldgModels_OBJ.zip\n",
      "BOS_O_6_BldgModels_OBJ.zip\n",
      "BOS_O_7_BldgModels_OBJ.zip\n"
     ]
    }
   ],
   "execution_count": 3
  },
  {
   "metadata": {},
   "cell_type": "code",
   "outputs": [],
   "execution_count": null,
   "source": "",
   "id": "5060a069be7207a3"
  }
 ],
 "metadata": {
  "kernelspec": {
   "display_name": "Python 3",
   "language": "python",
   "name": "python3"
  },
  "language_info": {
   "codemirror_mode": {
    "name": "ipython",
    "version": 2
   },
   "file_extension": ".py",
   "mimetype": "text/x-python",
   "name": "python",
   "nbconvert_exporter": "python",
   "pygments_lexer": "ipython2",
   "version": "2.7.6"
  }
 },
 "nbformat": 4,
 "nbformat_minor": 5
}
