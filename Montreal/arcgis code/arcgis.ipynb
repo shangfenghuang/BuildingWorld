{
 "cells": [
  {
   "cell_type": "markdown",
   "id": "f843cc9c0eec1443",
   "metadata": {},
   "source": [
    "# Arcgis Pro -- Export 3D Objects\n",
    "\n",
    "|             Tool             |                                                    Description                                                     |\n",
    "|:----------------------------:|:------------------------------------------------------------------------------------------------------------------:|\n",
    "| Add 3D Formats To Multipatch | Converts a multipatch to a 3D object feature layer by linking the feature class with one or more 3D model formats. |\n",
    "|      Export 3D Objects       |                          Exports 3D object features to one or more 3D model file formats.                          |\n",
    "\n"
   ]
  },
  {
   "cell_type": "code",
   "id": "initial_id",
   "metadata": {
    "collapsed": true,
    "ExecuteTime": {
     "end_time": "2025-04-24T17:46:17.294074Z",
     "start_time": "2025-04-24T17:46:14.480007Z"
    }
   },
   "source": [
    "import arcpy\n",
    "import os\n",
    "\n",
    "from concurrent.futures import ThreadPoolExecutor, as_completed\n",
    "from tqdm import tqdm"
   ],
   "outputs": [],
   "execution_count": 1
  },
  {
   "cell_type": "markdown",
   "id": "6195d9d49f24a6e4",
   "metadata": {},
   "source": [
    "### Add 3D Formats To Multipatch (Data Management)\n",
    "#### 1. Summary\n",
    "Converts a multipatch to a 3D object feature layer by linking the feature class with one or more 3D model formats."
   ]
  },
  {
   "metadata": {
    "ExecuteTime": {
     "end_time": "2025-04-24T17:43:27.457891Z",
     "start_time": "2025-04-24T17:43:27.347908Z"
    }
   },
   "cell_type": "code",
   "source": "arcpy.env.workspace = r'E:\\BuildingWorld\\Montreal\\cdnndg01_2016_gdb_01_12\\CDNNDG01_2016_GDB_01_12\\CDNNDG01_2016.gdb'",
   "id": "a249d6af7ac48fba",
   "outputs": [],
   "execution_count": 2
  },
  {
   "cell_type": "code",
   "id": "96210c8994fa3cbb",
   "metadata": {
    "ExecuteTime": {
     "end_time": "2025-04-24T17:13:08.993303Z",
     "start_time": "2025-04-24T17:13:08.860990Z"
    }
   },
   "source": [
    "print(arcpy.ListFeatureClasses())\n",
    "print(arcpy.ListFeatureClasses(feature_type=\"Polygon\"))\n",
    "print(arcpy.ListFeatureClasses(wild_card=\"Building*\"))\n",
    "# desc = arcpy.Describe('ShapeFile')\n",
    "# print(desc.shapeType)\n",
    "print()"
   ],
   "outputs": [
    {
     "name": "stdout",
     "output_type": "stream",
     "text": [
      "['GroundSurface_surface', 'WallSurface_surface', 'RoofSurface_surface', 'Building_surface']\n",
      "[]\n",
      "['Building_surface']\n",
      "\n"
     ]
    }
   ],
   "execution_count": 8
  },
  {
   "metadata": {
    "ExecuteTime": {
     "end_time": "2025-04-24T16:14:41.789861Z",
     "start_time": "2025-04-24T16:14:41.729461Z"
    }
   },
   "cell_type": "code",
   "source": [
    "feature_classes = arcpy.ListFeatureClasses()\n",
    "print(feature_classes)"
   ],
   "id": "b85e439226a37c30",
   "outputs": [
    {
     "name": "stdout",
     "output_type": "stream",
     "text": [
      "['GroundSurface_surface', 'WallSurface_surface', 'RoofSurface_surface', 'Building_surface']\n"
     ]
    }
   ],
   "execution_count": 4
  },
  {
   "metadata": {
    "ExecuteTime": {
     "end_time": "2025-04-24T04:13:30.663172Z",
     "start_time": "2025-04-24T04:13:25.295871Z"
    }
   },
   "cell_type": "code",
   "source": [
    "workspace = r'E:\\BuildingWorld\\Montreal\\cdnndg01_2016_gdb_01_12\\CDNNDG01_2016_GDB_01_12'\n",
    "for gdb_file in os.listdir(workspace):\n",
    "    arcpy.env.workspace = os.path.join(workspace, gdb_file)\n",
    "    if arcpy.env.workspace.endswith('.zip'):\n",
    "        continue\n",
    "    feature_classes = arcpy.ListFeatureClasses()\n",
    "    print(gdb_file)\n",
    "    print(feature_classes)"
   ],
   "id": "cbce1df6ffbddf98",
   "outputs": [
    {
     "name": "stdout",
     "output_type": "stream",
     "text": [
      "CDNNDG01_2016.gdb\n",
      "['GroundSurface_surface', 'WallSurface_surface', 'RoofSurface_surface', 'Building_surface']\n",
      "CDNNDG02_2016.gdb\n",
      "['GroundSurface_surface', 'WallSurface_surface', 'RoofSurface_surface', 'Building_surface']\n",
      "CDNNDG03_2016.gdb\n",
      "['GroundSurface_surface', 'WallSurface_surface', 'RoofSurface_surface', 'Building_surface']\n",
      "CDNNDG04_2016.gdb\n",
      "['GroundSurface_surface', 'WallSurface_surface', 'RoofSurface_surface', 'Building_surface']\n",
      "CDNNDG05_2016.gdb\n",
      "['GroundSurface_surface', 'WallSurface_surface', 'RoofSurface_surface', 'Building_surface']\n",
      "CDNNDG06_2016.gdb\n",
      "['GroundSurface_surface', 'WallSurface_surface', 'RoofSurface_surface', 'Building_surface']\n",
      "CDNNDG07_2016.gdb\n",
      "['GroundSurface_surface', 'WallSurface_surface', 'RoofSurface_surface', 'Building_surface']\n",
      "CDNNDG08_2016.gdb\n",
      "['GroundSurface_surface', 'WallSurface_surface', 'RoofSurface_surface', 'Building_surface']\n",
      "CDNNDG09_2016.gdb\n",
      "['RoofSurface_surface', 'WallSurface_surface', 'GroundSurface_surface', 'Building_surface']\n",
      "CDNNDG10_2016.gdb\n",
      "['GroundSurface_surface', 'WallSurface_surface', 'RoofSurface_surface', 'Building_surface']\n",
      "CDNNDG11_2016.gdb\n",
      "['GroundSurface_surface', 'WallSurface_surface', 'RoofSurface_surface', 'Building_surface']\n",
      "CDNNDG12_2016.gdb\n",
      "['RoofSurface_surface', 'WallSurface_surface', 'GroundSurface_surface', 'Building_surface']\n"
     ]
    }
   ],
   "execution_count": 7
  },
  {
   "metadata": {
    "ExecuteTime": {
     "end_time": "2025-04-24T05:44:04.041272Z",
     "start_time": "2025-04-24T04:32:10.216834Z"
    }
   },
   "cell_type": "code",
   "source": [
    "Montreal = r'E:\\BuildingWorld\\Montreal'\n",
    "for gdb_folders in os.listdir(Montreal):\n",
    "    if gdb_folders.endswith('.zip') or gdb_folders == 'arcgis':\n",
    "        continue\n",
    "    gdb_folder = os.path.join(Montreal, gdb_folders)\n",
    "    for folder in os.listdir(gdb_folder):\n",
    "        workspace = os.path.join(gdb_folder, folder)\n",
    "        for gdb_file in os.listdir(workspace):\n",
    "            arcpy.env.workspace = os.path.join(workspace, gdb_file)\n",
    "            if arcpy.env.workspace.endswith('.zip'):\n",
    "                continue\n",
    "            feature_classes = arcpy.ListFeatureClasses()\n",
    "            print(gdb_file)\n",
    "            arcpy.management.Add3DFormats(\n",
    "                in_features=\"Building_surface\",\n",
    "                multipatch_materials=\"MULTIPATCH_WITHOUT_MATERIALS\",\n",
    "                formats=\"FMT3D_OBJ\"\n",
    "            )\n",
    "            # print(arcpy.env.workspace)\n",
    "            # print(feature_classes)"
   ],
   "id": "21394b7cf3c3d4d6",
   "outputs": [
    {
     "name": "stdout",
     "output_type": "stream",
     "text": [
      "CDNNDG01_2016.gdb\n",
      "CDNNDG02_2016.gdb\n",
      "CDNNDG03_2016.gdb\n",
      "CDNNDG04_2016.gdb\n",
      "CDNNDG05_2016.gdb\n",
      "CDNNDG06_2016.gdb\n",
      "CDNNDG07_2016.gdb\n",
      "CDNNDG08_2016.gdb\n",
      "CDNNDG09_2016.gdb\n",
      "CDNNDG10_2016.gdb\n",
      "CDNNDG11_2016.gdb\n",
      "CDNNDG12_2016.gdb\n",
      "CDNNDG13_2016.gdb\n",
      "CDNNDG14_2016.gdb\n",
      "CDNNDG15_2016.gdb\n",
      "CDNNDG16_2016.gdb\n",
      "CDNNDG17_2016.gdb\n",
      "CDNNDG18_2016.gdb\n",
      "CDNNDG19_2016.gdb\n",
      "CDNNDG20_2016.gdb\n",
      "CDNNDG21_2016.gdb\n",
      "O01_2016.gdb\n",
      "O02_2016.gdb\n",
      "O03_2016.gdb\n",
      "PMR01_2016.gdb\n",
      "PMR02_2016.gdb\n",
      "PMR03_2016.gdb\n",
      "PMR04_2016.gdb\n",
      "PMR05_2016.gdb\n",
      "PMR06_2016.gdb\n",
      "PMR07_2016.gdb\n",
      "PMR08_2016.gdb\n",
      "PMR09_2016.gdb\n",
      "PMR10_2016.gdb\n",
      "PMR11_2016.gdb\n",
      "SO01_2016.gdb\n",
      "SO02_2016.gdb\n",
      "SO03_2016.gdb\n",
      "SO04_2016.gdb\n",
      "SO05_2016.gdb\n",
      "SO06_2016.gdb\n",
      "SO07_2016.gdb\n",
      "SO08_2016.gdb\n",
      "SO09_2016.gdb\n",
      "SO10_2016.gdb\n",
      "SO11_2016.gdb\n",
      "VM01_2016.gdb\n",
      "VM02_2016.gdb\n",
      "VM03_2016.gdb\n",
      "VM04_2016.gdb\n",
      "VM05_2016.gdb\n",
      "VM06_2016.gdb\n",
      "VM07_2016.gdb\n",
      "VM08_2016.gdb\n",
      "VM09_2016.gdb\n",
      "VM10_2016.gdb\n",
      "VM11_2016.gdb\n",
      "VM12_2016.gdb\n",
      "VM13_2016.gdb\n",
      "VM14_2016.gdb\n",
      "VM15_2016.gdb\n",
      "VM16_2016.gdb\n",
      "VM17_2016.gdb\n",
      "VM18_2016.gdb\n",
      "V01_2016.gdb\n",
      "V02_2016.gdb\n",
      "V03_2016.gdb\n",
      "V04_2016.gdb\n",
      "V05_2016.gdb\n",
      "V06_2016.gdb\n",
      "V07_2016.gdb\n",
      "V08_2016.gdb\n",
      "V09_2016.gdb\n"
     ]
    }
   ],
   "execution_count": 13
  },
  {
   "metadata": {
    "ExecuteTime": {
     "end_time": "2025-04-24T17:46:33.978323Z",
     "start_time": "2025-04-24T17:46:33.975143Z"
    }
   },
   "cell_type": "code",
   "source": [
    "def export_fc(f, workspace):\n",
    "    print(f\"Exporting: {f}\")\n",
    "    arcpy.env.workspace = workspace\n",
    "    arcpy.management.Export3DObjects(\n",
    "        in_features=\"Building_surface\",\n",
    "        target_folder=os.path.join(r'E:\\BuildingWorld\\Montreal\\obj', f),\n",
    "        formats=\"FMT3D_OBJ\",\n",
    "        name_field=None,\n",
    "        overwrite=\"OVERWRITE\"\n",
    "    )\n",
    "    print(f\"Finished: {f}\")\n",
    "    arcpy.ClearWorkspaceCache_management()\n"
   ],
   "id": "fa02ce612bb7404",
   "outputs": [],
   "execution_count": 2
  },
  {
   "metadata": {
    "jupyter": {
     "is_executing": true
    },
    "ExecuteTime": {
     "start_time": "2025-04-24T17:46:46.160939Z"
    }
   },
   "cell_type": "code",
   "source": [
    "Montreal = r'E:\\BuildingWorld\\Montreal'\n",
    "tasks = []\n",
    "\n",
    "# First: gather all valid gdb paths\n",
    "for gdb_folders in os.listdir(Montreal):\n",
    "    if gdb_folders.endswith('.zip') or gdb_folders in ['arcgis', 'obj']:\n",
    "        continue\n",
    "    gdb_folder = os.path.join(Montreal, gdb_folders)\n",
    "    for folder in os.listdir(gdb_folder):\n",
    "        workspace = os.path.join(gdb_folder, folder)\n",
    "        for gdb_file in os.listdir(workspace):\n",
    "            if gdb_file.endswith('.zip') or not gdb_file.endswith(\".gdb\"):\n",
    "                continue\n",
    "            gdb_path = os.path.join(workspace, gdb_file)\n",
    "            tasks.append((gdb_file, gdb_path))\n",
    "\n",
    "# Then: use tqdm to show progress while submitting to executor\n",
    "with ThreadPoolExecutor(max_workers=6) as executor:\n",
    "    futures = [executor.submit(export_fc, f, path) for f, path in tqdm(tasks, desc=\"Submitting tasks\")]\n",
    "\n",
    "    # Optionally: track progress as tasks complete\n",
    "    for _ in tqdm(as_completed(futures), total=len(futures), desc=\"Processing tasks\"):\n",
    "        pass"
   ],
   "id": "3653f4799dfc1ead",
   "outputs": [
    {
     "name": "stderr",
     "output_type": "stream",
     "text": [
      "Submitting tasks:   3%|▎         | 2/73 [00:00<00:09,  7.73it/s]"
     ]
    },
    {
     "name": "stdout",
     "output_type": "stream",
     "text": [
      "Exporting: CDNNDG01_2016.gdb\n",
      "Exporting: CDNNDG02_2016.gdb\n"
     ]
    },
    {
     "name": "stderr",
     "output_type": "stream",
     "text": [
      "Submitting tasks:   5%|▌         | 4/73 [00:00<00:11,  6.23it/s]"
     ]
    },
    {
     "name": "stdout",
     "output_type": "stream",
     "text": [
      "Exporting: CDNNDG03_2016.gdb\n",
      "Exporting: CDNNDG04_2016.gdb\n",
      "Exporting: CDNNDG05_2016.gdb\n"
     ]
    },
    {
     "name": "stderr",
     "output_type": "stream",
     "text": [
      "Submitting tasks: 100%|██████████| 73/73 [00:00<00:00, 74.42it/s]\n"
     ]
    },
    {
     "name": "stdout",
     "output_type": "stream",
     "text": [
      "Exporting: CDNNDG06_2016.gdb\n"
     ]
    },
    {
     "name": "stderr",
     "output_type": "stream",
     "text": [
      "Processing tasks:   1%|▏         | 1/73 [00:00<01:11,  1.00it/s]"
     ]
    },
    {
     "name": "stdout",
     "output_type": "stream",
     "text": [
      "Exporting: CDNNDG07_2016.gdbExporting: CDNNDG08_2016.gdb\n",
      "\n"
     ]
    }
   ],
   "execution_count": null
  },
  {
   "cell_type": "code",
   "id": "75dd15caf799e808",
   "metadata": {
    "ExecuteTime": {
     "start_time": "2025-04-19T03:35:07.713920Z"
    }
   },
   "source": [
    "# Multipatch_42G\n",
    "flag = True\n",
    "for f in feature_classes:\n",
    "    if f == 'Multipatch_44N':\n",
    "        flag = False\n",
    "    if flag:\n",
    "        continue\n",
    "    print(f)\n",
    "    arcpy.management.Export3DObjects(\n",
    "        in_features=f,\n",
    "        target_folder=os.path.join(\"D:\\Toronto\\obj\", f),\n",
    "        formats=\"FMT3D_OBJ\",\n",
    "        name_field=None,\n",
    "        overwrite=\"OVERWRITE\"\n",
    "    )\n"
   ],
   "outputs": [
    {
     "name": "stdout",
     "output_type": "stream",
     "text": [
      "Multipatch_44N\n"
     ]
    }
   ],
   "execution_count": null
  },
  {
   "metadata": {},
   "cell_type": "code",
   "outputs": [],
   "execution_count": null,
   "source": "",
   "id": "d187f5df7e7deaaa"
  }
 ],
 "metadata": {
  "kernelspec": {
   "display_name": "Python 3",
   "language": "python",
   "name": "python3"
  },
  "language_info": {
   "codemirror_mode": {
    "name": "ipython",
    "version": 3
   },
   "file_extension": ".py",
   "mimetype": "text/x-python",
   "name": "python",
   "nbconvert_exporter": "python",
   "pygments_lexer": "ipython3",
   "version": "3.11.10"
  }
 },
 "nbformat": 4,
 "nbformat_minor": 5
}
