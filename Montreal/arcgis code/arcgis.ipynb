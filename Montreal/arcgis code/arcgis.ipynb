{
 "cells": [
  {
   "cell_type": "markdown",
   "id": "f843cc9c0eec1443",
   "metadata": {},
   "source": [
    "# Arcgis Pro -- Export 3D Objects\n",
    "\n",
    "|             Tool             |                                                    Description                                                     |\n",
    "|:----------------------------:|:------------------------------------------------------------------------------------------------------------------:|\n",
    "| Add 3D Formats To Multipatch | Converts a multipatch to a 3D object feature layer by linking the feature class with one or more 3D model formats. |\n",
    "|      Export 3D Objects       |                          Exports 3D object features to one or more 3D model file formats.                          |\n",
    "\n"
   ]
  },
  {
   "cell_type": "code",
   "id": "initial_id",
   "metadata": {
    "collapsed": true,
    "ExecuteTime": {
     "end_time": "2025-04-24T17:46:17.294074Z",
     "start_time": "2025-04-24T17:46:14.480007Z"
    }
   },
   "source": [
    "import arcpy\n",
    "import os\n",
    "\n",
    "from concurrent.futures import ThreadPoolExecutor, as_completed\n",
    "from tqdm import tqdm"
   ],
   "outputs": [],
   "execution_count": 1
  },
  {
   "cell_type": "markdown",
   "id": "6195d9d49f24a6e4",
   "metadata": {},
   "source": [
    "### Add 3D Formats To Multipatch (Data Management)\n",
    "#### 1. Summary\n",
    "Converts a multipatch to a 3D object feature layer by linking the feature class with one or more 3D model formats."
   ]
  },
  {
   "metadata": {
    "ExecuteTime": {
     "end_time": "2025-04-24T17:43:27.457891Z",
     "start_time": "2025-04-24T17:43:27.347908Z"
    }
   },
   "cell_type": "code",
   "source": "arcpy.env.workspace = r'E:\\BuildingWorld\\Montreal\\cdnndg01_2016_gdb_01_12\\CDNNDG01_2016_GDB_01_12\\CDNNDG01_2016.gdb'",
   "id": "a249d6af7ac48fba",
   "outputs": [],
   "execution_count": 2
  },
  {
   "cell_type": "code",
   "id": "96210c8994fa3cbb",
   "metadata": {
    "ExecuteTime": {
     "end_time": "2025-04-24T17:13:08.993303Z",
     "start_time": "2025-04-24T17:13:08.860990Z"
    }
   },
   "source": [
    "print(arcpy.ListFeatureClasses())\n",
    "print(arcpy.ListFeatureClasses(feature_type=\"Polygon\"))\n",
    "print(arcpy.ListFeatureClasses(wild_card=\"Building*\"))\n",
    "# desc = arcpy.Describe('ShapeFile')\n",
    "# print(desc.shapeType)\n",
    "print()"
   ],
   "outputs": [
    {
     "name": "stdout",
     "output_type": "stream",
     "text": [
      "['GroundSurface_surface', 'WallSurface_surface', 'RoofSurface_surface', 'Building_surface']\n",
      "[]\n",
      "['Building_surface']\n",
      "\n"
     ]
    }
   ],
   "execution_count": 8
  },
  {
   "metadata": {
    "ExecuteTime": {
     "end_time": "2025-04-24T16:14:41.789861Z",
     "start_time": "2025-04-24T16:14:41.729461Z"
    }
   },
   "cell_type": "code",
   "source": [
    "feature_classes = arcpy.ListFeatureClasses()\n",
    "print(feature_classes)"
   ],
   "id": "b85e439226a37c30",
   "outputs": [
    {
     "name": "stdout",
     "output_type": "stream",
     "text": [
      "['GroundSurface_surface', 'WallSurface_surface', 'RoofSurface_surface', 'Building_surface']\n"
     ]
    }
   ],
   "execution_count": 4
  },
  {
   "metadata": {
    "ExecuteTime": {
     "end_time": "2025-04-24T04:13:30.663172Z",
     "start_time": "2025-04-24T04:13:25.295871Z"
    }
   },
   "cell_type": "code",
   "source": [
    "workspace = r'E:\\BuildingWorld\\Montreal\\cdnndg01_2016_gdb_01_12\\CDNNDG01_2016_GDB_01_12'\n",
    "for gdb_file in os.listdir(workspace):\n",
    "    arcpy.env.workspace = os.path.join(workspace, gdb_file)\n",
    "    if arcpy.env.workspace.endswith('.zip'):\n",
    "        continue\n",
    "    feature_classes = arcpy.ListFeatureClasses()\n",
    "    print(gdb_file)\n",
    "    print(feature_classes)"
   ],
   "id": "cbce1df6ffbddf98",
   "outputs": [
    {
     "name": "stdout",
     "output_type": "stream",
     "text": [
      "CDNNDG01_2016.gdb\n",
      "['GroundSurface_surface', 'WallSurface_surface', 'RoofSurface_surface', 'Building_surface']\n",
      "CDNNDG02_2016.gdb\n",
      "['GroundSurface_surface', 'WallSurface_surface', 'RoofSurface_surface', 'Building_surface']\n",
      "CDNNDG03_2016.gdb\n",
      "['GroundSurface_surface', 'WallSurface_surface', 'RoofSurface_surface', 'Building_surface']\n",
      "CDNNDG04_2016.gdb\n",
      "['GroundSurface_surface', 'WallSurface_surface', 'RoofSurface_surface', 'Building_surface']\n",
      "CDNNDG05_2016.gdb\n",
      "['GroundSurface_surface', 'WallSurface_surface', 'RoofSurface_surface', 'Building_surface']\n",
      "CDNNDG06_2016.gdb\n",
      "['GroundSurface_surface', 'WallSurface_surface', 'RoofSurface_surface', 'Building_surface']\n",
      "CDNNDG07_2016.gdb\n",
      "['GroundSurface_surface', 'WallSurface_surface', 'RoofSurface_surface', 'Building_surface']\n",
      "CDNNDG08_2016.gdb\n",
      "['GroundSurface_surface', 'WallSurface_surface', 'RoofSurface_surface', 'Building_surface']\n",
      "CDNNDG09_2016.gdb\n",
      "['RoofSurface_surface', 'WallSurface_surface', 'GroundSurface_surface', 'Building_surface']\n",
      "CDNNDG10_2016.gdb\n",
      "['GroundSurface_surface', 'WallSurface_surface', 'RoofSurface_surface', 'Building_surface']\n",
      "CDNNDG11_2016.gdb\n",
      "['GroundSurface_surface', 'WallSurface_surface', 'RoofSurface_surface', 'Building_surface']\n",
      "CDNNDG12_2016.gdb\n",
      "['RoofSurface_surface', 'WallSurface_surface', 'GroundSurface_surface', 'Building_surface']\n"
     ]
    }
   ],
   "execution_count": 7
  },
  {
   "metadata": {
    "ExecuteTime": {
     "end_time": "2025-04-24T05:44:04.041272Z",
     "start_time": "2025-04-24T04:32:10.216834Z"
    }
   },
   "cell_type": "code",
   "source": [
    "Montreal = r'E:\\BuildingWorld\\Montreal'\n",
    "for gdb_folders in os.listdir(Montreal):\n",
    "    if gdb_folders.endswith('.zip') or gdb_folders == 'arcgis':\n",
    "        continue\n",
    "    gdb_folder = os.path.join(Montreal, gdb_folders)\n",
    "    for folder in os.listdir(gdb_folder):\n",
    "        workspace = os.path.join(gdb_folder, folder)\n",
    "        for gdb_file in os.listdir(workspace):\n",
    "            arcpy.env.workspace = os.path.join(workspace, gdb_file)\n",
    "            if arcpy.env.workspace.endswith('.zip'):\n",
    "                continue\n",
    "            feature_classes = arcpy.ListFeatureClasses()\n",
    "            print(gdb_file)\n",
    "            arcpy.management.Add3DFormats(\n",
    "                in_features=\"Building_surface\",\n",
    "                multipatch_materials=\"MULTIPATCH_WITHOUT_MATERIALS\",\n",
    "                formats=\"FMT3D_OBJ\"\n",
    "            )\n",
    "            # print(arcpy.env.workspace)\n",
    "            # print(feature_classes)"
   ],
   "id": "21394b7cf3c3d4d6",
   "outputs": [
    {
     "name": "stdout",
     "output_type": "stream",
     "text": [
      "CDNNDG01_2016.gdb\n",
      "CDNNDG02_2016.gdb\n",
      "CDNNDG03_2016.gdb\n",
      "CDNNDG04_2016.gdb\n",
      "CDNNDG05_2016.gdb\n",
      "CDNNDG06_2016.gdb\n",
      "CDNNDG07_2016.gdb\n",
      "CDNNDG08_2016.gdb\n",
      "CDNNDG09_2016.gdb\n",
      "CDNNDG10_2016.gdb\n",
      "CDNNDG11_2016.gdb\n",
      "CDNNDG12_2016.gdb\n",
      "CDNNDG13_2016.gdb\n",
      "CDNNDG14_2016.gdb\n",
      "CDNNDG15_2016.gdb\n",
      "CDNNDG16_2016.gdb\n",
      "CDNNDG17_2016.gdb\n",
      "CDNNDG18_2016.gdb\n",
      "CDNNDG19_2016.gdb\n",
      "CDNNDG20_2016.gdb\n",
      "CDNNDG21_2016.gdb\n",
      "O01_2016.gdb\n",
      "O02_2016.gdb\n",
      "O03_2016.gdb\n",
      "PMR01_2016.gdb\n",
      "PMR02_2016.gdb\n",
      "PMR03_2016.gdb\n",
      "PMR04_2016.gdb\n",
      "PMR05_2016.gdb\n",
      "PMR06_2016.gdb\n",
      "PMR07_2016.gdb\n",
      "PMR08_2016.gdb\n",
      "PMR09_2016.gdb\n",
      "PMR10_2016.gdb\n",
      "PMR11_2016.gdb\n",
      "SO01_2016.gdb\n",
      "SO02_2016.gdb\n",
      "SO03_2016.gdb\n",
      "SO04_2016.gdb\n",
      "SO05_2016.gdb\n",
      "SO06_2016.gdb\n",
      "SO07_2016.gdb\n",
      "SO08_2016.gdb\n",
      "SO09_2016.gdb\n",
      "SO10_2016.gdb\n",
      "SO11_2016.gdb\n",
      "VM01_2016.gdb\n",
      "VM02_2016.gdb\n",
      "VM03_2016.gdb\n",
      "VM04_2016.gdb\n",
      "VM05_2016.gdb\n",
      "VM06_2016.gdb\n",
      "VM07_2016.gdb\n",
      "VM08_2016.gdb\n",
      "VM09_2016.gdb\n",
      "VM10_2016.gdb\n",
      "VM11_2016.gdb\n",
      "VM12_2016.gdb\n",
      "VM13_2016.gdb\n",
      "VM14_2016.gdb\n",
      "VM15_2016.gdb\n",
      "VM16_2016.gdb\n",
      "VM17_2016.gdb\n",
      "VM18_2016.gdb\n",
      "V01_2016.gdb\n",
      "V02_2016.gdb\n",
      "V03_2016.gdb\n",
      "V04_2016.gdb\n",
      "V05_2016.gdb\n",
      "V06_2016.gdb\n",
      "V07_2016.gdb\n",
      "V08_2016.gdb\n",
      "V09_2016.gdb\n"
     ]
    }
   ],
   "execution_count": 13
  },
  {
   "metadata": {
    "ExecuteTime": {
     "end_time": "2025-04-24T17:46:33.978323Z",
     "start_time": "2025-04-24T17:46:33.975143Z"
    }
   },
   "cell_type": "code",
   "source": [
    "def export_fc(f, workspace):\n",
    "    print(f\"Exporting: {f}\")\n",
    "    arcpy.env.workspace = workspace\n",
    "    arcpy.management.Export3DObjects(\n",
    "        in_features=\"Building_surface\",\n",
    "        target_folder=os.path.join(r'E:\\BuildingWorld\\Montreal\\obj', f),\n",
    "        formats=\"FMT3D_OBJ\",\n",
    "        name_field=None,\n",
    "        overwrite=\"OVERWRITE\"\n",
    "    )\n",
    "    print(f\"Finished: {f}\")\n",
    "    arcpy.ClearWorkspaceCache_management()\n"
   ],
   "id": "fa02ce612bb7404",
   "outputs": [],
   "execution_count": 2
  },
  {
   "metadata": {
    "ExecuteTime": {
     "end_time": "2025-04-25T09:56:40.583071Z",
     "start_time": "2025-04-24T17:46:46.160939Z"
    }
   },
   "cell_type": "code",
   "source": [
    "Montreal = r'E:\\BuildingWorld\\Montreal'\n",
    "tasks = []\n",
    "\n",
    "# First: gather all valid gdb paths\n",
    "for gdb_folders in os.listdir(Montreal):\n",
    "    if gdb_folders.endswith('.zip') or gdb_folders in ['arcgis', 'obj']:\n",
    "        continue\n",
    "    gdb_folder = os.path.join(Montreal, gdb_folders)\n",
    "    for folder in os.listdir(gdb_folder):\n",
    "        workspace = os.path.join(gdb_folder, folder)\n",
    "        for gdb_file in os.listdir(workspace):\n",
    "            if gdb_file.endswith('.zip') or not gdb_file.endswith(\".gdb\"):\n",
    "                continue\n",
    "            gdb_path = os.path.join(workspace, gdb_file)\n",
    "            tasks.append((gdb_file, gdb_path))\n",
    "\n",
    "# Then: use tqdm to show progress while submitting to executor\n",
    "with ThreadPoolExecutor(max_workers=6) as executor:\n",
    "    futures = [executor.submit(export_fc, f, path) for f, path in tqdm(tasks, desc=\"Submitting tasks\")]\n",
    "\n",
    "    # Optionally: track progress as tasks complete\n",
    "    for _ in tqdm(as_completed(futures), total=len(futures), desc=\"Processing tasks\"):\n",
    "        pass"
   ],
   "id": "3653f4799dfc1ead",
   "outputs": [
    {
     "name": "stderr",
     "output_type": "stream",
     "text": [
      "Submitting tasks:   3%|▎         | 2/73 [00:00<00:09,  7.73it/s]"
     ]
    },
    {
     "name": "stdout",
     "output_type": "stream",
     "text": [
      "Exporting: CDNNDG01_2016.gdb\n",
      "Exporting: CDNNDG02_2016.gdb\n"
     ]
    },
    {
     "name": "stderr",
     "output_type": "stream",
     "text": [
      "Submitting tasks:   5%|▌         | 4/73 [00:00<00:11,  6.23it/s]"
     ]
    },
    {
     "name": "stdout",
     "output_type": "stream",
     "text": [
      "Exporting: CDNNDG03_2016.gdb\n",
      "Exporting: CDNNDG04_2016.gdb\n",
      "Exporting: CDNNDG05_2016.gdb\n"
     ]
    },
    {
     "name": "stderr",
     "output_type": "stream",
     "text": [
      "Submitting tasks: 100%|██████████| 73/73 [00:00<00:00, 74.42it/s]\n"
     ]
    },
    {
     "name": "stdout",
     "output_type": "stream",
     "text": [
      "Exporting: CDNNDG06_2016.gdb\n"
     ]
    },
    {
     "name": "stderr",
     "output_type": "stream",
     "text": [
      "Processing tasks:   1%|▏         | 1/73 [00:00<01:11,  1.00it/s]"
     ]
    },
    {
     "name": "stdout",
     "output_type": "stream",
     "text": [
      "Exporting: CDNNDG07_2016.gdbExporting: CDNNDG08_2016.gdb\n",
      "\n"
     ]
    },
    {
     "name": "stderr",
     "output_type": "stream",
     "text": [
      "Processing tasks:   4%|▍         | 3/73 [05:12<2:14:48, 115.55s/it]"
     ]
    },
    {
     "name": "stdout",
     "output_type": "stream",
     "text": [
      "Finished: CDNNDG01_2016.gdb\n",
      "Exporting: CDNNDG09_2016.gdb\n"
     ]
    },
    {
     "name": "stderr",
     "output_type": "stream",
     "text": [
      "Processing tasks:   5%|▌         | 4/73 [12:21<4:17:49, 224.19s/it]"
     ]
    },
    {
     "name": "stdout",
     "output_type": "stream",
     "text": [
      "Finished: CDNNDG07_2016.gdb\n",
      "Exporting: CDNNDG10_2016.gdb\n"
     ]
    },
    {
     "name": "stderr",
     "output_type": "stream",
     "text": [
      "Processing tasks:   7%|▋         | 5/73 [12:29<2:52:48, 152.47s/it]"
     ]
    },
    {
     "name": "stdout",
     "output_type": "stream",
     "text": [
      "Finished: CDNNDG08_2016.gdb\n",
      "Exporting: CDNNDG11_2016.gdb\n"
     ]
    },
    {
     "name": "stderr",
     "output_type": "stream",
     "text": [
      "Processing tasks:   8%|▊         | 6/73 [12:33<1:57:03, 104.82s/it]"
     ]
    },
    {
     "name": "stdout",
     "output_type": "stream",
     "text": [
      "Finished: CDNNDG05_2016.gdb\n",
      "Exporting: CDNNDG12_2016.gdb\n"
     ]
    },
    {
     "name": "stderr",
     "output_type": "stream",
     "text": [
      "Processing tasks:  10%|▉         | 7/73 [12:42<1:22:20, 74.86s/it] "
     ]
    },
    {
     "name": "stdout",
     "output_type": "stream",
     "text": [
      "Finished: CDNNDG06_2016.gdb\n",
      "Exporting: CDNNDG13_2016.gdb\n"
     ]
    },
    {
     "name": "stderr",
     "output_type": "stream",
     "text": [
      "Processing tasks:  11%|█         | 8/73 [13:58<1:21:32, 75.27s/it]"
     ]
    },
    {
     "name": "stdout",
     "output_type": "stream",
     "text": [
      "Finished: CDNNDG02_2016.gdb\n",
      "Exporting: CDNNDG14_2016.gdb\n"
     ]
    },
    {
     "name": "stderr",
     "output_type": "stream",
     "text": [
      "Processing tasks:  12%|█▏        | 9/73 [16:19<1:41:47, 95.43s/it]"
     ]
    },
    {
     "name": "stdout",
     "output_type": "stream",
     "text": [
      "Finished: CDNNDG12_2016.gdb\n",
      "Exporting: CDNNDG15_2016.gdb\n"
     ]
    },
    {
     "name": "stderr",
     "output_type": "stream",
     "text": [
      "Processing tasks:  14%|█▎        | 10/73 [17:28<1:31:42, 87.34s/it]"
     ]
    },
    {
     "name": "stdout",
     "output_type": "stream",
     "text": [
      "Finished: CDNNDG09_2016.gdb\n",
      "Exporting: CDNNDG16_2016.gdb\n"
     ]
    },
    {
     "name": "stderr",
     "output_type": "stream",
     "text": [
      "Processing tasks:  15%|█▌        | 11/73 [18:06<1:14:48, 72.39s/it]"
     ]
    },
    {
     "name": "stdout",
     "output_type": "stream",
     "text": [
      "Finished: CDNNDG13_2016.gdb\n",
      "Exporting: CDNNDG17_2016.gdb\n"
     ]
    },
    {
     "name": "stderr",
     "output_type": "stream",
     "text": [
      "Processing tasks:  16%|█▋        | 12/73 [18:26<57:29, 56.55s/it]  "
     ]
    },
    {
     "name": "stdout",
     "output_type": "stream",
     "text": [
      "Finished: CDNNDG14_2016.gdb\n",
      "Exporting: CDNNDG18_2016.gdb\n"
     ]
    },
    {
     "name": "stderr",
     "output_type": "stream",
     "text": [
      "Processing tasks:  18%|█▊        | 13/73 [19:21<55:51, 55.85s/it]"
     ]
    },
    {
     "name": "stdout",
     "output_type": "stream",
     "text": [
      "Finished: CDNNDG18_2016.gdb\n",
      "Exporting: CDNNDG19_2016.gdb\n"
     ]
    },
    {
     "name": "stderr",
     "output_type": "stream",
     "text": [
      "Processing tasks:  19%|█▉        | 14/73 [21:53<1:23:31, 84.93s/it]"
     ]
    },
    {
     "name": "stdout",
     "output_type": "stream",
     "text": [
      "Finished: CDNNDG11_2016.gdb\n",
      "Exporting: CDNNDG20_2016.gdb\n"
     ]
    },
    {
     "name": "stderr",
     "output_type": "stream",
     "text": [
      "Processing tasks:  21%|██        | 15/73 [23:26<1:24:19, 87.24s/it]"
     ]
    },
    {
     "name": "stdout",
     "output_type": "stream",
     "text": [
      "Finished: CDNNDG17_2016.gdb\n",
      "Exporting: CDNNDG21_2016.gdb\n"
     ]
    },
    {
     "name": "stderr",
     "output_type": "stream",
     "text": [
      "Processing tasks:  22%|██▏       | 16/73 [23:59<1:07:36, 71.16s/it]"
     ]
    },
    {
     "name": "stdout",
     "output_type": "stream",
     "text": [
      "Finished: CDNNDG15_2016.gdb\n",
      "Exporting: O01_2016.gdb\n",
      "Finished: CDNNDG19_2016.gdb\n",
      "Exporting: O02_2016.gdb\n"
     ]
    },
    {
     "name": "stderr",
     "output_type": "stream",
     "text": [
      "Processing tasks:  23%|██▎       | 17/73 [24:17<51:20, 55.01s/it]  "
     ]
    },
    {
     "name": "stdout",
     "output_type": "stream",
     "text": [
      "Finished: CDNNDG10_2016.gdb\n",
      "Exporting: O03_2016.gdb\n"
     ]
    },
    {
     "name": "stderr",
     "output_type": "stream",
     "text": [
      "Processing tasks:  26%|██▌       | 19/73 [27:08<1:06:50, 74.26s/it]"
     ]
    },
    {
     "name": "stdout",
     "output_type": "stream",
     "text": [
      "Finished: CDNNDG16_2016.gdb\n",
      "Exporting: PMR01_2016.gdb\n",
      "Finished: O01_2016.gdb\n",
      "Exporting: PMR02_2016.gdb\n"
     ]
    },
    {
     "name": "stderr",
     "output_type": "stream",
     "text": [
      "Processing tasks:  27%|██▋       | 20/73 [28:21<1:05:20, 73.97s/it]"
     ]
    },
    {
     "name": "stdout",
     "output_type": "stream",
     "text": [
      "Finished: CDNNDG21_2016.gdb\n",
      "Exporting: PMR03_2016.gdb\n"
     ]
    },
    {
     "name": "stderr",
     "output_type": "stream",
     "text": [
      "Processing tasks:  29%|██▉       | 21/73 [28:45<50:57, 58.80s/it]  "
     ]
    },
    {
     "name": "stdout",
     "output_type": "stream",
     "text": [
      "Finished: CDNNDG20_2016.gdb\n",
      "Exporting: PMR04_2016.gdb\n"
     ]
    },
    {
     "name": "stderr",
     "output_type": "stream",
     "text": [
      "Processing tasks:  32%|███▏      | 23/73 [37:33<2:31:23, 181.67s/it]"
     ]
    },
    {
     "name": "stdout",
     "output_type": "stream",
     "text": [
      "Finished: PMR04_2016.gdb\n",
      "Exporting: PMR05_2016.gdb\n",
      "Finished: PMR01_2016.gdb\n",
      "Exporting: PMR06_2016.gdb\n"
     ]
    },
    {
     "name": "stderr",
     "output_type": "stream",
     "text": [
      "Processing tasks:  34%|███▍      | 25/73 [39:10<1:27:39, 109.57s/it]"
     ]
    },
    {
     "name": "stdout",
     "output_type": "stream",
     "text": [
      "Finished: O03_2016.gdb\n",
      "Exporting: PMR07_2016.gdb\n",
      "Finished: O02_2016.gdb\n",
      "Exporting: PMR08_2016.gdb\n"
     ]
    },
    {
     "name": "stderr",
     "output_type": "stream",
     "text": [
      "Processing tasks:  37%|███▋      | 27/73 [43:02<1:34:23, 123.12s/it]"
     ]
    },
    {
     "name": "stdout",
     "output_type": "stream",
     "text": [
      "Finished: PMR06_2016.gdb\n",
      "Exporting: PMR09_2016.gdb\n",
      "Finished: PMR03_2016.gdb\n",
      "Exporting: PMR10_2016.gdb\n"
     ]
    },
    {
     "name": "stderr",
     "output_type": "stream",
     "text": [
      "Processing tasks:  38%|███▊      | 28/73 [43:13<1:07:02, 89.39s/it] "
     ]
    },
    {
     "name": "stdout",
     "output_type": "stream",
     "text": [
      "Finished: PMR02_2016.gdb\n",
      "Exporting: PMR11_2016.gdb\n"
     ]
    },
    {
     "name": "stderr",
     "output_type": "stream",
     "text": [
      "Processing tasks:  41%|████      | 30/73 [47:38<1:14:09, 103.48s/it]"
     ]
    },
    {
     "name": "stdout",
     "output_type": "stream",
     "text": [
      "Finished: PMR05_2016.gdb\n",
      "Exporting: SO01_2016.gdb\n",
      "Finished: PMR08_2016.gdb\n",
      "Exporting: SO02_2016.gdb\n"
     ]
    },
    {
     "name": "stderr",
     "output_type": "stream",
     "text": [
      "Processing tasks:  42%|████▏     | 31/73 [47:57<54:48, 78.29s/it]   "
     ]
    },
    {
     "name": "stdout",
     "output_type": "stream",
     "text": [
      "Finished: PMR09_2016.gdb\n",
      "Exporting: SO03_2016.gdb\n"
     ]
    },
    {
     "name": "stderr",
     "output_type": "stream",
     "text": [
      "Processing tasks:  45%|████▌     | 33/73 [56:52<1:55:16, 172.92s/it]"
     ]
    },
    {
     "name": "stdout",
     "output_type": "stream",
     "text": [
      "Finished: SO03_2016.gdb\n",
      "Exporting: SO04_2016.gdb\n"
     ]
    },
    {
     "name": "stderr",
     "output_type": "stream",
     "text": [
      "Processing tasks:  47%|████▋     | 34/73 [57:19<1:23:59, 129.22s/it]"
     ]
    },
    {
     "name": "stdout",
     "output_type": "stream",
     "text": [
      "Finished: PMR10_2016.gdb\n",
      "Exporting: SO05_2016.gdb\n",
      "Finished: PMR11_2016.gdb\n",
      "Exporting: SO06_2016.gdb\n"
     ]
    },
    {
     "name": "stderr",
     "output_type": "stream",
     "text": [
      "Processing tasks:  48%|████▊     | 35/73 [57:37<1:00:40, 95.81s/it] "
     ]
    },
    {
     "name": "stdout",
     "output_type": "stream",
     "text": [
      "Finished: SO04_2016.gdb\n",
      "Exporting: SO07_2016.gdb\n"
     ]
    },
    {
     "name": "stderr",
     "output_type": "stream",
     "text": [
      "Processing tasks:  49%|████▉     | 36/73 [57:58<45:08, 73.21s/it]  "
     ]
    },
    {
     "name": "stdout",
     "output_type": "stream",
     "text": [
      "Finished: SO01_2016.gdb\n",
      "Exporting: SO08_2016.gdb\n"
     ]
    },
    {
     "name": "stderr",
     "output_type": "stream",
     "text": [
      "Processing tasks:  51%|█████     | 37/73 [58:27<36:03, 60.10s/it]"
     ]
    },
    {
     "name": "stdout",
     "output_type": "stream",
     "text": [
      "Finished: SO07_2016.gdb\n",
      "Exporting: SO09_2016.gdb\n"
     ]
    },
    {
     "name": "stderr",
     "output_type": "stream",
     "text": [
      "Processing tasks:  52%|█████▏    | 38/73 [58:52<28:51, 49.48s/it]"
     ]
    },
    {
     "name": "stdout",
     "output_type": "stream",
     "text": [
      "Finished: PMR07_2016.gdb\n",
      "Exporting: SO10_2016.gdb\n"
     ]
    },
    {
     "name": "stderr",
     "output_type": "stream",
     "text": [
      "Processing tasks:  55%|█████▍    | 40/73 [1:03:42<51:39, 93.92s/it]"
     ]
    },
    {
     "name": "stdout",
     "output_type": "stream",
     "text": [
      "Finished: SO06_2016.gdb\n",
      "Exporting: SO11_2016.gdb\n"
     ]
    },
    {
     "name": "stderr",
     "output_type": "stream",
     "text": [
      "Processing tasks:  56%|█████▌    | 41/73 [1:03:49<36:14, 67.96s/it]"
     ]
    },
    {
     "name": "stdout",
     "output_type": "stream",
     "text": [
      "Finished: SO09_2016.gdb\n",
      "Exporting: VM01_2016.gdb\n",
      "Finished: SO02_2016.gdb\n",
      "Exporting: VM02_2016.gdb\n"
     ]
    },
    {
     "name": "stderr",
     "output_type": "stream",
     "text": [
      "Processing tasks:  59%|█████▉    | 43/73 [1:05:42<32:56, 65.87s/it]"
     ]
    },
    {
     "name": "stdout",
     "output_type": "stream",
     "text": [
      "Finished: VM02_2016.gdb\n",
      "Exporting: VM03_2016.gdb\n",
      "Finished: SO08_2016.gdb\n",
      "Exporting: VM04_2016.gdb\n"
     ]
    },
    {
     "name": "stderr",
     "output_type": "stream",
     "text": [
      "Processing tasks:  60%|██████    | 44/73 [1:07:11<35:08, 72.72s/it]"
     ]
    },
    {
     "name": "stdout",
     "output_type": "stream",
     "text": [
      "Finished: VM01_2016.gdb\n",
      "Exporting: VM05_2016.gdb\n"
     ]
    },
    {
     "name": "stderr",
     "output_type": "stream",
     "text": [
      "Processing tasks:  63%|██████▎   | 46/73 [1:10:32<39:34, 87.95s/it]"
     ]
    },
    {
     "name": "stdout",
     "output_type": "stream",
     "text": [
      "Finished: VM03_2016.gdb\n",
      "Exporting: VM06_2016.gdb\n",
      "Finished: SO11_2016.gdb\n",
      "Exporting: VM07_2016.gdb\n"
     ]
    },
    {
     "name": "stderr",
     "output_type": "stream",
     "text": [
      "Processing tasks:  64%|██████▍   | 47/73 [1:12:18<40:24, 93.27s/it]"
     ]
    },
    {
     "name": "stdout",
     "output_type": "stream",
     "text": [
      "Finished: SO05_2016.gdb\n",
      "Exporting: VM08_2016.gdb\n"
     ]
    },
    {
     "name": "stderr",
     "output_type": "stream",
     "text": [
      "Processing tasks:  66%|██████▌   | 48/73 [1:14:06<40:41, 97.66s/it]"
     ]
    },
    {
     "name": "stdout",
     "output_type": "stream",
     "text": [
      "Finished: VM05_2016.gdb\n",
      "Exporting: VM09_2016.gdb\n"
     ]
    },
    {
     "name": "stderr",
     "output_type": "stream",
     "text": [
      "Processing tasks:  68%|██████▊   | 50/73 [1:19:41<45:57, 119.90s/it]  "
     ]
    },
    {
     "name": "stdout",
     "output_type": "stream",
     "text": [
      "Finished: VM04_2016.gdb\n",
      "Exporting: VM10_2016.gdb\n"
     ]
    },
    {
     "name": "stderr",
     "output_type": "stream",
     "text": [
      "Processing tasks:  70%|██████▉   | 51/73 [1:23:28<55:41, 151.89s/it]"
     ]
    },
    {
     "name": "stdout",
     "output_type": "stream",
     "text": [
      "Finished: SO10_2016.gdb\n",
      "Exporting: VM11_2016.gdb\n",
      "Finished: VM06_2016.gdb\n",
      "Exporting: VM12_2016.gdb\n"
     ]
    },
    {
     "name": "stderr",
     "output_type": "stream",
     "text": [
      "Processing tasks:  71%|███████   | 52/73 [1:41:04<2:28:05, 423.14s/it]"
     ]
    },
    {
     "name": "stdout",
     "output_type": "stream",
     "text": [
      "Finished: VM08_2016.gdb\n",
      "Exporting: VM13_2016.gdb\n"
     ]
    },
    {
     "name": "stderr",
     "output_type": "stream",
     "text": [
      "Processing tasks:  74%|███████▍  | 54/73 [2:33:58<5:45:37, 1091.44s/it]"
     ]
    },
    {
     "name": "stdout",
     "output_type": "stream",
     "text": [
      "Finished: VM12_2016.gdb\n",
      "Exporting: VM14_2016.gdb\n"
     ]
    },
    {
     "name": "stderr",
     "output_type": "stream",
     "text": [
      "Processing tasks:  75%|███████▌  | 55/73 [3:36:31<9:27:00, 1890.00s/it]"
     ]
    },
    {
     "name": "stdout",
     "output_type": "stream",
     "text": [
      "Finished: VM10_2016.gdb\n",
      "Exporting: VM15_2016.gdb\n"
     ]
    },
    {
     "name": "stderr",
     "output_type": "stream",
     "text": [
      "Processing tasks:  77%|███████▋  | 56/73 [3:53:25<7:41:02, 1627.23s/it]"
     ]
    },
    {
     "name": "stdout",
     "output_type": "stream",
     "text": [
      "Finished: VM07_2016.gdb\n",
      "Exporting: VM16_2016.gdb\n"
     ]
    },
    {
     "name": "stderr",
     "output_type": "stream",
     "text": [
      "Processing tasks:  78%|███████▊  | 57/73 [4:16:04<6:52:27, 1546.70s/it]"
     ]
    },
    {
     "name": "stdout",
     "output_type": "stream",
     "text": [
      "Finished: VM11_2016.gdb\n",
      "Exporting: VM17_2016.gdb\n"
     ]
    },
    {
     "name": "stderr",
     "output_type": "stream",
     "text": [
      "Processing tasks:  79%|███████▉  | 58/73 [4:23:56<5:06:05, 1224.34s/it]"
     ]
    },
    {
     "name": "stdout",
     "output_type": "stream",
     "text": [
      "Finished: VM09_2016.gdb\n",
      "Exporting: VM18_2016.gdb\n"
     ]
    },
    {
     "name": "stderr",
     "output_type": "stream",
     "text": [
      "Processing tasks:  81%|████████  | 59/73 [5:19:37<7:13:51, 1859.41s/it]"
     ]
    },
    {
     "name": "stdout",
     "output_type": "stream",
     "text": [
      "Finished: VM14_2016.gdb\n",
      "Exporting: V01_2016.gdb\n"
     ]
    },
    {
     "name": "stderr",
     "output_type": "stream",
     "text": [
      "Processing tasks:  82%|████████▏ | 60/73 [6:19:00<8:33:34, 2370.32s/it]"
     ]
    },
    {
     "name": "stdout",
     "output_type": "stream",
     "text": [
      "Finished: VM18_2016.gdb\n",
      "Exporting: V02_2016.gdb\n",
      "Finished: VM13_2016.gdb\n",
      "Exporting: V03_2016.gdb\n"
     ]
    },
    {
     "name": "stderr",
     "output_type": "stream",
     "text": [
      "Processing tasks:  85%|████████▍ | 62/73 [9:00:36<12:06:03, 3960.34s/it]"
     ]
    },
    {
     "name": "stdout",
     "output_type": "stream",
     "text": [
      "Finished: V03_2016.gdb\n",
      "Exporting: V04_2016.gdb\n",
      "Finished: V02_2016.gdb\n",
      "Exporting: V05_2016.gdb\n"
     ]
    },
    {
     "name": "stderr",
     "output_type": "stream",
     "text": [
      "Processing tasks:  86%|████████▋ | 63/73 [9:08:08<8:04:38, 2907.86s/it] "
     ]
    },
    {
     "name": "stdout",
     "output_type": "stream",
     "text": [
      "Finished: VM17_2016.gdb\n",
      "Exporting: V06_2016.gdb\n"
     ]
    },
    {
     "name": "stderr",
     "output_type": "stream",
     "text": [
      "Processing tasks:  88%|████████▊ | 64/73 [9:27:01<5:56:16, 2375.22s/it]"
     ]
    },
    {
     "name": "stdout",
     "output_type": "stream",
     "text": [
      "Finished: VM15_2016.gdb\n",
      "Exporting: V07_2016.gdb\n"
     ]
    },
    {
     "name": "stderr",
     "output_type": "stream",
     "text": [
      "Processing tasks:  89%|████████▉ | 65/73 [9:28:11<3:44:28, 1683.61s/it]"
     ]
    },
    {
     "name": "stdout",
     "output_type": "stream",
     "text": [
      "Finished: V01_2016.gdb\n",
      "Exporting: V08_2016.gdb\n"
     ]
    },
    {
     "name": "stderr",
     "output_type": "stream",
     "text": [
      "Processing tasks:  90%|█████████ | 66/73 [9:35:10<2:32:09, 1304.25s/it]"
     ]
    },
    {
     "name": "stdout",
     "output_type": "stream",
     "text": [
      "Finished: VM16_2016.gdb\n",
      "Exporting: V09_2016.gdb\n"
     ]
    },
    {
     "name": "stderr",
     "output_type": "stream",
     "text": [
      "Processing tasks:  93%|█████████▎| 68/73 [12:17:05<4:51:32, 3498.58s/it]"
     ]
    },
    {
     "name": "stdout",
     "output_type": "stream",
     "text": [
      "Finished: V09_2016.gdb\n"
     ]
    },
    {
     "name": "stderr",
     "output_type": "stream",
     "text": [
      "Processing tasks:  95%|█████████▍| 69/73 [13:01:11<3:36:11, 3242.85s/it]"
     ]
    },
    {
     "name": "stdout",
     "output_type": "stream",
     "text": [
      "Finished: V04_2016.gdb\n"
     ]
    },
    {
     "name": "stderr",
     "output_type": "stream",
     "text": [
      "Processing tasks:  96%|█████████▌| 70/73 [15:30:13<4:07:37, 4952.60s/it]"
     ]
    },
    {
     "name": "stdout",
     "output_type": "stream",
     "text": [
      "Finished: V08_2016.gdb\n"
     ]
    },
    {
     "name": "stderr",
     "output_type": "stream",
     "text": [
      "Processing tasks:  97%|█████████▋| 71/73 [15:45:48<2:04:54, 3747.42s/it]"
     ]
    },
    {
     "name": "stdout",
     "output_type": "stream",
     "text": [
      "Finished: V05_2016.gdb\n"
     ]
    },
    {
     "name": "stderr",
     "output_type": "stream",
     "text": [
      "Processing tasks:  99%|█████████▊| 72/73 [16:08:44<50:36, 3036.02s/it]  "
     ]
    },
    {
     "name": "stdout",
     "output_type": "stream",
     "text": [
      "Finished: V06_2016.gdb\n"
     ]
    },
    {
     "name": "stderr",
     "output_type": "stream",
     "text": [
      "Processing tasks: 100%|██████████| 73/73 [16:09:53<00:00, 797.17s/it] "
     ]
    },
    {
     "name": "stdout",
     "output_type": "stream",
     "text": [
      "Finished: V07_2016.gdb\n"
     ]
    },
    {
     "name": "stderr",
     "output_type": "stream",
     "text": [
      "\n"
     ]
    }
   ],
   "execution_count": 3
  },
  {
   "cell_type": "code",
   "id": "75dd15caf799e808",
   "metadata": {
    "ExecuteTime": {
     "start_time": "2025-04-19T03:35:07.713920Z"
    }
   },
   "source": [
    "# Multipatch_42G\n",
    "flag = True\n",
    "for f in feature_classes:\n",
    "    if f == 'Multipatch_44N':\n",
    "        flag = False\n",
    "    if flag:\n",
    "        continue\n",
    "    print(f)\n",
    "    arcpy.management.Export3DObjects(\n",
    "        in_features=f,\n",
    "        target_folder=os.path.join(\"D:\\Toronto\\obj\", f),\n",
    "        formats=\"FMT3D_OBJ\",\n",
    "        name_field=None,\n",
    "        overwrite=\"OVERWRITE\"\n",
    "    )\n"
   ],
   "outputs": [
    {
     "name": "stdout",
     "output_type": "stream",
     "text": [
      "Multipatch_44N\n"
     ]
    }
   ],
   "execution_count": null
  },
  {
   "metadata": {},
   "cell_type": "code",
   "outputs": [],
   "execution_count": null,
   "source": "",
   "id": "d187f5df7e7deaaa"
  }
 ],
 "metadata": {
  "kernelspec": {
   "display_name": "Python 3",
   "language": "python",
   "name": "python3"
  },
  "language_info": {
   "codemirror_mode": {
    "name": "ipython",
    "version": 3
   },
   "file_extension": ".py",
   "mimetype": "text/x-python",
   "name": "python",
   "nbconvert_exporter": "python",
   "pygments_lexer": "ipython3",
   "version": "3.11.10"
  }
 },
 "nbformat": 4,
 "nbformat_minor": 5
}
