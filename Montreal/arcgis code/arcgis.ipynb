{
 "cells": [
  {
   "cell_type": "markdown",
   "id": "f843cc9c0eec1443",
   "metadata": {},
   "source": [
    "# Arcgis Pro -- Export 3D Objects -- Mississauga\n",
    "\n",
    "|             Tool             |                                                    Description                                                     |\n",
    "|:----------------------------:|:------------------------------------------------------------------------------------------------------------------:|\n",
    "| Add 3D Formats To Multipatch | Converts a multipatch to a 3D object feature layer by linking the feature class with one or more 3D model formats. |\n",
    "|      Export 3D Objects       |                          Exports 3D object features to one or more 3D model file formats.                          |\n",
    "\n"
   ]
  },
  {
   "cell_type": "code",
   "id": "initial_id",
   "metadata": {
    "collapsed": true
   },
   "source": [
    "import arcpy\n",
    "import os\n",
    "\n",
    "from concurrent.futures import ThreadPoolExecutor, as_completed\n",
    "from tqdm import tqdm"
   ],
   "outputs": [],
   "execution_count": null
  },
  {
   "cell_type": "markdown",
   "id": "6195d9d49f24a6e4",
   "metadata": {},
   "source": [
    "### Add 3D Formats To Multipatch (Data Management)\n",
    "#### 1. Summary\n",
    "Converts a multipatch to a 3D object feature layer by linking the feature class with one or more 3D model formats."
   ]
  },
  {
   "metadata": {},
   "cell_type": "code",
   "source": "arcpy.env.workspace = r'E:\\BuildingWorld\\Montreal\\cdnndg01_2016_gdb_01_12\\CDNNDG01_2016_GDB_01_12\\CDNNDG01_2016.gdb'",
   "id": "a249d6af7ac48fba",
   "outputs": [],
   "execution_count": null
  },
  {
   "cell_type": "code",
   "id": "96210c8994fa3cbb",
   "metadata": {},
   "source": [
    "print(arcpy.ListFeatureClasses())\n",
    "print(arcpy.ListFeatureClasses(feature_type=\"Polygon\"))\n",
    "print(arcpy.ListFeatureClasses(wild_card=\"Building*\"))\n",
    "# desc = arcpy.Describe('ShapeFile')\n",
    "# print(desc.shapeType)\n",
    "print()"
   ],
   "outputs": [],
   "execution_count": null
  },
  {
   "metadata": {},
   "cell_type": "code",
   "source": [
    "feature_classes = arcpy.ListFeatureClasses()\n",
    "print(feature_classes)"
   ],
   "id": "b85e439226a37c30",
   "outputs": [],
   "execution_count": null
  },
  {
   "metadata": {},
   "cell_type": "code",
   "source": [
    "workspace = r'E:\\BuildingWorld\\Montreal\\cdnndg01_2016_gdb_01_12\\CDNNDG01_2016_GDB_01_12'\n",
    "for gdb_file in os.listdir(workspace):\n",
    "    arcpy.env.workspace = os.path.join(workspace, gdb_file)\n",
    "    if arcpy.env.workspace.endswith('.zip'):\n",
    "        continue\n",
    "    feature_classes = arcpy.ListFeatureClasses()\n",
    "    print(gdb_file)\n",
    "    print(feature_classes)"
   ],
   "id": "2070726e82208643",
   "outputs": [],
   "execution_count": null
  },
  {
   "metadata": {},
   "cell_type": "code",
   "source": [
    "Montreal = r'E:\\BuildingWorld\\Montreal'\n",
    "for gdb_folders in os.listdir(Montreal):\n",
    "    if gdb_folders.endswith('.zip') or gdb_folders == 'arcgis':\n",
    "        continue\n",
    "    gdb_folder = os.path.join(Montreal, gdb_folders)\n",
    "    for folder in os.listdir(gdb_folder):\n",
    "        workspace = os.path.join(gdb_folder, folder)\n",
    "        for gdb_file in os.listdir(workspace):\n",
    "            arcpy.env.workspace = os.path.join(workspace, gdb_file)\n",
    "            if arcpy.env.workspace.endswith('.zip'):\n",
    "                continue\n",
    "            feature_classes = arcpy.ListFeatureClasses()\n",
    "            print(gdb_file)\n",
    "            arcpy.management.Add3DFormats(\n",
    "                in_features=\"Building_surface\",\n",
    "                multipatch_materials=\"MULTIPATCH_WITHOUT_MATERIALS\",\n",
    "                formats=\"FMT3D_OBJ\"\n",
    "            )\n",
    "            # print(arcpy.env.workspace)\n",
    "            # print(feature_classes)"
   ],
   "id": "cbce1df6ffbddf98",
   "outputs": [],
   "execution_count": null
  },
  {
   "metadata": {},
   "cell_type": "markdown",
   "source": [
    "```\n",
    "arcpy.management.Import3DObjects(\n",
    "    files_and_folders=r\"E:\\BuildingWorld\\Montreal\\obj\\CDNNDG01_2016.gdb\\OID_1\",\n",
    "    updated_features=\"OID_1\",\n",
    "    update=\"UPDATE_EXISTING_ADD_NEW\",\n",
    "    translate=\"0 0\",\n",
    "    elevation=0,\n",
    "    scale=1,\n",
    "    rotate=0,\n",
    "    y_is_up=\"Y_IS_UP\"\n",
    ")\n",
    "```"
   ],
   "id": "3aeaddd79db98fad"
  },
  {
   "metadata": {},
   "cell_type": "code",
   "source": [
    "def export_fc(f, workspace):\n",
    "    print(f\"Exporting: {f}\")\n",
    "    arcpy.env.workspace = workspace\n",
    "    arcpy.management.Export3DObjects(\n",
    "        in_features=\"Building_surface\",\n",
    "        target_folder=os.path.join(r'E:\\BuildingWorld\\Montreal\\obj', f),\n",
    "        formats=\"FMT3D_OBJ\",\n",
    "        name_field=None,\n",
    "        overwrite=\"OVERWRITE\"\n",
    "    )\n",
    "    print(f\"Finished: {f}\")\n",
    "    arcpy.ClearWorkspaceCache_management()"
   ],
   "id": "21394b7cf3c3d4d6",
   "outputs": [],
   "execution_count": null
  },
  {
   "metadata": {},
   "cell_type": "code",
   "source": [
    "Montreal = r'E:\\BuildingWorld\\Montreal'\n",
    "tasks = []\n",
    "\n",
    "# First: gather all valid gdb paths\n",
    "for gdb_folders in os.listdir(Montreal):\n",
    "    if gdb_folders.endswith('.zip') or gdb_folders in ['arcgis', 'obj']:\n",
    "        continue\n",
    "    gdb_folder = os.path.join(Montreal, gdb_folders)\n",
    "    for folder in os.listdir(gdb_folder):\n",
    "        workspace = os.path.join(gdb_folder, folder)\n",
    "        for gdb_file in os.listdir(workspace):\n",
    "            if gdb_file.endswith('.zip') or not gdb_file.endswith(\".gdb\"):\n",
    "                continue\n",
    "            gdb_path = os.path.join(workspace, gdb_file)\n",
    "            tasks.append((gdb_file, gdb_path))\n",
    "\n",
    "# Then: use tqdm to show progress while submitting to executor\n",
    "with ThreadPoolExecutor(max_workers=6) as executor:\n",
    "    futures = [executor.submit(export_fc, f, path) for f, path in tqdm(tasks, desc=\"Submitting tasks\")]\n",
    "\n",
    "    # Optionally: track progress as tasks complete\n",
    "    for _ in tqdm(as_completed(futures), total=len(futures), desc=\"Processing tasks\"):\n",
    "        pass"
   ],
   "id": "fa02ce612bb7404",
   "outputs": [],
   "execution_count": null
  },
  {
   "cell_type": "code",
   "id": "75dd15caf799e808",
   "metadata": {},
   "source": [
    "# Multipatch_42G\n",
    "flag = True\n",
    "for f in feature_classes:\n",
    "    if f == 'Multipatch_44N':\n",
    "        flag = False\n",
    "    if flag:\n",
    "        continue\n",
    "    print(f)\n",
    "    arcpy.management.Export3DObjects(\n",
    "        in_features=f,\n",
    "        target_folder=os.path.join(\"D:\\Toronto\\obj\", f),\n",
    "        formats=\"FMT3D_OBJ\",\n",
    "        name_field=None,\n",
    "        overwrite=\"OVERWRITE\"\n",
    "    )\n"
   ],
   "outputs": [],
   "execution_count": null
  },
  {
   "metadata": {},
   "cell_type": "code",
   "source": "",
   "id": "d187f5df7e7deaaa",
   "outputs": [],
   "execution_count": null
  }
 ],
 "metadata": {
  "kernelspec": {
   "display_name": "Python 3",
   "language": "python",
   "name": "python3"
  },
  "language_info": {
   "codemirror_mode": {
    "name": "ipython",
    "version": 3
   },
   "file_extension": ".py",
   "mimetype": "text/x-python",
   "name": "python",
   "nbconvert_exporter": "python",
   "pygments_lexer": "ipython3",
   "version": "3.11.10"
  }
 },
 "nbformat": 4,
 "nbformat_minor": 5
}
