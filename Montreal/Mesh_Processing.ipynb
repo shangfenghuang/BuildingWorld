{
 "cells": [
  {
   "metadata": {},
   "cell_type": "markdown",
   "source": "# Process Mesh file for sampling point clouds\n",
   "id": "33b01b04cc564643"
  },
  {
   "metadata": {
    "ExecuteTime": {
     "end_time": "2025-04-29T05:28:35.840530Z",
     "start_time": "2025-04-29T05:28:35.728274Z"
    }
   },
   "cell_type": "code",
   "source": [
    "import os\n",
    "import numpy as np\n",
    "import shutil"
   ],
   "id": "fc9f9c8fe45539e1",
   "outputs": [],
   "execution_count": 2
  },
  {
   "metadata": {},
   "cell_type": "markdown",
   "source": "### 1. move all the mesh files into one folder",
   "id": "eebc2b9d94044e88"
  },
  {
   "metadata": {
    "ExecuteTime": {
     "end_time": "2025-04-29T04:34:09.279678Z",
     "start_time": "2025-04-29T04:33:25.401054Z"
    }
   },
   "cell_type": "code",
   "source": [
    "mesh_folder_list = '/media/shangfeng/storage/shangfeng/BuildingWorld/Montreal/obj'\n",
    "\n",
    "mesh_output_folder = '/media/shangfeng/storage/shangfeng/BuildingWorld/Montreal/mesh'\n",
    "\n",
    "if not os.path.exists(mesh_output_folder):\n",
    "    os.makedirs(mesh_output_folder)\n",
    "\n",
    "for mesh_folder in os.listdir(mesh_folder_list):\n",
    "    # print(mesh_folder)\n",
    "    mesh_folder_path = os.path.join(mesh_folder_list, mesh_folder)\n",
    "    for obj_folder in os.listdir(mesh_folder_path):\n",
    "        # print(obj_folder)\n",
    "        obj = os.path.join(mesh_folder_path, obj_folder)\n",
    "        obj = os.path.join(obj, 'esriGeometryMultiPatch.obj')\n",
    "        if not os.path.exists(obj):\n",
    "            print(mesh_folder, obj_folder)\n",
    "            continue\n",
    "        destination = os.path.join(mesh_output_folder, mesh_folder.split('_')[0]+'_'+obj_folder.split('_')[1]+'.obj')\n",
    "        # print(destination)\n",
    "        # /media/shangfeng/storage/shangfeng/BuildingWorld/Montreal/obj/V06_2016.gdb/OID_1/esriGeometryMultiPatch.obj\n",
    "        shutil.copy(obj, destination)\n",
    "        # break\n",
    "    # break"
   ],
   "id": "321d0f1e51841bc1",
   "outputs": [
    {
     "name": "stdout",
     "output_type": "stream",
     "text": [
      "V05_2016.gdb OID_1\n",
      "V01_2016.gdb OID_1\n",
      "V01_2016.gdb OID_3\n",
      "V01_2016.gdb OID_2\n",
      "V04_2016.gdb OID_11\n",
      "VM12_2016.gdb OID_171\n",
      "VM09_2016.gdb OID_581\n"
     ]
    }
   ],
   "execution_count": 9
  },
  {
   "metadata": {},
   "cell_type": "markdown",
   "source": "### 2. Transform the local coordination to global coordination through wld3 file",
   "id": "2390be7cbea6ad11"
  },
  {
   "metadata": {
    "ExecuteTime": {
     "end_time": "2025-04-29T06:10:12.499977Z",
     "start_time": "2025-04-29T06:10:12.477763Z"
    }
   },
   "cell_type": "code",
   "source": [
    "# --------------------- Coordinate Transformation -------------------\n",
    "def parse_wld3(wld3_path):\n",
    "    with open(wld3_path, 'r') as f:\n",
    "        lines = f.readlines()\n",
    "\n",
    "    def parse_line(line):\n",
    "        parts = line.strip().split()\n",
    "        from_pt = np.array([float(x) for x in parts[0].split(',')])\n",
    "        to_pt = np.array([float(x) for x in parts[1].split(',')])\n",
    "        return from_pt, to_pt\n",
    "\n",
    "    p1, g1 = parse_line(lines[0])\n",
    "    p2, g2 = parse_line(lines[1])\n",
    "    return p1, g1, p2, g2\n",
    "\n",
    "def read_mesh(obj_file):\n",
    "    vertices = []\n",
    "    faces = []\n",
    "    with open(obj_file, 'r') as f:\n",
    "        for lines in f.readlines():\n",
    "            parts = lines.strip().split(' ')\n",
    "            if parts[0] == 'v':\n",
    "                vertices.append(parts[1:4])\n",
    "            elif parts[0] == 'f':\n",
    "                face = []\n",
    "                for p in parts[1:]:\n",
    "                    face.append(int(p.split('/')[0]))\n",
    "                faces.append(face)\n",
    "    vertices = np.array(vertices, dtype=np.float64)\n",
    "    # faces = np.array(faces, dtype=np.int32)\n",
    "    return vertices, faces\n",
    "\n",
    "def write_mesh(obj_file, vertices, faces):\n",
    "    with open(obj_file, 'w') as f:\n",
    "        f.write('# vertices: ' + str(len(vertices)) + '\\n')\n",
    "        f.write('# faces: ' + str(len(faces)) + '\\n')\n",
    "        f.write('\\n')\n",
    "        \n",
    "        for v in vertices:\n",
    "            f.write('v ' + str(v[0]) + ' ' + str(v[1]) + ' ' + str(v[2]) + '\\n')\n",
    "        \n",
    "        for face in faces:\n",
    "            f.write('f')\n",
    "            for v_ind in face:\n",
    "                f.write(' ' + str(v_ind))\n",
    "            f.write('\\n')\n",
    "\n",
    "def coordinate_transformation(obj_file, wld3_file):\n",
    "    # parse wld3_file\n",
    "    p1, g1, p2, g2 = parse_wld3(wld3_file)\n",
    "    \n",
    "    # read mesh\n",
    "    vertices, faces = read_mesh(obj_file)\n",
    "    \n",
    "    vertices = vertices + g1\n",
    "    return vertices, faces\n"
   ],
   "id": "d921171f4a84b6a4",
   "outputs": [],
   "execution_count": 26
  },
  {
   "metadata": {},
   "cell_type": "markdown",
   "source": "### 3. Generate Mesh with global coordinate and without material",
   "id": "10a5d71bcc37988f"
  },
  {
   "metadata": {
    "ExecuteTime": {
     "end_time": "2025-04-29T06:23:49.451903Z",
     "start_time": "2025-04-29T06:23:49.434509Z"
    }
   },
   "cell_type": "code",
   "source": [
    "mesh_folder_list = '/media/shangfeng/storage/shangfeng/BuildingWorld/Montreal/obj'\n",
    "\n",
    "mesh_output_folder = '/media/shangfeng/storage/shangfeng/BuildingWorld/Montreal/mesh'\n",
    "\n",
    "if not os.path.exists(mesh_output_folder):\n",
    "    os.makedirs(mesh_output_folder)\n",
    "\n",
    "for mesh_folder in os.listdir(mesh_folder_list):\n",
    "    # print(mesh_folder)\n",
    "    mesh_folder_path = os.path.join(mesh_folder_list, mesh_folder)\n",
    "    for obj_folder in os.listdir(mesh_folder_path):\n",
    "        # print(obj_folder)\n",
    "        obj = os.path.join(mesh_folder_path, obj_folder, 'esriGeometryMultiPatch.obj')\n",
    "        if not os.path.exists(obj):\n",
    "            print(mesh_folder, obj_folder)\n",
    "            continue\n",
    "        destination = os.path.join(mesh_output_folder, mesh_folder.split('_')[0]+'_'+obj_folder.split('_')[1]+'.obj')\n",
    "        # print(destination)\n",
    "        \n",
    "        # Coordinate Transformation\n",
    "        wld3_path = os.path.join(mesh_folder_path, obj_folder, 'esriGeometryMultiPatch.wld3')\n",
    "        vertices, faces = coordinate_transformation(obj, wld3_path)\n",
    "        \n",
    "        # Write Mesh\n",
    "        write_mesh(destination, vertices, faces)\n",
    "    #     break\n",
    "    # break"
   ],
   "id": "a64c848b620ca4bf",
   "outputs": [],
   "execution_count": 27
  },
  {
   "metadata": {},
   "cell_type": "code",
   "outputs": [],
   "execution_count": null,
   "source": "",
   "id": "e8a4bd02454c13d3"
  }
 ],
 "metadata": {
  "kernelspec": {
   "display_name": "Python 3",
   "language": "python",
   "name": "python3"
  },
  "language_info": {
   "codemirror_mode": {
    "name": "ipython",
    "version": 2
   },
   "file_extension": ".py",
   "mimetype": "text/x-python",
   "name": "python",
   "nbconvert_exporter": "python",
   "pygments_lexer": "ipython2",
   "version": "2.7.6"
  }
 },
 "nbformat": 4,
 "nbformat_minor": 5
}
