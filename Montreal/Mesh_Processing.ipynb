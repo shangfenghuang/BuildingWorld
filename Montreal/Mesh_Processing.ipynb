{
 "cells": [
  {
   "metadata": {},
   "cell_type": "markdown",
   "source": "# Process Mesh file for sampling point clouds\n",
   "id": "33b01b04cc564643"
  },
  {
   "metadata": {},
   "cell_type": "code",
   "outputs": [],
   "execution_count": null,
   "source": [
    "import os\n",
    "import numpy as np\n",
    "import shutil"
   ],
   "id": "52f0217516604440"
  },
  {
   "metadata": {},
   "cell_type": "markdown",
   "source": "### 1. move all the mesh files into one folder",
   "id": "136bfb986083ed3b"
  },
  {
   "metadata": {},
   "cell_type": "code",
   "outputs": [],
   "execution_count": null,
   "source": [
    "mesh_folder_list = '/media/shangfeng/storage/shangfeng/BuildingWorld/Montreal/obj'\n",
    "\n",
    "mesh_output_folder = '/media/shangfeng/storage/shangfeng/BuildingWorld/Montreal/mesh'\n",
    "\n",
    "if not os.path.exists(mesh_output_folder):\n",
    "    os.makedirs(mesh_output_folder)\n",
    "\n",
    "for mesh_folder in os.listdir(mesh_folder_list):\n",
    "    # print(mesh_folder)\n",
    "    mesh_folder_path = os.path.join(mesh_folder_list, mesh_folder)\n",
    "    for obj_folder in os.listdir(mesh_folder_path):\n",
    "        # print(obj_folder)\n",
    "        obj = os.path.join(mesh_folder_path, obj_folder)\n",
    "        obj = os.path.join(obj, 'esriGeometryMultiPatch.obj')\n",
    "        if not os.path.exists(obj):\n",
    "            print(mesh_folder, obj_folder)\n",
    "            continue\n",
    "        destination = os.path.join(mesh_output_folder, mesh_folder.split('_')[0]+'_'+obj_folder.split('_')[1]+'.obj')\n",
    "        # print(destination)\n",
    "        # /media/shangfeng/storage/shangfeng/BuildingWorld/Montreal/obj/V06_2016.gdb/OID_1/esriGeometryMultiPatch.obj\n",
    "        shutil.copy(obj, destination)\n",
    "        # break\n",
    "    # break"
   ],
   "id": "36b3a789c0f541db"
  },
  {
   "metadata": {},
   "cell_type": "markdown",
   "source": [
    "### 2. Transform the local coordination to global coordination through wld3 file\n",
    "![](Coordinate%20system.png)"
   ],
   "id": "2390be7cbea6ad11"
  },
  {
   "metadata": {
    "ExecuteTime": {
     "end_time": "2025-04-29T22:34:28.437760Z",
     "start_time": "2025-04-29T22:34:28.423975Z"
    }
   },
   "cell_type": "code",
   "source": [
    "# --------------------- Coordinate Transformation -------------------\n",
    "def parse_wld3(wld3_path):\n",
    "    with open(wld3_path, 'r') as f:\n",
    "        lines = f.readlines()\n",
    "\n",
    "    def parse_line(line):\n",
    "        parts = line.strip().split()\n",
    "        from_pt = np.array([float(x) for x in parts[0].split(',')])\n",
    "        to_pt = np.array([float(x) for x in parts[1].split(',')])\n",
    "        return from_pt, to_pt\n",
    "\n",
    "    p1, g1 = parse_line(lines[0])\n",
    "    p2, g2 = parse_line(lines[1])\n",
    "    return p1, g1, p2, g2\n",
    "\n",
    "def read_mesh(obj_file):\n",
    "    vertices = []\n",
    "    faces = []\n",
    "    with open(obj_file, 'r') as f:\n",
    "        for lines in f.readlines():\n",
    "            parts = lines.strip().split(' ')\n",
    "            if parts[0] == 'v':\n",
    "                vertices.append(parts[1:4])\n",
    "            elif parts[0] == 'f':\n",
    "                face = []\n",
    "                for p in parts[1:]:\n",
    "                    face.append(int(p.split('/')[0]))\n",
    "                faces.append(face)\n",
    "    vertices = np.array(vertices, dtype=np.float64)\n",
    "    # faces = np.array(faces, dtype=np.int32)\n",
    "    return vertices, faces\n",
    "\n",
    "def write_mesh(obj_file, vertices, faces):\n",
    "    with open(obj_file, 'w') as f:\n",
    "        f.write('# vertices: ' + str(len(vertices)) + '\\n')\n",
    "        f.write('# faces: ' + str(len(faces)) + '\\n')\n",
    "        f.write('\\n')\n",
    "        \n",
    "        for v in vertices:\n",
    "            f.write('v ' + str(v[0]) + ' ' + str(v[1]) + ' ' + str(v[2]) + '\\n')\n",
    "        \n",
    "        for face in faces:\n",
    "            f.write('f')\n",
    "            for v_ind in face:\n",
    "                f.write(' ' + str(v_ind))\n",
    "            f.write('\\n')\n",
    "\n",
    "def coordinate_transformation(obj_file, wld3_file):\n",
    "    # parse wld3_file\n",
    "    p1, g1, p2, g2 = parse_wld3(wld3_file)\n",
    "    \n",
    "    # read mesh\n",
    "    vertices, faces = read_mesh(obj_file)\n",
    "\n",
    "    # Rotation Matrix\n",
    "    R = np.array([\n",
    "        [1, 0, 0],\n",
    "        [0, 0, -1],\n",
    "        [0, 1, 0]\n",
    "    ])\n",
    "    \n",
    "    vertices = (R @ vertices.T).T + g1\n",
    "    return vertices, faces\n"
   ],
   "id": "d2ffd17856030f24",
   "outputs": [],
   "execution_count": 32
  },
  {
   "metadata": {},
   "cell_type": "markdown",
   "source": "### 3. Generate Mesh with global coordinate and without material",
   "id": "10a5d71bcc37988f"
  },
  {
   "metadata": {
    "ExecuteTime": {
     "end_time": "2025-04-29T22:35:18.192499Z",
     "start_time": "2025-04-29T22:34:30.779455Z"
    }
   },
   "cell_type": "code",
   "source": [
    "mesh_folder_list = '/media/shangfeng/storage/shangfeng/BuildingWorld/Montreal/obj'\n",
    "\n",
    "mesh_output_folder = '/media/shangfeng/storage/shangfeng/BuildingWorld/Montreal/mesh'\n",
    "\n",
    "if not os.path.exists(mesh_output_folder):\n",
    "    os.makedirs(mesh_output_folder)\n",
    "\n",
    "for mesh_folder in os.listdir(mesh_folder_list):\n",
    "    # print(mesh_folder)\n",
    "    mesh_folder_path = os.path.join(mesh_folder_list, mesh_folder)\n",
    "    for obj_folder in os.listdir(mesh_folder_path):\n",
    "        # print(obj_folder)\n",
    "        obj = os.path.join(mesh_folder_path, obj_folder, 'esriGeometryMultiPatch.obj')\n",
    "        if not os.path.exists(obj):\n",
    "            print(mesh_folder, obj_folder)\n",
    "            continue\n",
    "        destination = os.path.join(mesh_output_folder, mesh_folder.split('_')[0]+'_'+obj_folder.split('_')[1]+'.obj')\n",
    "        # print(destination)\n",
    "        \n",
    "        # Coordinate Transformation\n",
    "        wld3_path = os.path.join(mesh_folder_path, obj_folder, 'esriGeometryMultiPatch.wld3')\n",
    "        vertices, faces = coordinate_transformation(obj, wld3_path)\n",
    "        \n",
    "        # Write Mesh\n",
    "        write_mesh(destination, vertices, faces)\n",
    "    #     break\n",
    "    # break"
   ],
   "id": "b4a17169711b2941",
   "outputs": [
    {
     "name": "stdout",
     "output_type": "stream",
     "text": [
      "V05_2016.gdb OID_1\n",
      "V01_2016.gdb OID_1\n",
      "V01_2016.gdb OID_3\n",
      "V01_2016.gdb OID_2\n",
      "V04_2016.gdb OID_11\n",
      "VM12_2016.gdb OID_171\n",
      "VM09_2016.gdb OID_581\n"
     ]
    }
   ],
   "execution_count": 33
  },
  {
   "metadata": {},
   "cell_type": "markdown",
   "source": "### 4. Merge multiple mesh files into one mesh file",
   "id": "feb8f2908e5df865"
  },
  {
   "metadata": {
    "ExecuteTime": {
     "end_time": "2025-04-29T22:44:45.111845Z",
     "start_time": "2025-04-29T22:43:58.081761Z"
    }
   },
   "cell_type": "code",
   "source": [
    "# Merge Mesh\n",
    "def merge_mesh(mesh_folder, mesh_list, mesh_file):\n",
    "    vertices_list = []\n",
    "    faces_list = []\n",
    "\n",
    "    faces_number = 0\n",
    "    for mesh in mesh_list:\n",
    "        mesh_path = os.path.join(mesh_folder, mesh)\n",
    "        if not os.path.exists(mesh_path):\n",
    "            print(mesh_path)\n",
    "            continue\n",
    "        vertices, faces = read_mesh(mesh_path)\n",
    "\n",
    "        vertices_list += vertices.tolist()\n",
    "        faces = [[x + faces_number for x in sublist] for sublist in faces]\n",
    "        faces_list += faces\n",
    "        faces_number += len(vertices)\n",
    "\n",
    "    write_mesh(mesh_file, vertices_list, faces_list)\n",
    "\n",
    "\n",
    "mesh_folder = '/media/shangfeng/storage/shangfeng/BuildingWorld/Montreal/mesh'\n",
    "mesh_file = '/media/shangfeng/storage/shangfeng/BuildingWorld/Montreal'\n",
    "\n",
    "mesh_list = os.listdir(mesh_folder)\n",
    "pre_index = 0\n",
    "aft_index = 0\n",
    "while True:\n",
    "    pre_index = aft_index\n",
    "    aft_index += len(mesh_list) // 10\n",
    "    if aft_index > len(mesh_list):\n",
    "        aft_index = len(mesh_list)\n",
    "    print(pre_index, aft_index)\n",
    "\n",
    "    merge_mesh(mesh_folder, mesh_list[pre_index:aft_index], os.path.join(mesh_file, 'Montreal_mesh_' + str(pre_index) + '.obj'))\n",
    "    if aft_index == len(mesh_list):\n",
    "        break"
   ],
   "id": "53a2328b78546a24",
   "outputs": [
    {
     "name": "stdout",
     "output_type": "stream",
     "text": [
      "0 6313\n",
      "6313 12626\n",
      "12626 18939\n",
      "18939 25252\n",
      "25252 31565\n",
      "31565 37878\n",
      "37878 44191\n",
      "44191 50504\n",
      "50504 56817\n",
      "56817 63130\n",
      "63130 63131\n"
     ]
    }
   ],
   "execution_count": 35
  },
  {
   "metadata": {},
   "cell_type": "code",
   "outputs": [],
   "execution_count": null,
   "source": "",
   "id": "66fab614001540ce"
  }
 ],
 "metadata": {
  "kernelspec": {
   "display_name": "Python 3",
   "language": "python",
   "name": "python3"
  },
  "language_info": {
   "codemirror_mode": {
    "name": "ipython",
    "version": 2
   },
   "file_extension": ".py",
   "mimetype": "text/x-python",
   "name": "python",
   "nbconvert_exporter": "python",
   "pygments_lexer": "ipython2",
   "version": "2.7.6"
  }
 },
 "nbformat": 4,
 "nbformat_minor": 5
}
