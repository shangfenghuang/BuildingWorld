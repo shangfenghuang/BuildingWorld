{
 "cells": [
  {
   "cell_type": "markdown",
   "id": "f843cc9c0eec1443",
   "metadata": {},
   "source": [
    "# Arcgis Pro -- Export 3D Objects -- Mississauga\n",
    "\n",
    "|             Tool             |                                                    Description                                                     |\n",
    "|:----------------------------:|:------------------------------------------------------------------------------------------------------------------:|\n",
    "| Add 3D Formats To Multipatch | Converts a multipatch to a 3D object feature layer by linking the feature class with one or more 3D model formats. |\n",
    "|      Export 3D Objects       |                          Exports 3D object features to one or more 3D model file formats.                          |\n",
    "\n"
   ]
  },
  {
   "cell_type": "code",
   "id": "initial_id",
   "metadata": {
    "collapsed": true,
    "ExecuteTime": {
     "end_time": "2025-04-28T15:13:54.332976Z",
     "start_time": "2025-04-28T15:13:43.194429Z"
    }
   },
   "source": [
    "import arcpy\n",
    "import os\n",
    "\n",
    "from concurrent.futures import ThreadPoolExecutor, as_completed\n",
    "from tqdm import tqdm"
   ],
   "outputs": [],
   "execution_count": 1
  },
  {
   "cell_type": "markdown",
   "id": "6195d9d49f24a6e4",
   "metadata": {},
   "source": [
    "### Add 3D Formats To Multipatch (Data Management)\n",
    "#### 1. Summary\n",
    "Converts a multipatch to a 3D object feature layer by linking the feature class with one or more 3D model formats."
   ]
  },
  {
   "metadata": {
    "ExecuteTime": {
     "end_time": "2025-04-28T04:46:33.845292Z",
     "start_time": "2025-04-28T04:46:33.757128Z"
    }
   },
   "cell_type": "code",
   "source": "arcpy.env.workspace = r'E:\\BuildingWorld\\Mississauga\\data\\Tile_11.gdb'",
   "id": "a249d6af7ac48fba",
   "outputs": [],
   "execution_count": 4
  },
  {
   "cell_type": "code",
   "id": "96210c8994fa3cbb",
   "metadata": {
    "ExecuteTime": {
     "end_time": "2025-04-28T04:46:34.736115Z",
     "start_time": "2025-04-28T04:46:34.604987Z"
    }
   },
   "source": [
    "print(arcpy.ListFeatureClasses())\n",
    "print(arcpy.ListFeatureClasses(feature_type=\"Polygon\"))\n",
    "print(arcpy.ListFeatureClasses(wild_card=\"Building*\"))\n",
    "# desc = arcpy.Describe('ShapeFile')\n",
    "# print(desc.shapeType)\n",
    "print()\n",
    "if arcpy.env.workspace.endswith('.gdb'):\n",
    "    print(arcpy.ListFeatureClasses())"
   ],
   "outputs": [
    {
     "name": "stdout",
     "output_type": "stream",
     "text": [
      "['Tile_11']\n",
      "[]\n",
      "[]\n",
      "\n",
      "['Tile_11']\n"
     ]
    }
   ],
   "execution_count": 5
  },
  {
   "metadata": {
    "ExecuteTime": {
     "end_time": "2025-04-28T01:37:36.982353Z",
     "start_time": "2025-04-28T01:37:36.961923Z"
    }
   },
   "cell_type": "code",
   "source": [
    "feature_classes = arcpy.ListFeatureClasses()\n",
    "print(feature_classes)"
   ],
   "id": "b85e439226a37c30",
   "outputs": [
    {
     "name": "stdout",
     "output_type": "stream",
     "text": [
      "['Tile_11']\n"
     ]
    }
   ],
   "execution_count": 5
  },
  {
   "metadata": {},
   "cell_type": "code",
   "outputs": [],
   "execution_count": null,
   "source": [
    "arcpy.management.Add3DFormats(\n",
    "    in_features=\"Tile_11\",\n",
    "    multipatch_materials=\"MULTIPATCH_WITH_MATERIALS\",\n",
    "    formats=\"FMT3D_OBJ\"\n",
    ")"
   ],
   "id": "2070726e82208643"
  },
  {
   "metadata": {
    "ExecuteTime": {
     "end_time": "2025-04-28T02:02:31.265156Z",
     "start_time": "2025-04-28T02:01:43.536812Z"
    }
   },
   "cell_type": "code",
   "source": [
    "workspace = r'E:\\BuildingWorld\\Mississauga\\data'\n",
    "for gdb_file in os.listdir(workspace):\n",
    "    arcpy.env.workspace = os.path.join(workspace, gdb_file)\n",
    "    if arcpy.env.workspace.endswith('.gdb'):\n",
    "        feature_classes = arcpy.ListFeatureClasses()\n",
    "        print(gdb_file)\n",
    "        print(feature_classes)"
   ],
   "id": "cbce1df6ffbddf98",
   "outputs": [
    {
     "name": "stdout",
     "output_type": "stream",
     "text": [
      "Tile_101.gdb\n",
      "['Tile_101']\n",
      "Tile_102.gdb\n",
      "['Tile_102']\n",
      "Tile_103.gdb\n",
      "['Tile_103']\n",
      "Tile_11.gdb\n",
      "['Tile_11']\n",
      "Tile_12.gdb\n",
      "['Tile_12']\n",
      "Tile_13.gdb\n",
      "['Tile_13']\n",
      "Tile_21.gdb\n",
      "['Tile_21']\n",
      "Tile_22.gdb\n",
      "['Tile_22']\n",
      "Tile_23.gdb\n",
      "['Tile_23']\n",
      "Tile_31.gdb\n",
      "['Tile_31']\n",
      "Tile_32.gdb\n",
      "['Tile_32']\n",
      "Tile_33.gdb\n",
      "['Tile_33']\n",
      "Tile_41.gdb\n",
      "['Tile_41']\n",
      "Tile_42.gdb\n",
      "['Tile_42']\n",
      "Tile_43.gdb\n",
      "['Tile_43']\n",
      "Tile_51.gdb\n",
      "['Tile_51']\n",
      "Tile_52.gdb\n",
      "['Tile_52']\n",
      "Tile_53.gdb\n",
      "['Tile_53']\n",
      "Tile_61.gdb\n",
      "['Tile_61']\n",
      "Tile_62.gdb\n",
      "['Tile_62']\n",
      "Tile_63.gdb\n",
      "['Tile_63']\n",
      "Tile_71.gdb\n",
      "['Tile_71']\n",
      "Tile_72.gdb\n",
      "['Tile_72']\n",
      "Tile_73.gdb\n",
      "['Tile_73']\n",
      "Tile_81.gdb\n",
      "['Tile_81']\n",
      "Tile_82.gdb\n",
      "['Tile_82']\n",
      "Tile_83.gdb\n",
      "['Tile_83']\n",
      "Tile_91.gdb\n",
      "['Tile_91']\n",
      "Tile_92.gdb\n",
      "['Tile_92']\n",
      "Tile_93.gdb\n",
      "['Tile_93']\n"
     ]
    }
   ],
   "execution_count": 7
  },
  {
   "metadata": {
    "ExecuteTime": {
     "end_time": "2025-04-28T04:42:35.278162Z",
     "start_time": "2025-04-28T02:10:37.694975Z"
    }
   },
   "cell_type": "code",
   "source": [
    "workspace = r'E:\\BuildingWorld\\Mississauga\\data'\n",
    "for gdb_file in os.listdir(workspace):\n",
    "    arcpy.env.workspace = os.path.join(workspace, gdb_file)\n",
    "    if arcpy.env.workspace.endswith('.gdb'):\n",
    "        feature_classes = arcpy.ListFeatureClasses()\n",
    "        print(feature_classes[0])\n",
    "        arcpy.management.Add3DFormats(\n",
    "            in_features=feature_classes[0],\n",
    "            multipatch_materials=\"MULTIPATCH_WITH_MATERIALS\",\n",
    "            formats=\"FMT3D_OBJ\"\n",
    "        )"
   ],
   "id": "21394b7cf3c3d4d6",
   "outputs": [
    {
     "name": "stdout",
     "output_type": "stream",
     "text": [
      "Tile_101\n",
      "Tile_102\n",
      "Tile_103\n",
      "Tile_11\n",
      "Tile_12\n",
      "Tile_13\n",
      "Tile_21\n",
      "Tile_22\n",
      "Tile_23\n",
      "Tile_31\n",
      "Tile_32\n",
      "Tile_33\n",
      "Tile_41\n",
      "Tile_42\n",
      "Tile_43\n",
      "Tile_51\n",
      "Tile_52\n",
      "Tile_53\n",
      "Tile_61\n",
      "Tile_62\n",
      "Tile_63\n",
      "Tile_71\n",
      "Tile_72\n",
      "Tile_73\n",
      "Tile_81\n",
      "Tile_82\n",
      "Tile_83\n",
      "Tile_91\n",
      "Tile_92\n",
      "Tile_93\n"
     ]
    }
   ],
   "execution_count": 2
  },
  {
   "metadata": {
    "ExecuteTime": {
     "end_time": "2025-04-28T15:13:55.364504Z",
     "start_time": "2025-04-28T15:13:55.361394Z"
    }
   },
   "cell_type": "code",
   "source": [
    "def export_fc(f, workspace):\n",
    "    print(f\"Exporting: {f}\")\n",
    "    arcpy.env.workspace = workspace\n",
    "    arcpy.management.Export3DObjects(\n",
    "        in_features=f,\n",
    "        target_folder=os.path.join(r'E:\\BuildingWorld\\Mississauga\\obj', f),\n",
    "        formats=\"FMT3D_OBJ\",\n",
    "        name_field=None,\n",
    "        overwrite=\"OVERWRITE\"\n",
    "    )\n",
    "    print(f\"Finished: {f}\")\n",
    "    arcpy.ClearWorkspaceCache_management()\n"
   ],
   "id": "fa02ce612bb7404",
   "outputs": [],
   "execution_count": 2
  },
  {
   "metadata": {
    "ExecuteTime": {
     "end_time": "2025-04-28T15:15:04.816304Z",
     "start_time": "2025-04-28T15:13:58.196838Z"
    }
   },
   "cell_type": "code",
   "source": [
    "tasks = []\n",
    "\n",
    "# First: gather all valid gdb paths\n",
    "Mississauga = r'E:\\BuildingWorld\\Mississauga\\data'\n",
    "for gdb_file in os.listdir(Mississauga):\n",
    "    arcpy.env.workspace = os.path.join(Mississauga, gdb_file)\n",
    "    if arcpy.env.workspace.endswith('.gdb'):\n",
    "        # print(arcpy.env.workspace)\n",
    "        feature_classes = arcpy.ListFeatureClasses()\n",
    "        # print(feature_classes)\n",
    "        tasks.append((feature_classes[0], arcpy.env.workspace))\n",
    "\n",
    "print(tasks)"
   ],
   "id": "3653f4799dfc1ead",
   "outputs": [
    {
     "name": "stdout",
     "output_type": "stream",
     "text": [
      "[('Tile_101', 'E:\\\\BuildingWorld\\\\Mississauga\\\\data\\\\Tile_101.gdb'), ('Tile_102', 'E:\\\\BuildingWorld\\\\Mississauga\\\\data\\\\Tile_102.gdb'), ('Tile_103', 'E:\\\\BuildingWorld\\\\Mississauga\\\\data\\\\Tile_103.gdb'), ('Tile_11', 'E:\\\\BuildingWorld\\\\Mississauga\\\\data\\\\Tile_11.gdb'), ('Tile_12', 'E:\\\\BuildingWorld\\\\Mississauga\\\\data\\\\Tile_12.gdb'), ('Tile_13', 'E:\\\\BuildingWorld\\\\Mississauga\\\\data\\\\Tile_13.gdb'), ('Tile_21', 'E:\\\\BuildingWorld\\\\Mississauga\\\\data\\\\Tile_21.gdb'), ('Tile_22', 'E:\\\\BuildingWorld\\\\Mississauga\\\\data\\\\Tile_22.gdb'), ('Tile_23', 'E:\\\\BuildingWorld\\\\Mississauga\\\\data\\\\Tile_23.gdb'), ('Tile_31', 'E:\\\\BuildingWorld\\\\Mississauga\\\\data\\\\Tile_31.gdb'), ('Tile_32', 'E:\\\\BuildingWorld\\\\Mississauga\\\\data\\\\Tile_32.gdb'), ('Tile_33', 'E:\\\\BuildingWorld\\\\Mississauga\\\\data\\\\Tile_33.gdb'), ('Tile_41', 'E:\\\\BuildingWorld\\\\Mississauga\\\\data\\\\Tile_41.gdb'), ('Tile_42', 'E:\\\\BuildingWorld\\\\Mississauga\\\\data\\\\Tile_42.gdb'), ('Tile_43', 'E:\\\\BuildingWorld\\\\Mississauga\\\\data\\\\Tile_43.gdb'), ('Tile_51', 'E:\\\\BuildingWorld\\\\Mississauga\\\\data\\\\Tile_51.gdb'), ('Tile_52', 'E:\\\\BuildingWorld\\\\Mississauga\\\\data\\\\Tile_52.gdb'), ('Tile_53', 'E:\\\\BuildingWorld\\\\Mississauga\\\\data\\\\Tile_53.gdb'), ('Tile_61', 'E:\\\\BuildingWorld\\\\Mississauga\\\\data\\\\Tile_61.gdb'), ('Tile_62', 'E:\\\\BuildingWorld\\\\Mississauga\\\\data\\\\Tile_62.gdb'), ('Tile_63', 'E:\\\\BuildingWorld\\\\Mississauga\\\\data\\\\Tile_63.gdb'), ('Tile_71', 'E:\\\\BuildingWorld\\\\Mississauga\\\\data\\\\Tile_71.gdb'), ('Tile_72', 'E:\\\\BuildingWorld\\\\Mississauga\\\\data\\\\Tile_72.gdb'), ('Tile_73', 'E:\\\\BuildingWorld\\\\Mississauga\\\\data\\\\Tile_73.gdb'), ('Tile_81', 'E:\\\\BuildingWorld\\\\Mississauga\\\\data\\\\Tile_81.gdb'), ('Tile_82', 'E:\\\\BuildingWorld\\\\Mississauga\\\\data\\\\Tile_82.gdb'), ('Tile_83', 'E:\\\\BuildingWorld\\\\Mississauga\\\\data\\\\Tile_83.gdb'), ('Tile_91', 'E:\\\\BuildingWorld\\\\Mississauga\\\\data\\\\Tile_91.gdb'), ('Tile_92', 'E:\\\\BuildingWorld\\\\Mississauga\\\\data\\\\Tile_92.gdb'), ('Tile_93', 'E:\\\\BuildingWorld\\\\Mississauga\\\\data\\\\Tile_93.gdb')]\n"
     ]
    }
   ],
   "execution_count": 3
  },
  {
   "metadata": {
    "ExecuteTime": {
     "end_time": "2025-04-28T04:54:50.504339Z",
     "start_time": "2025-04-28T04:54:50.498865Z"
    }
   },
   "cell_type": "code",
   "source": "len(tasks)",
   "id": "f8d68383352fd049",
   "outputs": [
    {
     "data": {
      "text/plain": [
       "30"
      ]
     },
     "execution_count": 10,
     "metadata": {},
     "output_type": "execute_result"
    }
   ],
   "execution_count": 10
  },
  {
   "metadata": {
    "jupyter": {
     "is_executing": true
    },
    "ExecuteTime": {
     "start_time": "2025-04-28T15:15:12.714948Z"
    }
   },
   "cell_type": "code",
   "source": [
    "# Then: use tqdm to show progress while submitting to executor\n",
    "with ThreadPoolExecutor(max_workers=6) as executor:\n",
    "    futures = [executor.submit(export_fc, f, path) for f, path in tqdm(tasks, desc=\"Submitting tasks\")]\n",
    "\n",
    "    # Optionally: track progress as tasks complete\n",
    "    for _ in tqdm(as_completed(futures), total=len(futures), desc=\"Processing tasks\"):\n",
    "        pass"
   ],
   "id": "b70de72539f44dc7",
   "outputs": [
    {
     "name": "stderr",
     "output_type": "stream",
     "text": [
      "Submitting tasks:   7%|▋         | 2/30 [00:00<00:09,  2.87it/s]"
     ]
    },
    {
     "name": "stdout",
     "output_type": "stream",
     "text": [
      "Exporting: Tile_101\n",
      "Exporting: Tile_102\n"
     ]
    },
    {
     "name": "stderr",
     "output_type": "stream",
     "text": [
      "Submitting tasks:  13%|█▎        | 4/30 [00:01<00:07,  3.37it/s]"
     ]
    },
    {
     "name": "stdout",
     "output_type": "stream",
     "text": [
      "Exporting: Tile_103\n",
      "Exporting: Tile_11\n"
     ]
    },
    {
     "name": "stderr",
     "output_type": "stream",
     "text": [
      "Submitting tasks:  20%|██        | 6/30 [00:01<00:05,  4.62it/s]"
     ]
    },
    {
     "name": "stdout",
     "output_type": "stream",
     "text": [
      "Exporting: Tile_12\n",
      "Exporting: Tile_13\n"
     ]
    },
    {
     "name": "stderr",
     "output_type": "stream",
     "text": [
      "Submitting tasks: 100%|██████████| 30/30 [00:01<00:00, 18.58it/s]\n",
      "Processing tasks:   3%|▎         | 1/30 [00:01<00:49,  1.70s/it]"
     ]
    },
    {
     "name": "stdout",
     "output_type": "stream",
     "text": [
      "Exporting: Tile_21\n"
     ]
    }
   ],
   "execution_count": null
  },
  {
   "cell_type": "code",
   "id": "75dd15caf799e808",
   "metadata": {
    "ExecuteTime": {
     "start_time": "2025-04-19T03:35:07.713920Z"
    }
   },
   "source": [
    "# Multipatch_42G\n",
    "flag = True\n",
    "for f in feature_classes:\n",
    "    if f == 'Multipatch_44N':\n",
    "        flag = False\n",
    "    if flag:\n",
    "        continue\n",
    "    print(f)\n",
    "    arcpy.management.Export3DObjects(\n",
    "        in_features=f,\n",
    "        target_folder=os.path.join(\"D:\\Toronto\\obj\", f),\n",
    "        formats=\"FMT3D_OBJ\",\n",
    "        name_field=None,\n",
    "        overwrite=\"OVERWRITE\"\n",
    "    )\n"
   ],
   "outputs": [
    {
     "name": "stdout",
     "output_type": "stream",
     "text": [
      "Multipatch_44N\n"
     ]
    }
   ],
   "execution_count": null
  },
  {
   "metadata": {},
   "cell_type": "code",
   "outputs": [],
   "execution_count": null,
   "source": "",
   "id": "d187f5df7e7deaaa"
  }
 ],
 "metadata": {
  "kernelspec": {
   "display_name": "Python 3",
   "language": "python",
   "name": "python3"
  },
  "language_info": {
   "codemirror_mode": {
    "name": "ipython",
    "version": 3
   },
   "file_extension": ".py",
   "mimetype": "text/x-python",
   "name": "python",
   "nbconvert_exporter": "python",
   "pygments_lexer": "ipython3",
   "version": "3.11.10"
  }
 },
 "nbformat": 4,
 "nbformat_minor": 5
}
