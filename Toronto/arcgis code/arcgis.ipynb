{
 "cells": [
  {
   "cell_type": "markdown",
   "id": "f843cc9c0eec1443",
   "metadata": {},
   "source": [
    "# Arcgis Pro -- Export 3D Objects\n",
    "\n",
    "|             Tool             |                                                    Description                                                     |\n",
    "|:----------------------------:|:------------------------------------------------------------------------------------------------------------------:|\n",
    "| Add 3D Formats To Multipatch | Converts a multipatch to a 3D object feature layer by linking the feature class with one or more 3D model formats. |\n",
    "|      Export 3D Objects       |                          Exports 3D object features to one or more 3D model file formats.                          |\n",
    "\n"
   ]
  },
  {
   "cell_type": "code",
   "id": "initial_id",
   "metadata": {
    "collapsed": true,
    "ExecuteTime": {
     "end_time": "2025-04-17T05:43:39.303628Z",
     "start_time": "2025-04-17T05:43:28.686782Z"
    }
   },
   "source": [
    "import arcpy\n",
    "import os"
   ],
   "outputs": [],
   "execution_count": 1
  },
  {
   "cell_type": "markdown",
   "id": "6195d9d49f24a6e4",
   "metadata": {},
   "source": [
    "### Add 3D Formats To Multipatch (Data Management)\n",
    "#### 1. Summary\n",
    "Converts a multipatch to a 3D object feature layer by linking the feature class with one or more 3D model formats."
   ]
  },
  {
   "cell_type": "code",
   "id": "cfc86c3f960e9364",
   "metadata": {
    "ExecuteTime": {
     "end_time": "2025-04-17T05:43:53.104313Z",
     "start_time": "2025-04-17T05:43:52.917281Z"
    }
   },
   "source": "arcpy.env.workspace = r'D:\\Toronto\\3D Massing Multipatch (WGS84)\\3DMassingMultipatch_2023_WGS84.gdb'",
   "outputs": [],
   "execution_count": 2
  },
  {
   "cell_type": "code",
   "id": "96210c8994fa3cbb",
   "metadata": {
    "ExecuteTime": {
     "end_time": "2025-04-17T05:46:11.572786Z",
     "start_time": "2025-04-17T05:46:11.424500Z"
    }
   },
   "source": [
    "print(arcpy.ListFeatureClasses())\n",
    "print(arcpy.ListFeatureClasses(feature_type=\"Polygon\"))\n",
    "print(arcpy.ListFeatureClasses(wild_card=\"Building*\"))\n",
    "# desc = arcpy.Describe('ShapeFile')\n",
    "# print(desc.shapeType)"
   ],
   "outputs": [
    {
     "name": "stdout",
     "output_type": "stream",
     "text": [
      "['Context_Tiles', 'Gardiner']\n",
      "['Context_Tiles']\n",
      "[]\n"
     ]
    }
   ],
   "execution_count": 5
  },
  {
   "metadata": {
    "ExecuteTime": {
     "end_time": "2025-04-17T05:54:21.697837Z",
     "start_time": "2025-04-17T05:54:21.617641Z"
    }
   },
   "cell_type": "code",
   "source": [
    "dataset_name = \"Data\"\n",
    "\n",
    "# 获取 Data 这个 Feature Dataset 下的所有要素类\n",
    "feature_classes = arcpy.ListFeatureClasses(feature_dataset=dataset_name)\n",
    "print(feature_classes)"
   ],
   "id": "b85e439226a37c30",
   "outputs": [
    {
     "name": "stdout",
     "output_type": "stream",
     "text": [
      "['Multipatch_41K', 'Multipatch_42F', 'Multipatch_42G', 'Multipatch_42H', 'Multipatch_42J', 'Multipatch_42K', 'Multipatch_42L', 'Multipatch_42M', 'Multipatch_42N', 'Multipatch_42P', 'Multipatch_42Q', 'Multipatch_43F', 'Multipatch_43G', 'Multipatch_43J', 'Multipatch_43L', 'Multipatch_43M', 'Multipatch_43N', 'Multipatch_43P', 'Multipatch_43Q', 'Multipatch_44N', 'Multipatch_44P', 'Multipatch_44Q', 'Multipatch_45F', 'Multipatch_45K', 'Multipatch_45L', 'Multipatch_45M', 'Multipatch_45N', 'Multipatch_45P', 'Multipatch_45Q', 'Multipatch_46H', 'Multipatch_46K', 'Multipatch_46M', 'Multipatch_46N', 'Multipatch_46P', 'Multipatch_46Q', 'Multipatch_47H', 'Multipatch_47J', 'Multipatch_47K', 'Multipatch_47L', 'Multipatch_47N', 'Multipatch_47P', 'Multipatch_47Q', 'Multipatch_48G', 'Multipatch_48L', 'Multipatch_48M', 'Multipatch_48N', 'Multipatch_48P', 'Multipatch_48Q', 'Multipatch_49G_SOUTH', 'Multipatch_49K', 'Multipatch_49P', 'Multipatch_49Q', 'Multipatch_50F', 'Multipatch_50G_NORTH_3', 'Multipatch_50G_SOUTH_1', 'Multipatch_50G_SOUTH_2', 'Multipatch_50M', 'Multipatch_50N', 'Multipatch_50Q', 'Multipatch_51M', 'Multipatch_52H', 'Multipatch_52L', 'Multipatch_52P', 'Multipatch_52Q', 'Multipatch_53H', 'Multipatch_53J', 'Multipatch_53L', 'Multipatch_53M', 'Multipatch_53N', 'Multipatch_53P', 'Multipatch_53Q', 'Multipatch_54J', 'Multipatch_54L', 'Multipatch_54M', 'Multipatch_54N', 'Multipatch_54P', 'Multipatch_54Q', 'Multipatch_55L', 'Multipatch_55M', 'Multipatch_55N', 'Multipatch_55P', 'Multipatch_56L', 'Multipatch_56M', 'Multipatch_56P', 'Multipatch_56Q', 'Multipatch_57J', 'Multipatch_57K', 'Multipatch_57L', 'Multipatch_57M', 'Multipatch_57N', 'Multipatch_57P', 'Multipatch_57Q', 'Multipatch_58N', 'Multipatch_58Q', 'Multipatch_59L', 'Multipatch_59M', 'Multipatch_59N', 'Multipatch_59P', 'Multipatch_59Q', 'Multipatch_60L', 'Multipatch_45G', 'Multipatch_47M', 'Multipatch_49M', 'Multipatch_50G_NORTH_1', 'Multipatch_51N', 'Multipatch_52J', 'Multipatch_52M', 'Multipatch_53G', 'Multipatch_54K', 'Multipatch_55H', 'Multipatch_55K', 'Multipatch_55Q', 'Multipatch_56N', 'Multipatch_61N', 'Multipatch_61M', 'Multipatch_60Q', 'Multipatch_60P', 'Multipatch_60N', 'Multipatch_60M', 'Multipatch_58L', 'Multipatch_58M', 'Multipatch_58P', 'Multipatch_53K', 'Multipatch_43H', 'Multipatch_43K', 'Multipatch_45H', 'Multipatch_45J', 'Multipatch_46G', 'Multipatch_46J', 'Multipatch_46L', 'Multipatch_48H', 'Multipatch_48J', 'Multipatch_48K', 'Multipatch_49G_NORTH', 'Multipatch_49H', 'Multipatch_49J', 'Multipatch_49L', 'Multipatch_49N', 'Multipatch_50G_NORTH_2', 'Multipatch_50G_SOUTH_3', 'Multipatch_50H_NORTH', 'Multipatch_50H_SOUTH_1', 'Multipatch_50H_SOUTH_2', 'Multipatch_50H_SOUTH_3', 'Multipatch_50J', 'Multipatch_50K', 'Multipatch_50L', 'Multipatch_50P', 'Multipatch_51G', 'Multipatch_51H_NORTH', 'Multipatch_51H_SOUTH', 'Multipatch_51J', 'Multipatch_51K', 'Multipatch_51L', 'Multipatch_51P', 'Multipatch_51Q', 'Multipatch_52G', 'Multipatch_52K', 'Multipatch_52N', 'Multipatch_54H', 'Multipatch_55J', 'Multipatch_56J', 'Multipatch_56K', 'Multipatch_58K']\n"
     ]
    }
   ],
   "execution_count": 11
  },
  {
   "cell_type": "code",
   "execution_count": 5,
   "id": "73de0049f55434cf",
   "metadata": {
    "ExecuteTime": {
     "end_time": "2025-04-14T20:46:42.995333Z",
     "start_time": "2025-04-14T20:46:08.740859Z"
    }
   },
   "outputs": [
    {
     "data": {
      "text/html": [
       "<div class='gpresult'><h2 class='msg-title'>Messages</h2><div id='messages'>Start Time: April 14, 2025 3:22:45 PM<br>Succeeded at April 15, 2025 12:06:05 AM (Elapsed Time: 8 hours 43 minutes 20 seconds)<br></div><div id = 'default' /></div></div>"
      ],
      "text/plain": [
       "<Result 'C:\\\\Users\\\\12617\\\\Desktop\\\\BuildingWorld\\\\Edmonton\\\\3dBuildings.gdb\\\\Building_MP_Merge'>"
      ]
     },
     "execution_count": 5,
     "metadata": {},
     "output_type": "execute_result"
    }
   ],
   "source": [
    "for f in feature_classes:\n",
    "    print(f)\n",
    "    arcpy.management.Add3DFormats(\n",
    "        in_features=\"Multipatch_43K\",\n",
    "        multipatch_materials=\"MULTIPATCH_WITH_MATERIALS\",\n",
    "        formats=\"FMT3D_OBJ\"\n",
    "    )"
   ]
  },
  {
   "cell_type": "code",
   "execution_count": null,
   "id": "75dd15caf799e808",
   "metadata": {},
   "outputs": [
    {
     "ename": "TypeError",
     "evalue": "Describe() missing 1 required positional argument: 'value'",
     "output_type": "error",
     "traceback": [
      "\u001B[1;31m---------------------------------------------------------------------------\u001B[0m",
      "\u001B[1;31mTypeError\u001B[0m                                 Traceback (most recent call last)",
      "Cell \u001B[1;32mIn[7], line 1\u001B[0m\n\u001B[1;32m----> 1\u001B[0m desc \u001B[38;5;241m=\u001B[39m arcpy\u001B[38;5;241m.\u001B[39mDescribe()\n\u001B[0;32m      2\u001B[0m \u001B[38;5;28mprint\u001B[39m(desc\u001B[38;5;241m.\u001B[39mshapeType)\n\u001B[0;32m      4\u001B[0m \u001B[38;5;66;03m# 仍然持有引用，建议用完就清理\u001B[39;00m\n",
      "\u001B[1;31mTypeError\u001B[0m: Describe() missing 1 required positional argument: 'value'"
     ]
    }
   ],
   "source": []
  },
  {
   "cell_type": "code",
   "execution_count": null,
   "id": "637a872e",
   "metadata": {},
   "outputs": [],
   "source": []
  },
  {
   "cell_type": "code",
   "execution_count": null,
   "id": "d92ba0dd",
   "metadata": {},
   "outputs": [],
   "source": []
  }
 ],
 "metadata": {
  "kernelspec": {
   "display_name": "Python 3",
   "language": "python",
   "name": "python3"
  },
  "language_info": {
   "codemirror_mode": {
    "name": "ipython",
    "version": 3
   },
   "file_extension": ".py",
   "mimetype": "text/x-python",
   "name": "python",
   "nbconvert_exporter": "python",
   "pygments_lexer": "ipython3",
   "version": "3.11.10"
  }
 },
 "nbformat": 4,
 "nbformat_minor": 5
}
