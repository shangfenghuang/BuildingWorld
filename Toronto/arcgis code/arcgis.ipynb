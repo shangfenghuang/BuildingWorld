{
 "cells": [
  {
   "cell_type": "markdown",
   "id": "f843cc9c0eec1443",
   "metadata": {},
   "source": [
    "# Arcgis Pro -- Export 3D Objects\n",
    "\n",
    "|             Tool             |                                                    Description                                                     |\n",
    "|:----------------------------:|:------------------------------------------------------------------------------------------------------------------:|\n",
    "| Add 3D Formats To Multipatch | Converts a multipatch to a 3D object feature layer by linking the feature class with one or more 3D model formats. |\n",
    "|      Export 3D Objects       |                          Exports 3D object features to one or more 3D model file formats.                          |\n",
    "\n"
   ]
  },
  {
   "cell_type": "code",
   "id": "initial_id",
   "metadata": {
    "collapsed": true,
    "ExecuteTime": {
     "end_time": "2025-04-17T17:59:27.499569Z",
     "start_time": "2025-04-17T17:59:23.276124Z"
    }
   },
   "source": [
    "import arcpy\n",
    "import os"
   ],
   "outputs": [],
   "execution_count": 1
  },
  {
   "cell_type": "markdown",
   "id": "6195d9d49f24a6e4",
   "metadata": {},
   "source": [
    "### Add 3D Formats To Multipatch (Data Management)\n",
    "#### 1. Summary\n",
    "Converts a multipatch to a 3D object feature layer by linking the feature class with one or more 3D model formats."
   ]
  },
  {
   "cell_type": "code",
   "id": "cfc86c3f960e9364",
   "metadata": {
    "ExecuteTime": {
     "end_time": "2025-04-17T17:59:27.690707Z",
     "start_time": "2025-04-17T17:59:27.577883Z"
    }
   },
   "source": "arcpy.env.workspace = r'D:\\Toronto\\3D Massing Multipatch (WGS84)\\3DMassingMultipatch_2023_WGS84.gdb'",
   "outputs": [],
   "execution_count": 2
  },
  {
   "cell_type": "code",
   "id": "96210c8994fa3cbb",
   "metadata": {
    "ExecuteTime": {
     "end_time": "2025-04-17T17:59:28.333733Z",
     "start_time": "2025-04-17T17:59:27.778048Z"
    }
   },
   "source": [
    "print(arcpy.ListFeatureClasses())\n",
    "print(arcpy.ListFeatureClasses(feature_type=\"Polygon\"))\n",
    "print(arcpy.ListFeatureClasses(wild_card=\"Building*\"))\n",
    "# desc = arcpy.Describe('ShapeFile')\n",
    "# print(desc.shapeType)"
   ],
   "outputs": [
    {
     "name": "stdout",
     "output_type": "stream",
     "text": [
      "['Context_Tiles', 'Gardiner']\n",
      "['Context_Tiles']\n",
      "[]\n"
     ]
    }
   ],
   "execution_count": 3
  },
  {
   "metadata": {
    "ExecuteTime": {
     "end_time": "2025-04-17T17:59:29.000061Z",
     "start_time": "2025-04-17T17:59:28.915763Z"
    }
   },
   "cell_type": "code",
   "source": [
    "dataset_name = \"Data\"\n",
    "\n",
    "# 获取 Data 这个 Feature Dataset 下的所有要素类\n",
    "feature_classes = arcpy.ListFeatureClasses(feature_dataset=dataset_name)\n",
    "print(feature_classes)"
   ],
   "id": "b85e439226a37c30",
   "outputs": [
    {
     "name": "stdout",
     "output_type": "stream",
     "text": [
      "['Multipatch_41K', 'Multipatch_42F', 'Multipatch_42G', 'Multipatch_42H', 'Multipatch_42J', 'Multipatch_42K', 'Multipatch_42L', 'Multipatch_42M', 'Multipatch_42N', 'Multipatch_42P', 'Multipatch_42Q', 'Multipatch_43F', 'Multipatch_43G', 'Multipatch_43J', 'Multipatch_43L', 'Multipatch_43M', 'Multipatch_43N', 'Multipatch_43P', 'Multipatch_43Q', 'Multipatch_44N', 'Multipatch_44P', 'Multipatch_44Q', 'Multipatch_45F', 'Multipatch_45K', 'Multipatch_45L', 'Multipatch_45M', 'Multipatch_45N', 'Multipatch_45P', 'Multipatch_45Q', 'Multipatch_46H', 'Multipatch_46K', 'Multipatch_46M', 'Multipatch_46N', 'Multipatch_46P', 'Multipatch_46Q', 'Multipatch_47H', 'Multipatch_47J', 'Multipatch_47K', 'Multipatch_47L', 'Multipatch_47N', 'Multipatch_47P', 'Multipatch_47Q', 'Multipatch_48G', 'Multipatch_48L', 'Multipatch_48M', 'Multipatch_48N', 'Multipatch_48P', 'Multipatch_48Q', 'Multipatch_49G_SOUTH', 'Multipatch_49K', 'Multipatch_49P', 'Multipatch_49Q', 'Multipatch_50F', 'Multipatch_50G_NORTH_3', 'Multipatch_50G_SOUTH_1', 'Multipatch_50G_SOUTH_2', 'Multipatch_50M', 'Multipatch_50N', 'Multipatch_50Q', 'Multipatch_51M', 'Multipatch_52H', 'Multipatch_52L', 'Multipatch_52P', 'Multipatch_52Q', 'Multipatch_53H', 'Multipatch_53J', 'Multipatch_53L', 'Multipatch_53M', 'Multipatch_53N', 'Multipatch_53P', 'Multipatch_53Q', 'Multipatch_54J', 'Multipatch_54L', 'Multipatch_54M', 'Multipatch_54N', 'Multipatch_54P', 'Multipatch_54Q', 'Multipatch_55L', 'Multipatch_55M', 'Multipatch_55N', 'Multipatch_55P', 'Multipatch_56L', 'Multipatch_56M', 'Multipatch_56P', 'Multipatch_56Q', 'Multipatch_57J', 'Multipatch_57K', 'Multipatch_57L', 'Multipatch_57M', 'Multipatch_57N', 'Multipatch_57P', 'Multipatch_57Q', 'Multipatch_58N', 'Multipatch_58Q', 'Multipatch_59L', 'Multipatch_59M', 'Multipatch_59N', 'Multipatch_59P', 'Multipatch_59Q', 'Multipatch_60L', 'Multipatch_45G', 'Multipatch_47M', 'Multipatch_49M', 'Multipatch_50G_NORTH_1', 'Multipatch_51N', 'Multipatch_52J', 'Multipatch_52M', 'Multipatch_53G', 'Multipatch_54K', 'Multipatch_55H', 'Multipatch_55K', 'Multipatch_55Q', 'Multipatch_56N', 'Multipatch_61N', 'Multipatch_61M', 'Multipatch_60Q', 'Multipatch_60P', 'Multipatch_60N', 'Multipatch_60M', 'Multipatch_58L', 'Multipatch_58M', 'Multipatch_58P', 'Multipatch_53K', 'Multipatch_43H', 'Multipatch_43K', 'Multipatch_45H', 'Multipatch_45J', 'Multipatch_46G', 'Multipatch_46J', 'Multipatch_46L', 'Multipatch_48H', 'Multipatch_48J', 'Multipatch_48K', 'Multipatch_49G_NORTH', 'Multipatch_49H', 'Multipatch_49J', 'Multipatch_49L', 'Multipatch_49N', 'Multipatch_50G_NORTH_2', 'Multipatch_50G_SOUTH_3', 'Multipatch_50H_NORTH', 'Multipatch_50H_SOUTH_1', 'Multipatch_50H_SOUTH_2', 'Multipatch_50H_SOUTH_3', 'Multipatch_50J', 'Multipatch_50K', 'Multipatch_50L', 'Multipatch_50P', 'Multipatch_51G', 'Multipatch_51H_NORTH', 'Multipatch_51H_SOUTH', 'Multipatch_51J', 'Multipatch_51K', 'Multipatch_51L', 'Multipatch_51P', 'Multipatch_51Q', 'Multipatch_52G', 'Multipatch_52K', 'Multipatch_52N', 'Multipatch_54H', 'Multipatch_55J', 'Multipatch_56J', 'Multipatch_56K', 'Multipatch_58K']\n"
     ]
    }
   ],
   "execution_count": 4
  },
  {
   "cell_type": "code",
   "id": "73de0049f55434cf",
   "metadata": {
    "ExecuteTime": {
     "end_time": "2025-04-18T01:58:54.793430Z",
     "start_time": "2025-04-17T17:59:29.914662Z"
    }
   },
   "source": [
    "# ------------------------------ Add obj into multipatch --------------------------------------\n",
    "\n",
    "for f in feature_classes:\n",
    "    print(f)\n",
    "    arcpy.management.Add3DFormats(\n",
    "        in_features=f,\n",
    "        multipatch_materials=\"MULTIPATCH_WITH_MATERIALS\",\n",
    "        formats=\"FMT3D_OBJ\"\n",
    "    )"
   ],
   "outputs": [
    {
     "name": "stdout",
     "output_type": "stream",
     "text": [
      "Multipatch_41K\n",
      "Multipatch_42F\n",
      "Multipatch_42G\n",
      "Multipatch_42H\n",
      "Multipatch_42J\n",
      "Multipatch_42K\n",
      "Multipatch_42L\n",
      "Multipatch_42M\n",
      "Multipatch_42N\n",
      "Multipatch_42P\n",
      "Multipatch_42Q\n",
      "Multipatch_43F\n",
      "Multipatch_43G\n",
      "Multipatch_43J\n",
      "Multipatch_43L\n",
      "Multipatch_43M\n",
      "Multipatch_43N\n",
      "Multipatch_43P\n",
      "Multipatch_43Q\n",
      "Multipatch_44N\n",
      "Multipatch_44P\n",
      "Multipatch_44Q\n",
      "Multipatch_45F\n",
      "Multipatch_45K\n",
      "Multipatch_45L\n",
      "Multipatch_45M\n",
      "Multipatch_45N\n",
      "Multipatch_45P\n",
      "Multipatch_45Q\n",
      "Multipatch_46H\n",
      "Multipatch_46K\n",
      "Multipatch_46M\n",
      "Multipatch_46N\n",
      "Multipatch_46P\n",
      "Multipatch_46Q\n",
      "Multipatch_47H\n",
      "Multipatch_47J\n",
      "Multipatch_47K\n",
      "Multipatch_47L\n",
      "Multipatch_47N\n",
      "Multipatch_47P\n",
      "Multipatch_47Q\n",
      "Multipatch_48G\n",
      "Multipatch_48L\n",
      "Multipatch_48M\n",
      "Multipatch_48N\n",
      "Multipatch_48P\n",
      "Multipatch_48Q\n",
      "Multipatch_49G_SOUTH\n",
      "Multipatch_49K\n",
      "Multipatch_49P\n",
      "Multipatch_49Q\n",
      "Multipatch_50F\n",
      "Multipatch_50G_NORTH_3\n",
      "Multipatch_50G_SOUTH_1\n",
      "Multipatch_50G_SOUTH_2\n",
      "Multipatch_50M\n",
      "Multipatch_50N\n",
      "Multipatch_50Q\n",
      "Multipatch_51M\n",
      "Multipatch_52H\n",
      "Multipatch_52L\n",
      "Multipatch_52P\n",
      "Multipatch_52Q\n",
      "Multipatch_53H\n",
      "Multipatch_53J\n",
      "Multipatch_53L\n",
      "Multipatch_53M\n",
      "Multipatch_53N\n",
      "Multipatch_53P\n",
      "Multipatch_53Q\n",
      "Multipatch_54J\n",
      "Multipatch_54L\n",
      "Multipatch_54M\n",
      "Multipatch_54N\n",
      "Multipatch_54P\n",
      "Multipatch_54Q\n",
      "Multipatch_55L\n",
      "Multipatch_55M\n",
      "Multipatch_55N\n",
      "Multipatch_55P\n",
      "Multipatch_56L\n",
      "Multipatch_56M\n",
      "Multipatch_56P\n",
      "Multipatch_56Q\n",
      "Multipatch_57J\n",
      "Multipatch_57K\n",
      "Multipatch_57L\n",
      "Multipatch_57M\n",
      "Multipatch_57N\n",
      "Multipatch_57P\n",
      "Multipatch_57Q\n",
      "Multipatch_58N\n",
      "Multipatch_58Q\n",
      "Multipatch_59L\n",
      "Multipatch_59M\n",
      "Multipatch_59N\n",
      "Multipatch_59P\n",
      "Multipatch_59Q\n",
      "Multipatch_60L\n",
      "Multipatch_45G\n",
      "Multipatch_47M\n",
      "Multipatch_49M\n",
      "Multipatch_50G_NORTH_1\n",
      "Multipatch_51N\n",
      "Multipatch_52J\n",
      "Multipatch_52M\n",
      "Multipatch_53G\n",
      "Multipatch_54K\n",
      "Multipatch_55H\n",
      "Multipatch_55K\n",
      "Multipatch_55Q\n",
      "Multipatch_56N\n",
      "Multipatch_61N\n",
      "Multipatch_61M\n",
      "Multipatch_60Q\n",
      "Multipatch_60P\n",
      "Multipatch_60N\n",
      "Multipatch_60M\n",
      "Multipatch_58L\n",
      "Multipatch_58M\n",
      "Multipatch_58P\n",
      "Multipatch_53K\n",
      "Multipatch_43H\n",
      "Multipatch_43K\n",
      "Multipatch_45H\n",
      "Multipatch_45J\n",
      "Multipatch_46G\n",
      "Multipatch_46J\n",
      "Multipatch_46L\n",
      "Multipatch_48H\n",
      "Multipatch_48J\n",
      "Multipatch_48K\n",
      "Multipatch_49G_NORTH\n",
      "Multipatch_49H\n",
      "Multipatch_49J\n",
      "Multipatch_49L\n",
      "Multipatch_49N\n",
      "Multipatch_50G_NORTH_2\n",
      "Multipatch_50G_SOUTH_3\n",
      "Multipatch_50H_NORTH\n",
      "Multipatch_50H_SOUTH_1\n",
      "Multipatch_50H_SOUTH_2\n",
      "Multipatch_50H_SOUTH_3\n",
      "Multipatch_50J\n",
      "Multipatch_50K\n",
      "Multipatch_50L\n",
      "Multipatch_50P\n",
      "Multipatch_51G\n",
      "Multipatch_51H_NORTH\n",
      "Multipatch_51H_SOUTH\n",
      "Multipatch_51J\n",
      "Multipatch_51K\n",
      "Multipatch_51L\n",
      "Multipatch_51P\n",
      "Multipatch_51Q\n",
      "Multipatch_52G\n",
      "Multipatch_52K\n",
      "Multipatch_52N\n",
      "Multipatch_54H\n",
      "Multipatch_55J\n",
      "Multipatch_56J\n",
      "Multipatch_56K\n",
      "Multipatch_58K\n"
     ]
    }
   ],
   "execution_count": 5
  },
  {
   "cell_type": "code",
   "id": "75dd15caf799e808",
   "metadata": {
    "jupyter": {
     "is_executing": true
    },
    "ExecuteTime": {
     "start_time": "2025-04-18T03:01:18.947540Z"
    }
   },
   "source": [
    "for f in feature_classes:\n",
    "    print(f)\n",
    "    arcpy.management.Export3DObjects(\n",
    "        in_features=f,\n",
    "        target_folder=os.path.join(\"D:\\Toronto\\obj\", f),\n",
    "        formats=\"FMT3D_OBJ\",\n",
    "        name_field=None,\n",
    "        overwrite=\"OVERWRITE\"\n",
    "    )\n"
   ],
   "outputs": [
    {
     "name": "stdout",
     "output_type": "stream",
     "text": [
      "Multipatch_41K\n"
     ]
    }
   ],
   "execution_count": null
  },
  {
   "cell_type": "code",
   "execution_count": null,
   "id": "637a872e",
   "metadata": {},
   "outputs": [],
   "source": []
  }
 ],
 "metadata": {
  "kernelspec": {
   "display_name": "Python 3",
   "language": "python",
   "name": "python3"
  },
  "language_info": {
   "codemirror_mode": {
    "name": "ipython",
    "version": 3
   },
   "file_extension": ".py",
   "mimetype": "text/x-python",
   "name": "python",
   "nbconvert_exporter": "python",
   "pygments_lexer": "ipython3",
   "version": "3.11.10"
  }
 },
 "nbformat": 4,
 "nbformat_minor": 5
}
