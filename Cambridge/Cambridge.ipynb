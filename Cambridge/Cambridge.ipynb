{
 "cells": [
  {
   "metadata": {},
   "cell_type": "markdown",
   "source": "# City of Cambridge",
   "id": "38478f47950919ea"
  },
  {
   "metadata": {
    "ExecuteTime": {
     "end_time": "2025-06-04T03:39:23.623846Z",
     "start_time": "2025-06-04T03:39:23.535705Z"
    }
   },
   "cell_type": "code",
   "source": [
    "import os\n",
    "import numpy as np\n",
    "import shutil"
   ],
   "id": "a863b8f18746c05d",
   "outputs": [],
   "execution_count": 1
  },
  {
   "metadata": {},
   "cell_type": "markdown",
   "source": "### 1. Move all the building objects into one folder",
   "id": "58f105be30566e07"
  },
  {
   "cell_type": "code",
   "id": "initial_id",
   "metadata": {
    "collapsed": true,
    "ExecuteTime": {
     "end_time": "2025-06-04T03:50:19.507950Z",
     "start_time": "2025-06-04T03:40:10.124980Z"
    }
   },
   "source": [
    "buildings = r'G:\\BuildingWorld\\NorthA\\Cambridge\\data\\Buildings'\n",
    "obj_buildings = r'G:\\BuildingWorld\\NorthA\\Cambridge\\obj\\Buildings'\n",
    "\n",
    "for name in os.listdir(buildings):\n",
    "    if not name.endswith('.zip'):\n",
    "        buildings_folders = os.path.join(buildings, name)\n",
    "        print(name)\n",
    "        for name in os.listdir(buildings_folders):\n",
    "            buildings_folder = os.path.join(buildings_folders, name)\n",
    "            for name in os.listdir(buildings_folder):\n",
    "                buildings_file = os.path.join(buildings_folder, name, name[:-4] + '.obj')\n",
    "                obj_buildings_file = os.path.join(obj_buildings, name[:-4] + '.obj')\n",
    "                # if os.path.exists(obj_buildings_file):\n",
    "                #     print('{} already exists'.format(obj_buildings_file))\n",
    "                # else:\n",
    "                shutil.copy(buildings_file, obj_buildings_file)"
   ],
   "outputs": [
    {
     "name": "stdout",
     "output_type": "stream",
     "text": [
      "CAMB3D_C1_OBJ_Buildings_obj\n",
      "CAMB3D_C2_OBJ_Buildings_obj\n",
      "CAMB3D_C3_OBJ_Buildings_obj\n",
      "CAMB3D_D1_OBJ_Buildings_obj\n",
      "CAMB3D_D2_OBJ_Buildings_obj\n",
      "CAMB3D_D3_OBJ_Buildings_obj\n",
      "CAMB3D_E1_OBJ_Buildings_obj\n",
      "CAMB3D_E2_OBJ_Buildings_obj\n",
      "CAMB3D_E3_OBJ_Buildings_obj\n",
      "CAMB3D_E4_OBJ_Buildings_obj\n",
      "CAMB3D_F2_OBJ_Buildings_obj\n",
      "CAMB3D_F3_OBJ_Buildings_obj\n",
      "CAMB3D_F4_OBJ_Buildings_obj\n",
      "CAMB3D_G3_OBJ_Buildings_obj\n",
      "CAMB3D_G4_OBJ_Buildings_obj\n",
      "CAMB3D_H3_OBJ_Buildings_obj\n"
     ]
    }
   ],
   "execution_count": 3
  },
  {
   "metadata": {
    "ExecuteTime": {
     "end_time": "2025-06-04T03:39:29.187553Z",
     "start_time": "2025-06-04T03:39:29.176531Z"
    }
   },
   "cell_type": "code",
   "source": "",
   "id": "f7c40eb51bb5231c",
   "outputs": [],
   "execution_count": null
  }
 ],
 "metadata": {
  "kernelspec": {
   "display_name": "Python 3",
   "language": "python",
   "name": "python3"
  },
  "language_info": {
   "codemirror_mode": {
    "name": "ipython",
    "version": 2
   },
   "file_extension": ".py",
   "mimetype": "text/x-python",
   "name": "python",
   "nbconvert_exporter": "python",
   "pygments_lexer": "ipython2",
   "version": "2.7.6"
  }
 },
 "nbformat": 4,
 "nbformat_minor": 5
}
