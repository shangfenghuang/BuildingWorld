{
 "cells": [
  {
   "cell_type": "markdown",
   "id": "f843cc9c0eec1443",
   "metadata": {},
   "source": [
    "# Arcgis Pro -- Export 3D Objects\n",
    "\n",
    "|             Tool             |                                                    Description                                                     |\n",
    "|:----------------------------:|:------------------------------------------------------------------------------------------------------------------:|\n",
    "| Add 3D Formats To Multipatch | Converts a multipatch to a 3D object feature layer by linking the feature class with one or more 3D model formats. |\n",
    "|      Export 3D Objects       |                          Exports 3D object features to one or more 3D model file formats.                          |\n",
    "\n"
   ]
  },
  {
   "cell_type": "code",
   "id": "initial_id",
   "metadata": {
    "collapsed": true,
    "ExecuteTime": {
     "end_time": "2025-06-06T04:55:02.725792Z",
     "start_time": "2025-06-06T04:54:58.962345Z"
    }
   },
   "source": [
    "import arcpy\n",
    "import os\n",
    "\n",
    "from concurrent.futures import ThreadPoolExecutor, as_completed\n",
    "from tqdm import tqdm"
   ],
   "outputs": [],
   "execution_count": 1
  },
  {
   "cell_type": "markdown",
   "id": "6195d9d49f24a6e4",
   "metadata": {},
   "source": [
    "### Add 3D Formats To Multipatch (Data Management)\n",
    "#### 1. Summary\n",
    "Converts a multipatch to a 3D object feature layer by linking the feature class with one or more 3D model formats."
   ]
  },
  {
   "cell_type": "code",
   "id": "cfc86c3f960e9364",
   "metadata": {
    "ExecuteTime": {
     "end_time": "2025-06-06T04:55:23.314444Z",
     "start_time": "2025-06-06T04:55:23.234691Z"
    }
   },
   "source": "arcpy.env.workspace = r'G:\\BuildingWorld\\Europe\\Dresden\\Arcgis\\2048_2656.gdb'",
   "outputs": [],
   "execution_count": 2
  },
  {
   "cell_type": "code",
   "id": "96210c8994fa3cbb",
   "metadata": {
    "ExecuteTime": {
     "end_time": "2025-06-06T04:55:25.388634Z",
     "start_time": "2025-06-06T04:55:24.759497Z"
    }
   },
   "source": [
    "print(arcpy.ListFeatureClasses())\n",
    "# desc = arcpy.Describe('ShapeFile')\n",
    "# print(desc.shapeType) "
   ],
   "outputs": [
    {
     "name": "stdout",
     "output_type": "stream",
     "text": [
      "['Gebaeude_LOD2_Blatt2656', 'Gebaeude_LOD2_Blatt2654', 'Gebaeude_LOD2_Blatt2456', 'Gebaeude_LOD2_Blatt2454', 'Gebaeude_LOD2_Blatt2452', 'Gebaeude_LOD2_Blatt2264', 'Gebaeude_LOD2_Blatt2262', 'Gebaeude_LOD2_Blatt2258', 'Gebaeude_LOD2_Blatt2256', 'Gebaeude_LOD2_Blatt2254', 'Gebaeude_LOD2_Blatt2252', 'Gebaeude_LOD2_Blatt2250', 'Gebaeude_LOD2_Blatt2248', 'Gebaeude_LOD2_Blatt2066', 'Gebaeude_LOD2_Blatt2064', 'Gebaeude_LOD2_Blatt2062', 'Gebaeude_LOD2_Blatt2058', 'Gebaeude_LOD2_Blatt2056', 'Gebaeude_LOD2_Blatt2054', 'Gebaeude_LOD2_Blatt2052', 'Gebaeude_LOD2_Blatt2050', 'Gebaeude_LOD2_Blatt2048']\n"
     ]
    }
   ],
   "execution_count": 3
  },
  {
   "cell_type": "code",
   "id": "73de0049f55434cf",
   "metadata": {
    "ExecuteTime": {
     "end_time": "2025-06-06T04:57:13.819678Z",
     "start_time": "2025-06-06T04:57:12.645009Z"
    }
   },
   "source": [
    "print(arcpy.ListFeatureClasses())\n",
    "# desc = arcpy.Describe('ShapeFile')\n",
    "# print(desc.shapeType)\n",
    "print()\n",
    "if arcpy.env.workspace.endswith('.gdb'):\n",
    "    print(arcpy.ListFeatureClasses())"
   ],
   "outputs": [
    {
     "name": "stdout",
     "output_type": "stream",
     "text": [
      "['Gebaeude_LOD2_Blatt2656', 'Gebaeude_LOD2_Blatt2654', 'Gebaeude_LOD2_Blatt2456', 'Gebaeude_LOD2_Blatt2454', 'Gebaeude_LOD2_Blatt2452', 'Gebaeude_LOD2_Blatt2264', 'Gebaeude_LOD2_Blatt2262', 'Gebaeude_LOD2_Blatt2258', 'Gebaeude_LOD2_Blatt2256', 'Gebaeude_LOD2_Blatt2254', 'Gebaeude_LOD2_Blatt2252', 'Gebaeude_LOD2_Blatt2250', 'Gebaeude_LOD2_Blatt2248', 'Gebaeude_LOD2_Blatt2066', 'Gebaeude_LOD2_Blatt2064', 'Gebaeude_LOD2_Blatt2062', 'Gebaeude_LOD2_Blatt2058', 'Gebaeude_LOD2_Blatt2056', 'Gebaeude_LOD2_Blatt2054', 'Gebaeude_LOD2_Blatt2052', 'Gebaeude_LOD2_Blatt2050', 'Gebaeude_LOD2_Blatt2048']\n",
      "\n",
      "['Gebaeude_LOD2_Blatt2656', 'Gebaeude_LOD2_Blatt2654', 'Gebaeude_LOD2_Blatt2456', 'Gebaeude_LOD2_Blatt2454', 'Gebaeude_LOD2_Blatt2452', 'Gebaeude_LOD2_Blatt2264', 'Gebaeude_LOD2_Blatt2262', 'Gebaeude_LOD2_Blatt2258', 'Gebaeude_LOD2_Blatt2256', 'Gebaeude_LOD2_Blatt2254', 'Gebaeude_LOD2_Blatt2252', 'Gebaeude_LOD2_Blatt2250', 'Gebaeude_LOD2_Blatt2248', 'Gebaeude_LOD2_Blatt2066', 'Gebaeude_LOD2_Blatt2064', 'Gebaeude_LOD2_Blatt2062', 'Gebaeude_LOD2_Blatt2058', 'Gebaeude_LOD2_Blatt2056', 'Gebaeude_LOD2_Blatt2054', 'Gebaeude_LOD2_Blatt2052', 'Gebaeude_LOD2_Blatt2050', 'Gebaeude_LOD2_Blatt2048']\n"
     ]
    }
   ],
   "execution_count": 5
  },
  {
   "cell_type": "code",
   "id": "75dd15caf799e808",
   "metadata": {
    "jupyter": {
     "is_executing": true
    },
    "ExecuteTime": {
     "start_time": "2025-06-06T08:32:05.308626Z"
    }
   },
   "source": [
    "Dresden = r'G:\\BuildingWorld\\Europe\\Dresden\\Arcgis'\n",
    "for gdb_file in os.listdir(Dresden):\n",
    "    if gdb_file.endswith('.gdb'):\n",
    "        arcpy.env.workspace = os.path.join(Dresden, gdb_file)\n",
    "        print(arcpy.ListFeatureClasses())\n",
    "        for f in arcpy.ListFeatureClasses():\n",
    "            print(f)\n",
    "            arcpy.management.Add3DFormats(\n",
    "                in_features=f,\n",
    "                multipatch_materials=\"MULTIPATCH_WITH_MATERIALS\",\n",
    "                formats=\"FMT3D_OBJ\"\n",
    "            )"
   ],
   "outputs": [
    {
     "name": "stdout",
     "output_type": "stream",
     "text": [
      "['Gebaeude_LOD2_Blatt0864', 'Gebaeude_LOD2_Blatt0862', 'Gebaeude_LOD2_Blatt0860', 'Gebaeude_LOD2_Blatt0858', 'Gebaeude_LOD2_Blatt0856', 'Gebaeude_LOD2_Blatt0854', 'Gebaeude_LOD2_Blatt0852', 'Gebaeude_LOD2_Blatt0850', 'Gebaeude_LOD2_Blatt0660', 'Gebaeude_LOD2_Blatt0658', 'Gebaeude_LOD2_Blatt0656', 'Gebaeude_LOD2_Blatt0654', 'Gebaeude_LOD2_Blatt0652', 'Gebaeude_LOD2_Blatt0650', 'Gebaeude_LOD2_Blatt0460', 'Gebaeude_LOD2_Blatt0458', 'Gebaeude_LOD2_Blatt0456', 'Gebaeude_LOD2_Blatt0454', 'Gebaeude_LOD2_Blatt0452', 'Gebaeude_LOD2_Blatt0260', 'Gebaeude_LOD2_Blatt0258', 'Gebaeude_LOD2_Blatt0256', 'Gebaeude_LOD2_Blatt0254', 'Gebaeude_LOD2_Blatt0060', 'Gebaeude_LOD2_Blatt0058', 'Gebaeude_LOD2_Blatt0056', 'Gebaeude_LOD2_Blatt0054']\n",
      "Gebaeude_LOD2_Blatt0864\n",
      "Gebaeude_LOD2_Blatt0862\n",
      "Gebaeude_LOD2_Blatt0860\n",
      "Gebaeude_LOD2_Blatt0858\n",
      "Gebaeude_LOD2_Blatt0856\n",
      "Gebaeude_LOD2_Blatt0854\n",
      "Gebaeude_LOD2_Blatt0852\n",
      "Gebaeude_LOD2_Blatt0850\n",
      "Gebaeude_LOD2_Blatt0660\n",
      "Gebaeude_LOD2_Blatt0658\n",
      "Gebaeude_LOD2_Blatt0656\n",
      "Gebaeude_LOD2_Blatt0654\n"
     ]
    }
   ],
   "execution_count": null
  },
  {
   "metadata": {},
   "cell_type": "markdown",
   "source": [
    "### Convert to Obj Models\n",
    "\n",
    "```\n",
    "arcpy.management.Export3DObjects(\n",
    "        in_features=f,\n",
    "        target_folder=\"./obj\",\n",
    "        formats=\"FMT3D_OBJ\",\n",
    "        name_field=None,\n",
    "        overwrite=\"OVERWRITE\"\n",
    "    )\n",
    "```"
   ],
   "id": "73f23a8cc1ee2e5b"
  },
  {
   "cell_type": "code",
   "execution_count": null,
   "id": "637a872e",
   "metadata": {},
   "outputs": [],
   "source": [
    "def export_fc(f, workspace):\n",
    "    print(f\"Exporting: {f}\")\n",
    "    arcpy.env.workspace = workspace\n",
    "    arcpy.management.Export3DObjects(\n",
    "        in_features=f,\n",
    "        target_folder=os.path.join(r'G:\\BuildingWorld\\Europe\\Dresden\\obj', f),\n",
    "        formats=\"FMT3D_OBJ\",\n",
    "        name_field=None,\n",
    "        overwrite=\"OVERWRITE\"\n",
    "    )\n",
    "    print(f\"Finished: {f}\")\n",
    "    arcpy.ClearWorkspaceCache_management()\n"
   ]
  },
  {
   "cell_type": "code",
   "execution_count": null,
   "id": "d92ba0dd",
   "metadata": {},
   "outputs": [],
   "source": [
    "tasks = []\n",
    "\n",
    "# First: gather all valid gdb paths\n",
    "Mississauga = r'G:\\BuildingWorld\\Europe\\Dresden\\Arcgis'\n",
    "for gdb_file in os.listdir(Mississauga):\n",
    "    arcpy.env.workspace = os.path.join(Mississauga, gdb_file)\n",
    "    if arcpy.env.workspace.endswith('.gdb'):\n",
    "        # print(arcpy.env.workspace)\n",
    "        feature_classes = arcpy.ListFeatureClasses()\n",
    "        # print(feature_classes)\n",
    "        for f in feature_classes:\n",
    "            tasks.append((f, arcpy.env.workspace))\n",
    "\n",
    "print(tasks)"
   ]
  },
  {
   "metadata": {},
   "cell_type": "code",
   "outputs": [],
   "execution_count": null,
   "source": [
    "# Then: use tqdm to show progress while submitting to executor\n",
    "with ThreadPoolExecutor(max_workers=6) as executor:\n",
    "    features = [executor.submit(export_fc, f, path) for f, path in tqdm(tasks, desc=\"Submitting tasks\")]\n",
    "\n",
    "    # Optionally: track progress as tasks complete\n",
    "    for _ in tqdm(as_completed(features), total=len(features), desc=\"Processing tasks\"):\n",
    "        pass"
   ],
   "id": "5c5dd0bc33979e3d"
  }
 ],
 "metadata": {
  "kernelspec": {
   "display_name": "Python 3",
   "language": "python",
   "name": "python3"
  },
  "language_info": {
   "codemirror_mode": {
    "name": "ipython",
    "version": 3
   },
   "file_extension": ".py",
   "mimetype": "text/x-python",
   "name": "python",
   "nbconvert_exporter": "python",
   "pygments_lexer": "ipython3",
   "version": "3.11.10"
  }
 },
 "nbformat": 4,
 "nbformat_minor": 5
}
