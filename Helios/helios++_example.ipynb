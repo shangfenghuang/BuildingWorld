{
 "cells": [
  {
   "metadata": {},
   "cell_type": "markdown",
   "source": "# Helios++ Examples",
   "id": "97a971ef7585ade"
  },
  {
   "metadata": {
    "ExecuteTime": {
     "end_time": "2025-05-01T21:19:26.627484Z",
     "start_time": "2025-05-01T21:19:26.624397Z"
    }
   },
   "cell_type": "code",
   "source": [
    "import math\n",
    "import pyhelios"
   ],
   "id": "c8e398b1ee3b5a62",
   "outputs": [],
   "execution_count": 3
  },
  {
   "metadata": {
    "ExecuteTime": {
     "end_time": "2025-05-01T21:19:29.934889Z",
     "start_time": "2025-05-01T21:19:29.898213Z"
    }
   },
   "cell_type": "code",
   "source": [
    "pyhelios.loggingDefault()\n",
    "# build simulation parameters\n",
    "simBuilder = pyhelios.SimulationBuilder(\n",
    "    r\"C:\\Users\\Ethan\\Desktop\\BuildingWorld\\Helios\\Montreal_survery.xml\", [\"assets/\"], \"output/\"\n",
    ")\n",
    "simBuilder.setNumThreads(0)\n",
    "simBuilder.setLasOutput(True)\n",
    "simBuilder.setZipOutput(True)\n",
    "\n",
    "# build the survey\n",
    "simB = simBuilder.build()"
   ],
   "id": "821d64391ea25ea0",
   "outputs": [
    {
     "name": "stdout",
     "output_type": "stream",
     "text": [
      "SimulationBuilder is building simulation ...\n",
      "SimulationBuilder built simulation in 0.031020399881526828 seconds\n"
     ]
    }
   ],
   "execution_count": 4
  },
  {
   "metadata": {},
   "cell_type": "code",
   "outputs": [],
   "execution_count": null,
   "source": "",
   "id": "d50c3d7916aab7d9"
  }
 ],
 "metadata": {
  "kernelspec": {
   "display_name": "Python 3",
   "language": "python",
   "name": "python3"
  },
  "language_info": {
   "codemirror_mode": {
    "name": "ipython",
    "version": 2
   },
   "file_extension": ".py",
   "mimetype": "text/x-python",
   "name": "python",
   "nbconvert_exporter": "python",
   "pygments_lexer": "ipython2",
   "version": "2.7.6"
  }
 },
 "nbformat": 4,
 "nbformat_minor": 5
}
