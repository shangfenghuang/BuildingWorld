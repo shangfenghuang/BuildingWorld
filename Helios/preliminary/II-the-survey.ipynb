{
 "cells": [
  {
   "cell_type": "markdown",
   "metadata": {},
   "source": [
    "# The Survey\n",
    "***"
   ]
  },
  {
   "cell_type": "markdown",
   "metadata": {},
   "source": [
    "\n",
    "This page will give an introduction on using `pyhelios` to access and modify surveys.\n",
    "\n",
    "`pyhelios` allows you to:\n",
    "\n",
    "- obtain scanning device characteristics\n",
    "- calculate the length of a survey\n",
    "- view and modify the scanner and platform settings at each leg"
   ]
  },
  {
   "cell_type": "code",
   "metadata": {
    "pycharm": {
     "name": "#%%\n"
    },
    "ExecuteTime": {
     "end_time": "2025-05-01T23:11:56.588335Z",
     "start_time": "2025-05-01T23:11:56.438818Z"
    }
   },
   "source": [
    "import math\n",
    "import pyhelios"
   ],
   "outputs": [],
   "execution_count": 1
  },
  {
   "cell_type": "code",
   "metadata": {
    "ExecuteTime": {
     "end_time": "2025-05-01T23:11:56.828006Z",
     "start_time": "2025-05-01T23:11:56.824510Z"
    }
   },
   "source": [
    "import os\n",
    "os.chdir(\"..\")"
   ],
   "outputs": [],
   "execution_count": 2
  },
  {
   "cell_type": "code",
   "metadata": {
    "pycharm": {
     "name": "#%%\n"
    },
    "ExecuteTime": {
     "end_time": "2025-05-01T23:11:56.890334Z",
     "start_time": "2025-05-01T23:11:56.841360Z"
    }
   },
   "source": [
    "pyhelios.loggingDefault()\n",
    "# build simulation parameters\n",
    "simBuilder = pyhelios.SimulationBuilder(\n",
    "    r\"C:\\Users\\Ethan\\Desktop\\BuildingWorld\\Helios\\Montreal_survery.xml\", [\"assets/\"], \"output/\"\n",
    ")\n",
    "simBuilder.setNumThreads(0)\n",
    "simBuilder.setLasOutput(True)\n",
    "simBuilder.setZipOutput(True)\n",
    "\n",
    "# build the survey\n",
    "simB = simBuilder.build()"
   ],
   "outputs": [
    {
     "name": "stdout",
     "output_type": "stream",
     "text": [
      "SimulationBuilder is building simulation ...\n",
      "SimulationBuilder built simulation in 0.0381589001044631 seconds\n"
     ]
    }
   ],
   "execution_count": 3
  },
  {
   "cell_type": "markdown",
   "metadata": {
    "pycharm": {
     "name": "#%% md\n"
    }
   },
   "source": "Once we built a survey, we have numerous options to obtain and change the characteristics of all components of our simulation. Note that after the steps above, simB is a SimulationBuild object. To access the Simulation itself, we have to call simB.sim."
  },
  {
   "cell_type": "code",
   "metadata": {
    "pycharm": {
     "name": "#%%\n"
    },
    "ExecuteTime": {
     "end_time": "2025-05-01T23:11:56.914340Z",
     "start_time": "2025-05-01T23:11:56.908762Z"
    }
   },
   "source": [
    "# obtain survey path and name\n",
    "survey_path = simB.sim.getSurveyPath()\n",
    "survey = simB.sim.getSurvey()\n",
    "survey_name = survey.name\n",
    "print('survey_path:', survey_path)\n",
    "print('survey_name: ', survey_name)"
   ],
   "outputs": [
    {
     "name": "stdout",
     "output_type": "stream",
     "text": [
      "survey_path: C:\\Users\\Ethan\\Desktop\\BuildingWorld\\Helios\\Montreal_survery.xml\n",
      "survey_name:  toyblocks_als\n"
     ]
    }
   ],
   "execution_count": 4
  },
  {
   "cell_type": "markdown",
   "metadata": {
    "pycharm": {
     "name": "#%% md\n"
    }
   },
   "source": [
    "We can also obtain the survey length, i.e. the distance through all waypoints.\n",
    "If the survey has not been running yet, `survey.getLength()` will return 0.0.\n",
    "We can calculate the length of a loaded survey of a simulation which was built but not started with `survey.calculateLength()`.\n"
   ]
  },
  {
   "cell_type": "code",
   "metadata": {
    "pycharm": {
     "name": "#%%\n"
    },
    "ExecuteTime": {
     "end_time": "2025-05-01T23:11:56.939042Z",
     "start_time": "2025-05-01T23:11:56.932405Z"
    }
   },
   "source": [
    "survey.getLength()"
   ],
   "outputs": [
    {
     "data": {
      "text/plain": [
       "0.0"
      ]
     },
     "execution_count": 5,
     "metadata": {},
     "output_type": "execute_result"
    }
   ],
   "execution_count": 5
  },
  {
   "cell_type": "code",
   "metadata": {
    "pycharm": {
     "name": "#%%\n"
    },
    "ExecuteTime": {
     "end_time": "2025-05-01T23:11:56.972894Z",
     "start_time": "2025-05-01T23:11:56.968859Z"
    }
   },
   "source": [
    "survey.calculateLength()\n",
    "print(survey.getLength())"
   ],
   "outputs": [
    {
     "name": "stdout",
     "output_type": "stream",
     "text": [
      "400.0\n"
     ]
    }
   ],
   "execution_count": 6
  },
  {
   "cell_type": "markdown",
   "metadata": {
    "pycharm": {
     "name": "#%% md\n"
    }
   },
   "source": [
    "## The Scanner\n",
    "\n",
    "Let's have a look at the scanner we are using."
   ]
  },
  {
   "cell_type": "code",
   "metadata": {
    "pycharm": {
     "name": "#%%\n"
    },
    "ExecuteTime": {
     "end_time": "2025-05-01T23:11:57.009706Z",
     "start_time": "2025-05-01T23:11:57.005699Z"
    }
   },
   "source": [
    "scanner = simB.sim.getScanner()\n",
    "# print scanner characteristics\n",
    "print(scanner.toString())"
   ],
   "outputs": [
    {
     "name": "stdout",
     "output_type": "stream",
     "text": [
      "Scanner: riegl_vq-1560ii-s\n",
      "Device[0]: 0\n",
      "\tAverage Power: 4 W\n",
      "\tBeam Divergence: 0.23 mrad\n",
      "\tWavelength: 1064 nm\n",
      "\tVisibility: 23 km\n",
      "Device[1]: 1\n",
      "\tAverage Power: 4 W\n",
      "\tBeam Divergence: 0.23 mrad\n",
      "\tWavelength: 1064 nm\n",
      "\tVisibility: 23 km\n",
      "\n"
     ]
    }
   ],
   "execution_count": 7
  },
  {
   "cell_type": "markdown",
   "metadata": {
    "pycharm": {
     "name": "#%% md\n"
    }
   },
   "source": [
    "The scanner characteristics can also be accessed individually:"
   ]
  },
  {
   "cell_type": "code",
   "metadata": {
    "pycharm": {
     "name": "#%%\n"
    },
    "ExecuteTime": {
     "end_time": "2025-05-01T23:11:57.048097Z",
     "start_time": "2025-05-01T23:11:57.043112Z"
    }
   },
   "source": [
    "print(\n",
    "    f\"\"\"\n",
    "{'Device ID:' : <25}{scanner.deviceId : ^8}\n",
    "\n",
    "{'Average power:' : <25}{scanner.averagePower : <8} W\n",
    "{'Beam divergence:' : <25}{scanner.beamDivergence : <8} rad\n",
    "{'Wavelength:' : <25}{scanner.wavelength*1000000000 : <8} nm\n",
    "{'Scanner visibility:' : <25}{scanner.visibility : <8} km\n",
    "\"\"\"\n",
    ")"
   ],
   "outputs": [
    {
     "name": "stdout",
     "output_type": "stream",
     "text": [
      "\n",
      "Device ID:                  0    \n",
      "\n",
      "Average power:           4.0      W\n",
      "Beam divergence:         0.00023  rad\n",
      "Wavelength:              1064.0   nm\n",
      "Scanner visibility:      23.0     km\n",
      "\n"
     ]
    }
   ],
   "execution_count": 8
  },
  {
   "cell_type": "markdown",
   "metadata": {
    "pycharm": {
     "name": "#%% md\n"
    }
   },
   "source": [
    "The scanner has also some more properties:"
   ]
  },
  {
   "cell_type": "code",
   "metadata": {
    "pycharm": {
     "name": "#%%\n"
    },
    "ExecuteTime": {
     "end_time": "2025-05-01T23:11:57.082623Z",
     "start_time": "2025-05-01T23:11:57.078192Z"
    }
   },
   "source": [
    "if scanner.maxNOR == 0:\n",
    "    max_nor = \"unlimited\"\n",
    "else:\n",
    "    max_nor = scanner.maxNOR\n",
    "\n",
    "\n",
    "print(\n",
    "    f\"\"\"\n",
    "{'Number of subsampling rays:' : <30}{scanner.numRays}\n",
    "{'Pulse length:' : <30}{scanner.pulseLength_ns} ns\n",
    "{'Supported pulse frequencies:' : <30}{list(scanner.getSupportedPulseFrequencies())} Hz\n",
    "{'Maximum number of returns:': <30}{max_nor}\n",
    "\n",
    "\"\"\"\n",
    ")"
   ],
   "outputs": [
    {
     "name": "stdout",
     "output_type": "stream",
     "text": [
      "\n",
      "Number of subsampling rays:   19\n",
      "Pulse length:                 4.0 ns\n",
      "Supported pulse frequencies:  [270000, 500000, 1000000, 2000000, 4000000] Hz\n",
      "Maximum number of returns:    unlimited\n",
      "\n",
      "\n"
     ]
    }
   ],
   "execution_count": 9
  },
  {
   "cell_type": "markdown",
   "metadata": {
    "pycharm": {
     "name": "#%% md\n"
    }
   },
   "source": [
    "If we want to obtain information about the scanning mechanism, we have to get the beam deflector."
   ]
  },
  {
   "cell_type": "code",
   "metadata": {
    "pycharm": {
     "name": "#%%\n"
    },
    "ExecuteTime": {
     "end_time": "2025-05-01T23:11:57.120638Z",
     "start_time": "2025-05-01T23:11:57.115610Z"
    }
   },
   "source": [
    "deflector = scanner.getBeamDeflector()\n",
    "print(\n",
    "    f\"\"\"\n",
    "{'Scanner deflector type:': <25}{deflector.getOpticsType() : <8}\n",
    "{'Scan frequency range:' : <25}{deflector.scanFreqMin} - {deflector.scanFreqMax} Hz\n",
    "{'Scan angle range:' : <25}{round(deflector.scanAngleMax * 180 / math.pi)}° FOV\n",
    "\"\"\"\n",
    ")"
   ],
   "outputs": [
    {
     "name": "stdout",
     "output_type": "stream",
     "text": [
      "\n",
      "Scanner deflector type:  POLYGON_MIRROR\n",
      "Scan frequency range:    40.0 - 600.0 Hz\n",
      "Scan angle range:        45° FOV\n",
      "\n"
     ]
    }
   ],
   "execution_count": 10
  },
  {
   "cell_type": "markdown",
   "metadata": {
    "pycharm": {
     "name": "#%% md\n"
    }
   },
   "source": [
    "From the beam detector, we get information about, e.g., the accuracy of the scanner."
   ]
  },
  {
   "cell_type": "code",
   "metadata": {
    "pycharm": {
     "name": "#%%\n"
    },
    "ExecuteTime": {
     "end_time": "2025-05-01T23:11:57.162590Z",
     "start_time": "2025-05-01T23:11:57.158636Z"
    }
   },
   "source": [
    "detector = scanner.getDetector()\n",
    "print(\n",
    "    f\"\"\"\n",
    "{'Accuracy:' : <20}{detector.accuracy} m\n",
    "{'Minimum range:' : <20}{detector.rangeMin} m\n",
    "{'Maximum range:': <20}{detector.rangeMax} m\n",
    "\"\"\"\n",
    ")"
   ],
   "outputs": [
    {
     "name": "stdout",
     "output_type": "stream",
     "text": [
      "\n",
      "Accuracy:           0.02 m\n",
      "Minimum range:      100.0 m\n",
      "Maximum range:      1.7976931348623157e+308 m\n",
      "\n"
     ]
    }
   ],
   "execution_count": 11
  },
  {
   "cell_type": "markdown",
   "metadata": {
    "pycharm": {
     "name": "#%% md\n"
    }
   },
   "source": [
    "We can also get the scanner full waveform settings.\n",
    "Like many of the scanner settings, they can be overwritten in the `scannerSettings` of a leg."
   ]
  },
  {
   "cell_type": "code",
   "metadata": {
    "pycharm": {
     "name": "#%%\n"
    },
    "ExecuteTime": {
     "end_time": "2025-05-01T23:11:57.206870Z",
     "start_time": "2025-05-01T23:11:57.202562Z"
    }
   },
   "source": [
    "print(\n",
    "    f\"\"\"Full waveform settings for {scanner.deviceId}\n",
    "{'Bin size:' : <25}{scanner.fwfSettings.binSize_ns} ns\n",
    "{'Window size:' : <25}{scanner.fwfSettings.winSize_ns} ns\n",
    "{'Beam sample quality:' : <25}{scanner.fwfSettings.beamSampleQuality}\n",
    "\"\"\"\n",
    ")"
   ],
   "outputs": [
    {
     "name": "stdout",
     "output_type": "stream",
     "text": [
      "Full waveform settings for 0\n",
      "Bin size:                0.25 ns\n",
      "Window size:             1.0 ns\n",
      "Beam sample quality:     3\n",
      "\n"
     ]
    }
   ],
   "execution_count": 12
  },
  {
   "cell_type": "markdown",
   "metadata": {
    "pycharm": {
     "name": "#%% md\n"
    }
   },
   "source": [
    "## Legs\n",
    "\n",
    "Each leg of a survey has scanner settings and platform settings, (cf. survey XML file),\n",
    "which can be accessed and changed with `pyhelios`.\n"
   ]
  },
  {
   "cell_type": "code",
   "metadata": {
    "pycharm": {
     "name": "#%%\n"
    },
    "ExecuteTime": {
     "end_time": "2025-05-01T23:11:57.243789Z",
     "start_time": "2025-05-01T23:11:57.237814Z"
    }
   },
   "source": [
    "# get the first leg\n",
    "leg = simB.sim.getLeg(0)\n",
    "\n",
    "\n",
    "# TLS\n",
    "# {'Minimum vertical angle:' : <30}{leg.getScannerSettings().verticalAngleMin * 180 / math.pi:+.1f}°\n",
    "# {'Maximum vertical angle:' : <30}{round(leg.getScannerSettings().verticalAngleMax * 180 / math.pi):+.1f}°\n",
    "\n",
    "\n",
    "# scanner settings\n",
    "print(\n",
    "    f\"\"\"\n",
    "{'Scanner is active:' : <30}{leg.getScannerSettings().active}\n",
    "{'Pulse frequency:' : <30}{leg.getScannerSettings().pulseFreq} Hz\n",
    "{'Scan angle:' : <30}{leg.getScannerSettings().scanAngle * 180 / math.pi}°\n",
    "\n",
    "{'Scan frequency:' : <30}{leg.getScannerSettings().scanFreq} Hz\n",
    "{'Beam divergence:' : <30}{leg.getScannerSettings().beamDivAngle * 1000} mrad\n",
    "{'Trajectory time interval:' : <30}{leg.getScannerSettings().trajectoryTimeInterval} s\n",
    "{'Start angle of head rotation:' : <30}{leg.getScannerSettings().headRotateStart * 180 / math.pi}°\n",
    "{'Start angle of head rotation:' : <30}{leg.getScannerSettings().headRotateStop * 180 / math.pi}°\n",
    "{'Rotation speed:' : <30}{leg.getScannerSettings().headRotatePerSec * 180 / math.pi}° per s\n",
    "\"\"\"\n",
    ")"
   ],
   "outputs": [
    {
     "name": "stdout",
     "output_type": "stream",
     "text": [
      "\n",
      "Scanner is active:            True\n",
      "Pulse frequency:              1000000 Hz\n",
      "Scan angle:                   45.0°\n",
      "\n",
      "Scan frequency:               600.0 Hz\n",
      "Beam divergence:              0.23 mrad\n",
      "Trajectory time interval:     0.01 s\n",
      "Start angle of head rotation: 0.0°\n",
      "Start angle of head rotation: 0.0°\n",
      "Rotation speed:               0.0° per s\n",
      "\n"
     ]
    }
   ],
   "execution_count": 13
  },
  {
   "cell_type": "markdown",
   "metadata": {
    "pycharm": {
     "name": "#%% md\n"
    }
   },
   "source": [
    "Scanner Settings and platform settings may be defined through a template.\n",
    "For this, let's first switch back to the ALS toyblocks demo."
   ]
  },
  {
   "cell_type": "code",
   "metadata": {
    "pycharm": {
     "name": "#%%\n"
    },
    "ExecuteTime": {
     "end_time": "2025-05-01T23:11:57.305263Z",
     "start_time": "2025-05-01T23:11:57.273248Z"
    }
   },
   "source": [
    "simBuilder = pyhelios.SimulationBuilder(\n",
    "     r\"C:\\Users\\Ethan\\Desktop\\BuildingWorld\\Helios\\Montreal_survery.xml\", [\"assets/\"], \"output/\"\n",
    ")\n",
    "simBuilder.setNumThreads(0)\n",
    "simBuilder.setLasOutput(True)\n",
    "simBuilder.setZipOutput(True)\n",
    "simB = simBuilder.build()"
   ],
   "outputs": [
    {
     "name": "stdout",
     "output_type": "stream",
     "text": [
      "SimulationBuilder is building simulation ...\n",
      "SimulationBuilder built simulation in 0.027043400099501014 seconds\n"
     ]
    }
   ],
   "execution_count": 14
  },
  {
   "cell_type": "markdown",
   "metadata": {
    "pycharm": {
     "name": "#%% md\n"
    }
   },
   "source": [
    "The template can be accessed for a given `ScannerSettings` or `PlatformSettings` instance:"
   ]
  },
  {
   "cell_type": "code",
   "metadata": {
    "pycharm": {
     "name": "#%%\n"
    },
    "ExecuteTime": {
     "end_time": "2025-05-01T23:11:57.340473Z",
     "start_time": "2025-05-01T23:11:57.335457Z"
    }
   },
   "source": [
    "leg = simB.sim.getLeg(0)\n",
    "\n",
    "ss = leg.getScannerSettings()\n",
    "if ss.hasTemplate():\n",
    "    ss_tmpl = ss.getTemplate()\n",
    "    print(\n",
    "        f\"\"\"\n",
    "    Scanner template name: {ss_tmpl.id}\n",
    "    Pulse frequency: {ss_tmpl.pulseFreq/1000} kHz\n",
    "    \"\"\"\n",
    "    )  # Print the pulse frequency defined in the template"
   ],
   "outputs": [
    {
     "name": "stdout",
     "output_type": "stream",
     "text": [
      "\n",
      "    Scanner template name: scanner1\n",
      "    Pulse frequency: 1000.0 kHz\n",
      "    \n"
     ]
    }
   ],
   "execution_count": 15
  },
  {
   "cell_type": "code",
   "metadata": {
    "pycharm": {
     "name": "#%%\n"
    },
    "ExecuteTime": {
     "end_time": "2025-05-01T23:11:57.377130Z",
     "start_time": "2025-05-01T23:11:57.372473Z"
    }
   },
   "source": [
    "ps = leg.getPlatformSettings()\n",
    "if ps.hasTemplate():\n",
    "    ps_tmpl = ps.getTemplate()\n",
    "    print(\n",
    "        f\"\"\"\n",
    "    {'Platform template name:' : <25}{ps_tmpl.id}\n",
    "    {'Speed:' : <15}{ps_tmpl.movePerSec} m/s\n",
    "    {'Altitude:' : <15}{ps_tmpl.z} m\n",
    "    \"\"\"\n",
    "    )"
   ],
   "outputs": [
    {
     "name": "stdout",
     "output_type": "stream",
     "text": [
      "\n",
      "    Platform template name:  DEFAULT_TEMPLATE1_HELIOSCPP\n",
      "    Speed:         70.0 m/s\n",
      "    Altitude:      0.0 m\n",
      "    \n"
     ]
    }
   ],
   "execution_count": 16
  },
  {
   "cell_type": "markdown",
   "metadata": {
    "pycharm": {
     "name": "#%% md\n"
    }
   },
   "source": [
    "We can also change the template."
   ]
  },
  {
   "cell_type": "code",
   "metadata": {
    "pycharm": {
     "name": "#%%\n"
    },
    "ExecuteTime": {
     "end_time": "2025-05-01T23:11:57.412301Z",
     "start_time": "2025-05-01T23:11:57.407316Z"
    }
   },
   "source": [
    "ps_tmpl.z += 20\n",
    "print(f\"New altitude: {ps_tmpl.z} m\")"
   ],
   "outputs": [
    {
     "name": "stdout",
     "output_type": "stream",
     "text": [
      "New altitude: 20.0 m\n"
     ]
    }
   ],
   "execution_count": 17
  },
  {
   "cell_type": "markdown",
   "metadata": {
    "pycharm": {
     "name": "#%% md\n"
    }
   },
   "source": [
    "We can also obtain the position at the current leg:"
   ]
  },
  {
   "cell_type": "code",
   "metadata": {
    "pycharm": {
     "name": "#%%\n"
    },
    "ExecuteTime": {
     "end_time": "2025-05-01T23:11:57.450700Z",
     "start_time": "2025-05-01T23:11:57.447199Z"
    }
   },
   "source": [
    "print(\n",
    "    f\"\"\"\n",
    "On ground? {leg.getPlatformSettings().onGround}\n",
    "Position: ({leg.getPlatformSettings().x}, {leg.getPlatformSettings().y}, {leg.getPlatformSettings().z})\n",
    "\"\"\"\n",
    ")"
   ],
   "outputs": [
    {
     "name": "stdout",
     "output_type": "stream",
     "text": [
      "\n",
      "On ground? False\n",
      "Position: (-62.29758758365493, -49.76941849999999, 69.110947)\n",
      "\n"
     ]
    }
   ],
   "execution_count": 18
  },
  {
   "cell_type": "markdown",
   "metadata": {
    "pycharm": {
     "name": "#%% md\n"
    }
   },
   "source": [
    "If we compare the position here to the position in the XML survey file, we notice that they do not match.\n",
    "The difference is 50 in x direction and 70 in y direction.\n",
    "\n",
    "When loading a survey, **a shift is applied to the scene and to each leg**. We can obtain this shift:"
   ]
  },
  {
   "cell_type": "code",
   "metadata": {
    "pycharm": {
     "name": "#%%\n"
    },
    "ExecuteTime": {
     "end_time": "2025-05-01T23:11:57.485619Z",
     "start_time": "2025-05-01T23:11:57.480192Z"
    }
   },
   "source": [
    "scene = simB.sim.getScene()\n",
    "shift = scene.getShift()\n",
    "print(f\"Shift = ({shift.x},{shift.y},{shift.z})\")"
   ],
   "outputs": [
    {
     "name": "stdout",
     "output_type": "stream",
     "text": [
      "Shift = (12.297587583654927,-0.23058150000000666,10.889053)\n"
     ]
    }
   ],
   "execution_count": 19
  },
  {
   "cell_type": "markdown",
   "metadata": {
    "pycharm": {
     "name": "#%% md\n"
    }
   },
   "source": [
    "Using a for-loop, we can get the positions of all legs.\n",
    "Note that we add the shift to obtain the true coordinates as specified in the XML-file:\n"
   ]
  },
  {
   "cell_type": "code",
   "metadata": {
    "pycharm": {
     "name": "#%%\n"
    },
    "ExecuteTime": {
     "end_time": "2025-05-01T23:11:57.520622Z",
     "start_time": "2025-05-01T23:11:57.515655Z"
    }
   },
   "source": [
    "for i in range(simB.sim.getNumLegs()):\n",
    "    leg = simB.sim.getLeg(i)\n",
    "    print(\n",
    "        f\"Leg {i}\\tposition = \"\n",
    "        f\"{leg.getPlatformSettings().x+shift.x},\"\n",
    "        f\"{leg.getPlatformSettings().y+shift.y},\"\n",
    "        f\"{leg.getPlatformSettings().z+shift.z}\\t\"\n",
    "        f\"active = {leg.getScannerSettings().active}\"\n",
    "    )"
   ],
   "outputs": [
    {
     "name": "stdout",
     "output_type": "stream",
     "text": [
      "Leg 0\tposition = -50.0,-50.0,80.0\tactive = True\n",
      "Leg 1\tposition = 50.0,-50.0,80.0\tactive = False\n",
      "Leg 2\tposition = 50.0,0.0,80.0\tactive = True\n",
      "Leg 3\tposition = -50.0,0.0,80.0\tactive = False\n",
      "Leg 4\tposition = -50.0,50.0,80.0\tactive = True\n",
      "Leg 5\tposition = 50.0,50.0,80.0\tactive = False\n"
     ]
    }
   ],
   "execution_count": 20
  },
  {
   "cell_type": "markdown",
   "metadata": {
    "pycharm": {
     "name": "#%% md\n"
    }
   },
   "source": [
    "We can also use a for-loop to create new legs.\n",
    "Here an example, where we initiate a simulation with a survey with no legs (`data/surveys/default_survey.xml`) and\n",
    "then create the legs with Python."
   ]
  },
  {
   "cell_type": "code",
   "metadata": {
    "pycharm": {
     "name": "#%%\n"
    },
    "ExecuteTime": {
     "end_time": "2025-05-01T23:11:57.966696Z",
     "start_time": "2025-05-01T23:11:57.547975Z"
    }
   },
   "source": [
    "pyhelios.loggingDefault()\n",
    "default_survey_path = \"data/surveys/default_survey.xml\"\n",
    "\n",
    "# default survey with the toyblocks scene (missing platform and scanner definition and not containing any legs)\n",
    "survey = \"\"\"\n",
    "<?xml version=\"1.0\" encoding=\"UTF-8\"?>\n",
    "<document>\n",
    "    <survey name=\"some_survey\" scene=\"data/scenes/toyblocks/toyblocks_scene.xml#toyblocks_scene\" platform=\"data/platforms.xml#copter_linearpath\" scanner=\"data/scanners_als.xml#riegl_vux-1uav\">\n",
    "    </survey>\n",
    "</document>\n",
    "\"\"\"\n",
    "\n",
    "with open(default_survey_path, \"w\") as f:\n",
    "    f.write(survey)\n",
    "\n",
    "simBuilder = pyhelios.SimulationBuilder(default_survey_path, [\"assets/\"], \"output/\")\n",
    "simBuilder.setCallbackFrequency(10)\n",
    "simBuilder.setLasOutput(True)\n",
    "simBuilder.setZipOutput(True)\n",
    "simBuilder.setRebuildScene(True)\n",
    "\n",
    "simB = simBuilder.build()\n",
    "\n",
    "waypoints = [\n",
    "    [100.0, -100.0],\n",
    "    [-100.0, -100.0],\n",
    "    [-100.0, -50.0],\n",
    "    [100.0, -50.0],\n",
    "    [100.0, 0.0],\n",
    "    [-100.0, 0.0],\n",
    "    [-100.0, 50.0],\n",
    "    [100.0, 50.0],\n",
    "    [100.0, 100.0],\n",
    "    [-100.0, 100.0],\n",
    "]\n",
    "altitude = 100\n",
    "speed = 150\n",
    "pulse_freq = 300_000\n",
    "scan_freq = 200\n",
    "scan_angle = 37.5 / 180 * math.pi  # convert to rad\n",
    "shift = simB.sim.getScene().getShift()\n",
    "for j, wp in enumerate(waypoints):\n",
    "    leg = simB.sim.newLeg(j)\n",
    "    leg.serialId = j  # assigning a serialId is important!\n",
    "    leg.getPlatformSettings().x = wp[0] - shift.x  # don't forget to apply the shift!\n",
    "    leg.getPlatformSettings().y = wp[1] - shift.y\n",
    "    leg.getPlatformSettings().z = altitude - shift.z\n",
    "    leg.getPlatformSettings().movePerSec = speed\n",
    "    leg.getScannerSettings().pulseFreq = pulse_freq\n",
    "    leg.getScannerSettings().scanFreq = scan_freq\n",
    "    leg.getScannerSettings().scanAngle = scan_angle\n",
    "    leg.getScannerSettings().trajectoryTimeInterval = (\n",
    "        0.05  # important to get a trajectory output\n",
    "    )\n",
    "    if j % 2 != 0:\n",
    "        leg.getScannerSettings().active = False"
   ],
   "outputs": [
    {
     "ename": "FileNotFoundError",
     "evalue": "[Errno 2] No such file or directory: 'data/surveys/default_survey.xml'",
     "output_type": "error",
     "traceback": [
      "\u001B[1;31m---------------------------------------------------------------------------\u001B[0m",
      "\u001B[1;31mFileNotFoundError\u001B[0m                         Traceback (most recent call last)",
      "Cell \u001B[1;32mIn[21], line 13\u001B[0m\n\u001B[0;32m      4\u001B[0m \u001B[38;5;66;03m# default survey with the toyblocks scene (missing platform and scanner definition and not containing any legs)\u001B[39;00m\n\u001B[0;32m      5\u001B[0m survey \u001B[38;5;241m=\u001B[39m \u001B[38;5;124m\"\"\"\u001B[39m\n\u001B[0;32m      6\u001B[0m \u001B[38;5;124m<?xml version=\u001B[39m\u001B[38;5;124m\"\u001B[39m\u001B[38;5;124m1.0\u001B[39m\u001B[38;5;124m\"\u001B[39m\u001B[38;5;124m encoding=\u001B[39m\u001B[38;5;124m\"\u001B[39m\u001B[38;5;124mUTF-8\u001B[39m\u001B[38;5;124m\"\u001B[39m\u001B[38;5;124m?>\u001B[39m\n\u001B[0;32m      7\u001B[0m \u001B[38;5;124m<document>\u001B[39m\n\u001B[1;32m   (...)\u001B[0m\n\u001B[0;32m     10\u001B[0m \u001B[38;5;124m</document>\u001B[39m\n\u001B[0;32m     11\u001B[0m \u001B[38;5;124m\"\"\"\u001B[39m\n\u001B[1;32m---> 13\u001B[0m \u001B[38;5;28;01mwith\u001B[39;00m \u001B[38;5;28;43mopen\u001B[39;49m\u001B[43m(\u001B[49m\u001B[43mdefault_survey_path\u001B[49m\u001B[43m,\u001B[49m\u001B[43m \u001B[49m\u001B[38;5;124;43m\"\u001B[39;49m\u001B[38;5;124;43mw\u001B[39;49m\u001B[38;5;124;43m\"\u001B[39;49m\u001B[43m)\u001B[49m \u001B[38;5;28;01mas\u001B[39;00m f:\n\u001B[0;32m     14\u001B[0m     f\u001B[38;5;241m.\u001B[39mwrite(survey)\n\u001B[0;32m     16\u001B[0m simBuilder \u001B[38;5;241m=\u001B[39m pyhelios\u001B[38;5;241m.\u001B[39mSimulationBuilder(default_survey_path, [\u001B[38;5;124m\"\u001B[39m\u001B[38;5;124massets/\u001B[39m\u001B[38;5;124m\"\u001B[39m], \u001B[38;5;124m\"\u001B[39m\u001B[38;5;124moutput/\u001B[39m\u001B[38;5;124m\"\u001B[39m)\n",
      "File \u001B[1;32mD:\\Users\\Ethan\\helios\\Lib\\site-packages\\IPython\\core\\interactiveshell.py:324\u001B[0m, in \u001B[0;36m_modified_open\u001B[1;34m(file, *args, **kwargs)\u001B[0m\n\u001B[0;32m    317\u001B[0m \u001B[38;5;28;01mif\u001B[39;00m file \u001B[38;5;129;01min\u001B[39;00m {\u001B[38;5;241m0\u001B[39m, \u001B[38;5;241m1\u001B[39m, \u001B[38;5;241m2\u001B[39m}:\n\u001B[0;32m    318\u001B[0m     \u001B[38;5;28;01mraise\u001B[39;00m \u001B[38;5;167;01mValueError\u001B[39;00m(\n\u001B[0;32m    319\u001B[0m         \u001B[38;5;124mf\u001B[39m\u001B[38;5;124m\"\u001B[39m\u001B[38;5;124mIPython won\u001B[39m\u001B[38;5;124m'\u001B[39m\u001B[38;5;124mt let you open fd=\u001B[39m\u001B[38;5;132;01m{\u001B[39;00mfile\u001B[38;5;132;01m}\u001B[39;00m\u001B[38;5;124m by default \u001B[39m\u001B[38;5;124m\"\u001B[39m\n\u001B[0;32m    320\u001B[0m         \u001B[38;5;124m\"\u001B[39m\u001B[38;5;124mas it is likely to crash IPython. If you know what you are doing, \u001B[39m\u001B[38;5;124m\"\u001B[39m\n\u001B[0;32m    321\u001B[0m         \u001B[38;5;124m\"\u001B[39m\u001B[38;5;124myou can use builtins\u001B[39m\u001B[38;5;124m'\u001B[39m\u001B[38;5;124m open.\u001B[39m\u001B[38;5;124m\"\u001B[39m\n\u001B[0;32m    322\u001B[0m     )\n\u001B[1;32m--> 324\u001B[0m \u001B[38;5;28;01mreturn\u001B[39;00m \u001B[43mio_open\u001B[49m\u001B[43m(\u001B[49m\u001B[43mfile\u001B[49m\u001B[43m,\u001B[49m\u001B[43m \u001B[49m\u001B[38;5;241;43m*\u001B[39;49m\u001B[43margs\u001B[49m\u001B[43m,\u001B[49m\u001B[43m \u001B[49m\u001B[38;5;241;43m*\u001B[39;49m\u001B[38;5;241;43m*\u001B[39;49m\u001B[43mkwargs\u001B[49m\u001B[43m)\u001B[49m\n",
      "\u001B[1;31mFileNotFoundError\u001B[0m: [Errno 2] No such file or directory: 'data/surveys/default_survey.xml'"
     ]
    }
   ],
   "execution_count": 21
  },
  {
   "cell_type": "markdown",
   "metadata": {
    "pycharm": {
     "name": "#%% md\n"
    }
   },
   "source": [
    "Let's execute this survey!"
   ]
  },
  {
   "cell_type": "code",
   "metadata": {
    "pycharm": {
     "name": "#%%\n"
    },
    "ExecuteTime": {
     "end_time": "2025-05-01T23:12:17.046897Z",
     "start_time": "2025-05-01T23:12:13.028584Z"
    }
   },
   "source": [
    "import time\n",
    "\n",
    "start_time = time.time()\n",
    "simB.start()\n",
    "\n",
    "if simB.isStarted():\n",
    "    print(\"Simulation is started!\")\n",
    "\n",
    "while simB.isRunning():\n",
    "    duration = time.time() - start_time\n",
    "    mins = duration // 60\n",
    "    secs = duration % 60\n",
    "    print(\n",
    "        \"\\r\"\n",
    "        + \"Simulation is running since {} min and {} sec. Please wait.\".format(\n",
    "            int(mins), int(secs)\n",
    "        ),\n",
    "        end=\"\",\n",
    "    )\n",
    "    time.sleep(1)\n",
    "\n",
    "output = simB.join()\n",
    "print(\"\\nSimulation has finished.\")"
   ],
   "outputs": [
    {
     "name": "stdout",
     "output_type": "stream",
     "text": [
      "Simulation is started!\n",
      "Simulation is running since 0 min and 3 sec. Please wait.\n",
      "Simulation has finished.\n"
     ]
    }
   ],
   "execution_count": 22
  },
  {
   "cell_type": "markdown",
   "metadata": {},
   "source": [
    "Now let us also quickly visualize the output. We load the points into numpy arrays using the function `outputToNumpy` and then visualize the point cloud with matplotlib as a simple top view with points coloured by the `hitObjectId`."
   ]
  },
  {
   "cell_type": "code",
   "metadata": {
    "pycharm": {
     "name": "#%%\n"
    },
    "ExecuteTime": {
     "end_time": "2025-05-01T23:12:20.292475Z",
     "start_time": "2025-05-01T23:12:19.221193Z"
    }
   },
   "source": [
    "import matplotlib.pyplot as plt\n",
    "\n",
    "pc, trajectory = pyhelios.outputToNumpy(output)\n",
    "\n",
    "# Matplotlib figure.\n",
    "fig = plt.figure(figsize=(5, 5))\n",
    "# Axes3d axis onto mpl figure.\n",
    "ax = fig.add_subplot()\n",
    "\n",
    "# Scatter plot of original and simulated points in different colors\n",
    "ax.scatter(pc[:, 0], pc[:, 1], c=pc[:, 14], s=0.01)\n",
    "\n",
    "# Add axis labels.\n",
    "ax.set_xlabel(\"$X$\")\n",
    "ax.set_ylabel(\"$Y$\")\n",
    "ax.axis(\"equal\")\n",
    "\n",
    "# Set title.\n",
    "from textwrap import wrap\n",
    "\n",
    "title = ax.set_title(\n",
    "    \"\\n\".join(\n",
    "        wrap(\n",
    "            \"Top view of the simulated point cloud, coloured by \" + r\"$hitObjectId$\", 40\n",
    "        )\n",
    "    )\n",
    ")\n",
    "\n",
    "plt.show()"
   ],
   "outputs": [
    {
     "ename": "IndexError",
     "evalue": "too many indices for array: array is 1-dimensional, but 2 were indexed",
     "output_type": "error",
     "traceback": [
      "\u001B[1;31m---------------------------------------------------------------------------\u001B[0m",
      "\u001B[1;31mIndexError\u001B[0m                                Traceback (most recent call last)",
      "Cell \u001B[1;32mIn[23], line 11\u001B[0m\n\u001B[0;32m      8\u001B[0m ax \u001B[38;5;241m=\u001B[39m fig\u001B[38;5;241m.\u001B[39madd_subplot()\n\u001B[0;32m     10\u001B[0m \u001B[38;5;66;03m# Scatter plot of original and simulated points in different colors\u001B[39;00m\n\u001B[1;32m---> 11\u001B[0m ax\u001B[38;5;241m.\u001B[39mscatter(\u001B[43mpc\u001B[49m\u001B[43m[\u001B[49m\u001B[43m:\u001B[49m\u001B[43m,\u001B[49m\u001B[43m \u001B[49m\u001B[38;5;241;43m0\u001B[39;49m\u001B[43m]\u001B[49m, pc[:, \u001B[38;5;241m1\u001B[39m], c\u001B[38;5;241m=\u001B[39mpc[:, \u001B[38;5;241m14\u001B[39m], s\u001B[38;5;241m=\u001B[39m\u001B[38;5;241m0.01\u001B[39m)\n\u001B[0;32m     13\u001B[0m \u001B[38;5;66;03m# Add axis labels.\u001B[39;00m\n\u001B[0;32m     14\u001B[0m ax\u001B[38;5;241m.\u001B[39mset_xlabel(\u001B[38;5;124m\"\u001B[39m\u001B[38;5;124m$X$\u001B[39m\u001B[38;5;124m\"\u001B[39m)\n",
      "\u001B[1;31mIndexError\u001B[0m: too many indices for array: array is 1-dimensional, but 2 were indexed"
     ]
    },
    {
     "data": {
      "text/plain": [
       "<Figure size 500x500 with 1 Axes>"
      ],
      "image/png": "[encoded data removed]"
     },
     "metadata": {},
     "output_type": "display_data"
    }
   ],
   "execution_count": 23
  },
  {
   "cell_type": "code",
   "execution_count": null,
   "metadata": {
    "pycharm": {
     "name": "#%%\n"
    }
   },
   "outputs": [],
   "source": []
  },
  {
   "cell_type": "code",
   "execution_count": null,
   "metadata": {},
   "outputs": [],
   "source": []
  }
 ],
 "metadata": {
  "kernelspec": {
   "display_name": "Python 3 (ipykernel)",
   "language": "python",
   "name": "python3"
  },
  "language_info": {
   "codemirror_mode": {
    "name": "ipython",
    "version": 3
   },
   "file_extension": ".py",
   "mimetype": "text/x-python",
   "name": "python",
   "nbconvert_exporter": "python",
   "pygments_lexer": "ipython3",
   "version": "3.12.8"
  }
 },
 "nbformat": 4,
 "nbformat_minor": 4
}
