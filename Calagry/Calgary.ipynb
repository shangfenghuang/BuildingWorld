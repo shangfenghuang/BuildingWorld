{
 "cells": [
  {
   "cell_type": "code",
   "metadata": {
    "ExecuteTime": {
     "end_time": "2025-04-11T16:52:24.639191Z",
     "start_time": "2025-04-11T16:52:24.632826Z"
    }
   },
   "source": [
    "import os\n",
    "import numpy as np\n",
    "import trimesh\n",
    "\n",
    "from scipy.spatial import cKDTree\n",
    "from collections import Counter\n",
    "from pyproj import CRS, Transformer\n",
    "from scipy.spatial.distance import cosine"
   ],
   "outputs": [],
   "execution_count": 6
  },
  {
   "cell_type": "code",
   "metadata": {
    "ExecuteTime": {
     "end_time": "2025-04-11T16:52:25.462870Z",
     "start_time": "2025-04-11T16:52:25.451997Z"
    }
   },
   "source": [
    "mesh_file = '/media/shangfeng/storage/shangfeng/BuildingWorld/Calgary/Buildings3D_2023January3/OID_1024/esriGeometryMultiPatch.obj'\n",
    "mesh = trimesh.load_mesh(mesh_file)"
   ],
   "outputs": [],
   "execution_count": 7
  },
  {
   "cell_type": "code",
   "metadata": {
    "ExecuteTime": {
     "end_time": "2025-04-11T16:52:28.848623Z",
     "start_time": "2025-04-11T16:52:28.830288Z"
    }
   },
   "source": [
    "# mesh.merge_vertices()\n",
    "vertices = mesh.vertices\n",
    "# print(mesh.edges)\n",
    "# print(vertices)\n",
    "print('-'*30 + ' Abstract ' + '-'*30)\n",
    "print('The number of edges: ', len(mesh.edges_face))\n",
    "print('The number of vertices: ', len(mesh.vertices))\n",
    "print('The number of polygons: ', len(mesh.facets))\n",
    "print('The number of faces: ', len(mesh.faces))\n",
    "\n",
    "print()\n",
    "print('-'*30 + ' Details ' + '-'*30)\n",
    "print('Faces: ', mesh.faces[0:3])\n",
    "print()\n",
    "print('Vertices: ', mesh.vertices[0:3])\n",
    "print()\n",
    "print('Polygons: ', mesh.facets[0:3]) # consisting of face indexes\n",
    "print()\n",
    "print('Edges:', mesh.edges[0:3]) # consisting of two vertice indexs"
   ],
   "outputs": [
    {
     "name": "stdout",
     "output_type": "stream",
     "text": [
      "------------------------------ Abstract ------------------------------\n",
      "The number of edges:  501\n",
      "The number of vertices:  115\n",
      "The number of polygons:  54\n",
      "The number of faces:  167\n",
      "\n",
      "------------------------------ Details ------------------------------\n",
      "Faces:  [[3 2 1]\n",
      " [1 0 3]\n",
      " [7 6 5]]\n",
      "\n",
      "Vertices:  [[ 4.17  9.65  5.73]\n",
      " [ 7.62 12.55  5.26]\n",
      " [ 7.62  0.    5.26]]\n",
      "\n",
      "Polygons:  [array([0, 1]), array([2, 3]), array([4, 5])]\n",
      "\n",
      "Edges: [[3 2]\n",
      " [2 1]\n",
      " [1 3]]\n"
     ]
    }
   ],
   "execution_count": 8
  },
  {
   "cell_type": "code",
   "metadata": {
    "ExecuteTime": {
     "end_time": "2025-04-11T16:52:35.397363Z",
     "start_time": "2025-04-11T16:52:35.384158Z"
    }
   },
   "source": [
    "# angle_threshold = np.radians(180)\n",
    "# print(angle_threshold)\n",
    "facets = trimesh.graph.facets(mesh, facet_threshold=3)\n",
    "\n",
    "print(f\"共识别出 {len(facets)} 个 facet(共面区域)\")\n",
    "\n",
    "print(len(mesh.facets))\n",
    "\n",
    "flat_list = sorted([int(item) for sublist in mesh.facets for item in sublist])\n",
    "flat_list = set(flat_list)\n",
    "print(len(flat_list))\n",
    "\n",
    "\n",
    "flat_list = sorted([int(item) for sublist in facets for item in sublist])\n",
    "flat_list = set(flat_list)\n",
    "print(len(flat_list))\n",
    "\n",
    "print('faces: ', len(mesh.faces))"
   ],
   "outputs": [
    {
     "name": "stdout",
     "output_type": "stream",
     "text": [
      "共识别出 44 个 facet(共面区域)\n",
      "54\n",
      "136\n",
      "150\n",
      "faces:  167\n"
     ]
    }
   ],
   "execution_count": 9
  },
  {
   "cell_type": "code",
   "execution_count": null,
   "metadata": {},
   "outputs": [
    {
     "name": "stdout",
     "output_type": "stream",
     "text": [
      "[[0, 13], [1, 15, 17, 18, 23, 56], [2, 24], [3], [4, 9], [5], [6], [7, 10], [8], [4, 9], [7, 10], [11], [12], [0, 13], [14], [1, 15, 17, 18, 25, 57], [16, 17, 26], [1, 15, 16, 17, 18, 25, 57], [1, 15, 17, 18, 23, 56], [19], [20], [21], [22, 37], [1, 18, 23, 25, 56, 57], [2, 24], [15, 17, 23, 25, 26, 56, 57], [16, 25, 26], [27], [28], [29], [30], [31], [32], [33], [34], [35, 36], [35, 36], [22, 37], [38], [39], [40], [41, 51], [42, 50], [43], [44, 52], [45], [46], [47], [48, 49], [48, 49], [42, 50], [41, 51], [44, 52], [53], [54, 58], [55], [1, 18, 23, 25, 56, 57], [15, 17, 23, 25, 56, 57], [54, 58], [59]]\n",
      "[-1 -1 -1 -1 -1 -1 -1 -1 -1 -1 -1 -1 -1 -1 -1 -1 -1 -1 -1 -1 -1 -1 -1 -1\n",
      " -1 -1 -1 -1 -1 -1 -1 -1 -1 -1 -1 -1 -1 -1 -1 -1 -1 -1 -1 -1 -1 -1 -1 -1\n",
      " -1 -1 -1 -1 -1 -1 -1 -1 -1 -1 -1 -1]\n"
     ]
    }
   ],
   "source": [
    "# --------------------------- Merge Vertices ---------------------------\n",
    "vertices = mesh.vertices\n",
    "faces = mesh.faces\n",
    "\n",
    "# building tree\n",
    "tree = cKDTree(vertices)\n",
    "groups = tree.query_ball_tree(tree, 10e-2)\n",
    "print(groups)\n",
    "\n",
    "# building new a mesh model\n",
    "vertex_map = np.full(len(vertices), -1, dtype=int)\n",
    "print(vertex_map)\n",
    "new_vertices = []\n",
    "for i, group in enumerate(groups):\n",
    "    if vertex_map[i] == -1:\n",
    "        new_index = len(new_vertices)\n",
    "        new_vertices.append(np.mean(vertices[group], axis=0))\n",
    "        for idx in group:\n",
    "            vertex_map[idx] = new_index\n",
    "\n",
    "new_faces = np.array([[vertex_map[idx] for idx in face] for face in faces])\n",
    "\n",
    "mesh = trimesh.Trimesh(vertices=np.array(new_vertices), faces=new_faces, process=False)\n",
    "# new_mesh.export(\"/media/shangfeng/storage/shangfeng/BuildingWorld/Calgary/wireframe/merged_model.obj\")"
   ]
  },
  {
   "cell_type": "code",
   "execution_count": 25,
   "metadata": {},
   "outputs": [
    {
     "name": "stdout",
     "output_type": "stream",
     "text": [
      "vertices:  (115, 3)\n",
      "vertices:  (115, 3)\n"
     ]
    }
   ],
   "source": [
    "# --------------------- Coordinate Transformation -------------------\n",
    "vertices = mesh.vertices\n",
    "\n",
    "def parse_wld3(wld3_path):\n",
    "    with open(wld3_path, 'r') as f:\n",
    "        lines = f.readlines()\n",
    "\n",
    "    def parse_line(line):\n",
    "        parts = line.strip().split()\n",
    "        from_pt = np.array([float(x) for x in parts[0].split(',')])\n",
    "        to_pt = np.array([float(x) for x in parts[1].split(',')])\n",
    "        return from_pt, to_pt\n",
    "\n",
    "    p1, g1 = parse_line(lines[0])\n",
    "    p2, g2 = parse_line(lines[1])\n",
    "    return p1, g1, p2, g2\n",
    "\n",
    "def compute_affine_2d(p1, g1, p2, g2):\n",
    "    v_model = p2[:2] - p1[:2]\n",
    "    v_geo = g2[:2] - g1[:2]\n",
    "\n",
    "    scale = np.linalg.norm(v_geo) / np.linalg.norm(v_model)\n",
    "    angle = np.arctan2(v_geo[1], v_geo[0]) - np.arctan2(v_model[1], v_model[0])\n",
    "\n",
    "    cos_r = np.cos(angle)\n",
    "    sin_r = np.sin(angle)\n",
    "    transform_matrix = scale * np.array([[cos_r, -sin_r],\n",
    "                                         [sin_r,  cos_r]])\n",
    "    offset = g1[:2] - transform_matrix @ p1[:2]\n",
    "    z_offset = g1[2] - p1[2]\n",
    "\n",
    "    return transform_matrix, offset, z_offset\n",
    "\n",
    "def transform_model_points_3d(points, transform_matrix, offset, z_offset):\n",
    "    points = np.asarray(points)\n",
    "    xy_local = points[:, :2]  # Nx2\n",
    "    z_local = points[:, 2]    # N\n",
    "\n",
    "    xy_transformed = (transform_matrix @ xy_local.T).T + offset  # Nx2\n",
    "    z_transformed = z_local + z_offset\n",
    "\n",
    "    return np.hstack([xy_transformed, z_transformed[:, None]])\n",
    "\n",
    "\n",
    "wld3_file = '/media/shangfeng/storage/shangfeng/BuildingWorld/Calgary/Buildings3D_2023January3/OID_1024/esriGeometryMultiPatch.wld3'\n",
    "prj_file = '/media/shangfeng/storage/shangfeng/BuildingWorld/Calgary/Buildings3D_2023January3/OID_1024/esriGeometryMultiPatch.prj'\n",
    "\n",
    "p1, g1, p2, g2 = parse_wld3(wld3_file)\n",
    "transform_matrix, offset, z_offset = compute_affine_2d(p1, g1, p2, g2)\n",
    "vertices = transform_model_points_3d(vertices, transform_matrix, offset, z_offset)\n",
    "print('vertices: ', vertices.shape)\n",
    "print('vertices: ', (mesh.vertices).shape)\n"
   ]
  },
  {
   "cell_type": "code",
   "execution_count": 200,
   "metadata": {},
   "outputs": [
    {
     "name": "stdout",
     "output_type": "stream",
     "text": [
      "[array([0, 1]), array([2, 3]), array([4, 5]), array([6, 7]), array([8, 9]), array([10, 11]), array([12, 13]), array([14, 15]), array([22, 23]), array([24, 25])]\n"
     ]
    }
   ],
   "source": [
    "print(mesh.facets)\n",
    "flat_list = sorted([int(item) for sublist in mesh.facets for item in sublist])\n",
    "flat_set = set(flat_list)\n",
    "\n",
    "# print(len(mesh.faces))\n",
    "# print(len(flat_set))\n",
    "\n",
    "all_faces = set(range(len(mesh.faces)))\n",
    "missing_faces = sorted(list(all_faces - flat_set))\n",
    "\n",
    "# 把每个缺失的面作为一个单独 facet\n",
    "missing_facets = [[i] for i in missing_faces]\n",
    "\n",
    "# 合并原始 facet 和新生成的\n",
    "complete_facets = list(mesh.facets) + missing_facets"
   ]
  },
  {
   "cell_type": "code",
   "metadata": {
    "ExecuteTime": {
     "end_time": "2025-04-11T16:57:56.231623Z",
     "start_time": "2025-04-11T16:57:56.208185Z"
    }
   },
   "source": [
    "# ------------------- Convert Mesh to Wireframe ------------------- \n",
    "# mesh.facets(): merge the triangular faces into polygons\n",
    "#                return the polygons as a list of face indexes\n",
    "# --------------------------- End ---------------------------------\n",
    "vertices = mesh.vertices\n",
    "faces = mesh.faces\n",
    "\n",
    "wireframe_edges = np.empty((0, 2), dtype=np.int32)\n",
    "for facet in mesh.facets:\n",
    "    edges = np.array([faces[f_index] for f_index in facet])\n",
    "    edges = np.vstack([\n",
    "        edges[:, [0 ,1]],\n",
    "        edges[:, [1, 2]],\n",
    "        edges[:, [2, 0]]])\n",
    "    edges = np.sort(edges, axis=1)\n",
    "    edge_counts = Counter(map(tuple, edges))\n",
    "    edges = np.array([edge for edge, count in edge_counts.items() if count == 1])\n",
    "    if edges.ndim != 1:\n",
    "        wireframe_edges = np.concatenate([wireframe_edges, edges], axis=0)\n",
    "\n",
    "# Remove duplicate edges\n",
    "wireframe_edges = np.sort(wireframe_edges, axis=1)\n",
    "wireframe_edges = np.unique(wireframe_edges, axis=0)\n",
    "print('Wireframe edges: ', len(wireframe_edges))\n",
    "\n",
    "# Remove duplicate vertices\n",
    "wireframe_vertices_index = wireframe_edges.flatten()\n",
    "wireframe_vertices_index = np.unique(wireframe_vertices_index)\n",
    "wireframe_vertices_index = np.sort(wireframe_vertices_index)\n",
    "print('Wireframe vertices: ', len(wireframe_vertices_index))"
   ],
   "outputs": [
    {
     "name": "stdout",
     "output_type": "stream",
     "text": [
      "Wireframe edges:  191\n",
      "Wireframe vertices:  110\n"
     ]
    }
   ],
   "execution_count": 12
  },
  {
   "cell_type": "code",
   "execution_count": 18,
   "metadata": {},
   "outputs": [
    {
     "name": "stdout",
     "output_type": "stream",
     "text": [
      "Wireframe edges:  123\n",
      "Wireframe vertices:  93\n"
     ]
    },
    {
     "name": "stderr",
     "output_type": "stream",
     "text": [
      "/home/shangfeng/anaconda3/envs/BuildingWorld/lib/python3.9/site-packages/scipy/spatial/distance.py:647: RuntimeWarning: invalid value encountered in scalar divide\n",
      "  dist = 1.0 - uv / math.sqrt(uu * vv)\n"
     ]
    }
   ],
   "source": [
    "# merge multiple segments in one line \n",
    "merged_edges = []\n",
    "edges_list = wireframe_edges.tolist()\n",
    "vertices_list = vertices.tolist()\n",
    "# print('edges_list: ', edges_list)\n",
    "# print(type(vertices))\n",
    "\n",
    "while edges_list:\n",
    "    edge = edges_list.pop()\n",
    "    v1_idx, v2_idx = edge\n",
    "    v1 = vertices_list[v1_idx]\n",
    "    v2 = vertices_list[v2_idx]\n",
    "    \n",
    "    # check if the edge is connected to any other edges\n",
    "    merged = False\n",
    "    temp_merged_edges = merged_edges.copy()\n",
    "    # print('temp_merged_edges: ', temp_merged_edges)\n",
    "    for other_edge in temp_merged_edges:\n",
    "        o1_idx, o2_idx = other_edge\n",
    "        if (v1_idx not in [o1_idx, o2_idx]) and (v2_idx not in [o1_idx, o2_idx]):\n",
    "            continue\n",
    "        o1 = vertices_list[o1_idx]\n",
    "        o2 = vertices_list[o2_idx]\n",
    "    \n",
    "        d1 = np.array(v2) - np.array(v1)\n",
    "        d2 = np.array(o2) - np.array(o1)\n",
    "        value_1 = 1 - abs(1 - cosine(d1, d2))\n",
    "\n",
    "        vs, count = np.unique(np.array([v1, v2, o1, o2]), axis=0, return_counts=True)\n",
    "        vs = vs[count == 1]\n",
    "        try:\n",
    "            d3 = vs[0] - vs[1]\n",
    "        except:\n",
    "            merged = True\n",
    "        value_2 = 1 - abs(1 - cosine(d3, d2))\n",
    "\n",
    "        # if the angle between the two edges is small enough, merge them\n",
    "        if (value_1 < 0.001) and (value_2 < 0.01):\n",
    "            merged_edges.remove(other_edge)\n",
    "            if v1_idx in [o1_idx, o2_idx]:\n",
    "                if v1_idx == o1_idx:\n",
    "                    merged_edges.append((v2_idx, o2_idx))\n",
    "                    v1_idx = o2_idx\n",
    "                elif v1_idx == o2_idx:\n",
    "                    merged_edges.append((v2_idx, o1_idx))\n",
    "                    v1_idx = o1_idx\n",
    "                v1 = vertices[v1_idx]\n",
    "            elif v2_idx in [o1_idx, o2_idx]:\n",
    "                if v2_idx == o1_idx:\n",
    "                    merged_edges.append((v1_idx, o2_idx))\n",
    "                    v2_idx = o2_idx\n",
    "                elif v2_idx == o2_idx:\n",
    "                    merged_edges.append((v1_idx, o1_idx))\n",
    "                    v2_idx = o1_idx\n",
    "                v2 = vertices[v2_idx]\n",
    "            merged = True\n",
    "        \n",
    "    if not merged:\n",
    "        merged_edges.append(edge)\n",
    "\n",
    "edges_list = merged_edges\n",
    "\n",
    "# Remove duplicate edges\n",
    "wireframe_edges = np.sort(edges_list, axis=1)\n",
    "wireframe_edges = np.unique(wireframe_edges, axis=0)\n",
    "print('Wireframe edges: ', len(wireframe_edges))\n",
    "\n",
    "# Remove duplicate vertices\n",
    "wireframe_vertices_index = wireframe_edges.flatten()\n",
    "wireframe_vertices_index = np.unique(wireframe_vertices_index)\n",
    "wireframe_vertices_index = np.sort(wireframe_vertices_index)\n",
    "print('Wireframe vertices: ', len(wireframe_vertices_index))"
   ]
  },
  {
   "cell_type": "code",
   "metadata": {
    "ExecuteTime": {
     "end_time": "2025-04-11T16:58:01.649692Z",
     "start_time": "2025-04-11T16:58:01.634857Z"
    }
   },
   "source": [
    "# ------------------- Save Wireframe  -------------------\n",
    "wireframe_file = '/media/shangfeng/storage/shangfeng/BuildingWorld/Calgary/wireframe/1024.obj'\n",
    "with open(wireframe_file, 'w') as f:\n",
    "    f.write('# OBJ file\\n')\n",
    "    f.write('# Vertices: '+ str(len(wireframe_vertices_index)) +'\\n')\n",
    "    f.write('# Edges: '+ str(len(wireframe_edges)) +'\\n')\n",
    "    \n",
    "    for vertex_index in wireframe_vertices_index:\n",
    "        f.write('v ')\n",
    "        f.write(' '.join(map(str, vertices[int(vertex_index)])) + '\\n')\n",
    "        \n",
    "    for edge in wireframe_edges:\n",
    "        f.write('l ')\n",
    "        f.write(str(np.where(wireframe_vertices_index == edge[0])[0][0]+1) + ' ')\n",
    "        f.write(str(np.where(wireframe_vertices_index == edge[1])[0][0]+1) + '\\n')"
   ],
   "outputs": [],
   "execution_count": 13
  },
  {
   "cell_type": "code",
   "execution_count": null,
   "metadata": {},
   "outputs": [],
   "source": [
    "# ------------------- Coordinate projection -------------------\n",
    "\n",
    "import numpy as np\n",
    "from pyproj import CRS, Transformer\n",
    "\n",
    "def parse_wld3(wld3_path):\n",
    "    with open(wld3_path, 'r') as f:\n",
    "        lines = f.readlines()\n",
    "\n",
    "    def parse_line(line):\n",
    "        parts = line.strip().split()\n",
    "        from_pt = np.array([float(x) for x in parts[0].split(',')])\n",
    "        to_pt = np.array([float(x) for x in parts[1].split(',')])\n",
    "        return from_pt, to_pt\n",
    "\n",
    "    p1, g1 = parse_line(lines[0])\n",
    "    p2, g2 = parse_line(lines[1])\n",
    "    return p1, g1, p2, g2\n",
    "\n",
    "def compute_affine_2d(p1, g1, p2, g2):\n",
    "    v_model = p2[:2] - p1[:2]\n",
    "    v_geo = g2[:2] - g1[:2]\n",
    "\n",
    "    scale = np.linalg.norm(v_geo) / np.linalg.norm(v_model)\n",
    "    angle = np.arctan2(v_geo[1], v_geo[0]) - np.arctan2(v_model[1], v_model[0])\n",
    "\n",
    "    cos_r = np.cos(angle)\n",
    "    sin_r = np.sin(angle)\n",
    "    transform_matrix = scale * np.array([[cos_r, -sin_r],\n",
    "                                         [sin_r,  cos_r]])\n",
    "    offset = g1[:2] - transform_matrix @ p1[:2]\n",
    "    z_offset = g1[2] - p1[2]\n",
    "\n",
    "    return transform_matrix, offset, z_offset\n",
    "\n",
    "def transform_model_point_3d(p, transform_matrix, offset, z_offset):\n",
    "    xy_geo = transform_matrix @ p[:2] + offset\n",
    "    z_geo = p[2] + z_offset\n",
    "    return np.array([xy_geo[0], xy_geo[1], z_geo])\n",
    "\n",
    "def read_crs_from_prj(prj_path):\n",
    "    with open(prj_path, 'r') as f:\n",
    "        wkt = f.read()\n",
    "    return CRS.from_wkt(wkt)\n",
    "\n",
    "if __name__ == '__main__':\n",
    "    # 替换为你的文件路径\n",
    "    wld3_file = '/media/shangfeng/storage/shangfeng/BuildingWorld/Calgary/Buildings3D_2023January3/OID_1/esriGeometryMultiPatch.wld3'\n",
    "    prj_file = '/media/shangfeng/storage/shangfeng/BuildingWorld/Calgary/Buildings3D_2023January3/OID_1/esriGeometryMultiPatch.prj'\n",
    "\n",
    "    # 解析文件和建立转换矩阵\n",
    "    p1, g1, p2, g2 = parse_wld3(wld3_file)\n",
    "    transform_matrix, offset, z_offset = compute_affine_2d(p1, g1, p2, g2)\n",
    "    crs_proj = read_crs_from_prj(prj_file)\n",
    "    crs_geo = CRS.from_epsg(4326)  # WGS84 经纬度\n",
    "\n",
    "    transformer = Transformer.from_crs(crs_proj, crs_geo, always_xy=True)\n",
    "\n",
    "    # 测试：模型空间中的任意点\n",
    "    model_point = np.array([20, 1000, 0])\n",
    "\n",
    "    # 变换到地图坐标系\n",
    "    projected_point = transform_model_point_3d(model_point, transform_matrix, offset, z_offset)\n",
    "    print(\"地图投影坐标 (X, Y, Z):\", projected_point)\n",
    "\n",
    "    # 转换为经纬度\n",
    "    lon, lat = transformer.transform(projected_point[0], projected_point[1])\n",
    "    print(f\"经纬度坐标: Lat: {lat:.6f}, Lon: {lon:.6f}, Elevation: {projected_point[2]:.2f} m\")\n"
   ]
  },
  {
   "metadata": {},
   "cell_type": "code",
   "outputs": [],
   "execution_count": null,
   "source": ""
  }
 ],
 "metadata": {
  "kernelspec": {
   "display_name": "BuildingWorld",
   "language": "python",
   "name": "python3"
  },
  "language_info": {
   "codemirror_mode": {
    "name": "ipython",
    "version": 3
   },
   "file_extension": ".py",
   "mimetype": "text/x-python",
   "name": "python",
   "nbconvert_exporter": "python",
   "pygments_lexer": "ipython3",
   "version": "3.9.21"
  }
 },
 "nbformat": 4,
 "nbformat_minor": 2
}
